{
 "cells": [
  {
   "cell_type": "code",
   "execution_count": 2,
   "metadata": {},
   "outputs": [],
   "source": [
    "import pandas as pd\n",
    "import os\n",
    "import sys\n",
    "import win32cred\n",
    "import requests\n",
    "from datetime import datetime\n",
    "import scipy.stats as stats\n",
    "import matplotlib.pyplot as plt\n",
    "from eodhd import APIClient\n",
    "from ticker_loader import load_SPY_components\n",
    "import sqlite3\n",
    "from tqdm import tqdm\n",
    "import time \n",
    "import pickle\n",
    "import plotly.express as px\n",
    "import plotly.graph_objects as go\n",
    "import seaborn as sns\n",
    "\n",
    "from SQLite_tools import query_stock_data"
   ]
  },
  {
   "cell_type": "code",
   "execution_count": 3,
   "metadata": {},
   "outputs": [
    {
     "data": {
      "text/html": [
       "<div>\n",
       "<style scoped>\n",
       "    .dataframe tbody tr th:only-of-type {\n",
       "        vertical-align: middle;\n",
       "    }\n",
       "\n",
       "    .dataframe tbody tr th {\n",
       "        vertical-align: top;\n",
       "    }\n",
       "\n",
       "    .dataframe thead th {\n",
       "        text-align: right;\n",
       "    }\n",
       "</style>\n",
       "<table border=\"1\" class=\"dataframe\">\n",
       "  <thead>\n",
       "    <tr style=\"text-align: right;\">\n",
       "      <th></th>\n",
       "      <th>Ticker</th>\n",
       "      <th>Name</th>\n",
       "      <th>Currency</th>\n",
       "      <th>Sector</th>\n",
       "      <th>Industry</th>\n",
       "      <th>IPODate</th>\n",
       "      <th>FiscalYearEnd</th>\n",
       "    </tr>\n",
       "  </thead>\n",
       "  <tbody>\n",
       "    <tr>\n",
       "      <th>0</th>\n",
       "      <td>HMA</td>\n",
       "      <td>Heartland Media Acquisition Corp.</td>\n",
       "      <td>USD</td>\n",
       "      <td>Financials</td>\n",
       "      <td>Investment Holding Companies</td>\n",
       "      <td>2022-03-14</td>\n",
       "      <td>December</td>\n",
       "    </tr>\n",
       "    <tr>\n",
       "      <th>1</th>\n",
       "      <td>PH</td>\n",
       "      <td>Parker-Hannifin Corporation</td>\n",
       "      <td>USD</td>\n",
       "      <td>Industrials</td>\n",
       "      <td>Specialty Industrial Machinery</td>\n",
       "      <td>1985-07-01</td>\n",
       "      <td>June</td>\n",
       "    </tr>\n",
       "    <tr>\n",
       "      <th>2</th>\n",
       "      <td>CMS</td>\n",
       "      <td>CMS Energy Corporation</td>\n",
       "      <td>USD</td>\n",
       "      <td>Utilities</td>\n",
       "      <td>Utilities - Regulated Electric</td>\n",
       "      <td>1984-12-31</td>\n",
       "      <td>December</td>\n",
       "    </tr>\n",
       "    <tr>\n",
       "      <th>3</th>\n",
       "      <td>OI</td>\n",
       "      <td>O-I Glass Inc</td>\n",
       "      <td>USD</td>\n",
       "      <td>Consumer Cyclical</td>\n",
       "      <td>Packaging &amp; Containers</td>\n",
       "      <td>1991-12-11</td>\n",
       "      <td>December</td>\n",
       "    </tr>\n",
       "    <tr>\n",
       "      <th>4</th>\n",
       "      <td>LDG</td>\n",
       "      <td>Longs Drug Stores Corp</td>\n",
       "      <td>USD</td>\n",
       "      <td>Other</td>\n",
       "      <td>Other</td>\n",
       "      <td>None</td>\n",
       "      <td>None</td>\n",
       "    </tr>\n",
       "    <tr>\n",
       "      <th>...</th>\n",
       "      <td>...</td>\n",
       "      <td>...</td>\n",
       "      <td>...</td>\n",
       "      <td>...</td>\n",
       "      <td>...</td>\n",
       "      <td>...</td>\n",
       "      <td>...</td>\n",
       "    </tr>\n",
       "    <tr>\n",
       "      <th>1087</th>\n",
       "      <td>CNG</td>\n",
       "      <td>Consolidated Natural Gas Co</td>\n",
       "      <td>USD</td>\n",
       "      <td>Other</td>\n",
       "      <td>Other</td>\n",
       "      <td>None</td>\n",
       "      <td>None</td>\n",
       "    </tr>\n",
       "    <tr>\n",
       "      <th>1088</th>\n",
       "      <td>YRCW</td>\n",
       "      <td>Yellow Corporation</td>\n",
       "      <td>USD</td>\n",
       "      <td>Industrials</td>\n",
       "      <td>Trucking</td>\n",
       "      <td>1986-07-09</td>\n",
       "      <td>December</td>\n",
       "    </tr>\n",
       "    <tr>\n",
       "      <th>1089</th>\n",
       "      <td>LVLT</td>\n",
       "      <td>Level 3 Communications Inc</td>\n",
       "      <td>USD</td>\n",
       "      <td>Other</td>\n",
       "      <td>Other</td>\n",
       "      <td>1986-10-17</td>\n",
       "      <td>December</td>\n",
       "    </tr>\n",
       "    <tr>\n",
       "      <th>1090</th>\n",
       "      <td>UPR</td>\n",
       "      <td>Union Pacific Resources Group Inc</td>\n",
       "      <td>USD</td>\n",
       "      <td>Other</td>\n",
       "      <td>Other</td>\n",
       "      <td>None</td>\n",
       "      <td>None</td>\n",
       "    </tr>\n",
       "    <tr>\n",
       "      <th>1091</th>\n",
       "      <td>BLL</td>\n",
       "      <td>Ball Corporation</td>\n",
       "      <td>USD</td>\n",
       "      <td>Consumer Goods</td>\n",
       "      <td>Packaging &amp; Containers</td>\n",
       "      <td>1984-09-07</td>\n",
       "      <td>December</td>\n",
       "    </tr>\n",
       "  </tbody>\n",
       "</table>\n",
       "<p>1092 rows × 7 columns</p>\n",
       "</div>"
      ],
      "text/plain": [
       "     Ticker                               Name Currency             Sector  \\\n",
       "0       HMA  Heartland Media Acquisition Corp.      USD         Financials   \n",
       "1        PH        Parker-Hannifin Corporation      USD        Industrials   \n",
       "2       CMS             CMS Energy Corporation      USD          Utilities   \n",
       "3        OI                      O-I Glass Inc      USD  Consumer Cyclical   \n",
       "4       LDG             Longs Drug Stores Corp      USD              Other   \n",
       "...     ...                                ...      ...                ...   \n",
       "1087    CNG        Consolidated Natural Gas Co      USD              Other   \n",
       "1088   YRCW                 Yellow Corporation      USD        Industrials   \n",
       "1089   LVLT         Level 3 Communications Inc      USD              Other   \n",
       "1090    UPR  Union Pacific Resources Group Inc      USD              Other   \n",
       "1091    BLL                   Ball Corporation      USD     Consumer Goods   \n",
       "\n",
       "                            Industry     IPODate FiscalYearEnd  \n",
       "0       Investment Holding Companies  2022-03-14      December  \n",
       "1     Specialty Industrial Machinery  1985-07-01          June  \n",
       "2     Utilities - Regulated Electric  1984-12-31      December  \n",
       "3             Packaging & Containers  1991-12-11      December  \n",
       "4                              Other        None          None  \n",
       "...                              ...         ...           ...  \n",
       "1087                           Other        None          None  \n",
       "1088                        Trucking  1986-07-09      December  \n",
       "1089                           Other  1986-10-17      December  \n",
       "1090                           Other        None          None  \n",
       "1091          Packaging & Containers  1984-09-07      December  \n",
       "\n",
       "[1092 rows x 7 columns]"
      ]
     },
     "execution_count": 3,
     "metadata": {},
     "output_type": "execute_result"
    }
   ],
   "source": [
    "stocks = query_stock_data(table=\"Stocks\")\n",
    "stocks"
   ]
  },
  {
   "cell_type": "code",
   "execution_count": null,
   "metadata": {},
   "outputs": [
    {
     "data": {
      "application/vnd.plotly.v1+json": {
       "config": {
        "plotlyServerURL": "https://plot.ly"
       },
       "data": [
        {
         "branchvalues": "total",
         "customdata": [
          [
           " Banks - Regional<br>Stocks: 3<br>Percentage: 0.28%",
           3,
           0.2764976958525346,
           "Financial Services"
          ],
          [
           " Drug Manufacturers - General<br>Stocks: 2<br>Percentage: 0.18%",
           2,
           0.18433179723502305,
           "Healthcare"
          ],
          [
           " Drug Manufacturers - Specialty & Generic<br>Stocks: 1<br>Percentage: 0.09%",
           1,
           0.09216589861751152,
           "Healthcare"
          ],
          [
           " REIT - Industrial<br>Stocks: 1<br>Percentage: 0.09%",
           1,
           0.09216589861751152,
           "Real Estate"
          ],
          [
           " Software - Application<br>Stocks: 2<br>Percentage: 0.18%",
           2,
           0.18433179723502305,
           "Technology"
          ],
          [
           " Software - Infrastructure<br>Stocks: 1<br>Percentage: 0.09%",
           1,
           0.09216589861751152,
           "Technology"
          ],
          [
           " Utilities - Independent Power Producers<br>Stocks: 1<br>Percentage: 0.09%",
           1,
           0.09216589861751152,
           "Utilities"
          ],
          [
           "Advertising Agencies<br>Stocks: 2<br>Percentage: 0.18%",
           2,
           0.18433179723502305,
           "Communication Services"
          ],
          [
           "Aerospace & Defense<br>Stocks: 13<br>Percentage: 1.20%",
           13,
           1.19815668202765,
           "Industrials"
          ],
          [
           "Asset Management<br>Stocks: 1<br>Percentage: 0.09%",
           1,
           0.09216589861751152,
           "Financial"
          ],
          [
           "Apparel Retail<br>Stocks: 8<br>Percentage: 0.74%",
           8,
           0.7373271889400922,
           "Consumer Cyclical"
          ],
          [
           "Airports & Air Services<br>Stocks: 1<br>Percentage: 0.09%",
           1,
           0.09216589861751152,
           "Industrials"
          ],
          [
           "Apparel Manufacturing<br>Stocks: 7<br>Percentage: 0.65%",
           7,
           0.6451612903225806,
           "Consumer Cyclical"
          ],
          [
           "Agricultural Inputs<br>Stocks: 5<br>Percentage: 0.46%",
           5,
           0.4608294930875576,
           "Basic Materials"
          ],
          [
           "Aerospace/Defense Products & Services<br>Stocks: 1<br>Percentage: 0.09%",
           1,
           0.09216589861751152,
           "Industrial Goods"
          ],
          [
           "Airlines<br>Stocks: 5<br>Percentage: 0.46%",
           5,
           0.4608294930875576,
           "Industrials"
          ],
          [
           "Building Products & Equipment<br>Stocks: 6<br>Percentage: 0.55%",
           6,
           0.5529953917050692,
           "Industrials"
          ],
          [
           "Copper<br>Stocks: 1<br>Percentage: 0.09%",
           1,
           0.09216589861751152,
           "Basic Materials"
          ],
          [
           "Consumer Electronics<br>Stocks: 1<br>Percentage: 0.09%",
           1,
           0.09216589861751152,
           "Technology"
          ],
          [
           "Consulting Services<br>Stocks: 4<br>Percentage: 0.37%",
           4,
           0.3686635944700461,
           "Industrials"
          ],
          [
           "Conglomerates<br>Stocks: 3<br>Percentage: 0.28%",
           3,
           0.2764976958525346,
           "Industrials"
          ],
          [
           "Confectioners<br>Stocks: 2<br>Percentage: 0.18%",
           2,
           0.18433179723502305,
           "Consumer Defensive"
          ],
          [
           "Computer Hardware<br>Stocks: 7<br>Percentage: 0.65%",
           7,
           0.6451612903225806,
           "Technology"
          ],
          [
           "Chemicals<br>Stocks: 2<br>Percentage: 0.18%",
           2,
           0.18433179723502305,
           "Basic Materials"
          ],
          [
           "Capital Markets<br>Stocks: 8<br>Percentage: 0.74%",
           8,
           0.7373271889400922,
           "Financial Services"
          ],
          [
           "Business Services<br>Stocks: 1<br>Percentage: 0.09%",
           1,
           0.09216589861751152,
           "Services"
          ],
          [
           "Building Materials<br>Stocks: 2<br>Percentage: 0.18%",
           2,
           0.18433179723502305,
           "Basic Materials"
          ],
          [
           "Communication Equipment<br>Stocks: 8<br>Percentage: 0.74%",
           8,
           0.7373271889400922,
           "Technology"
          ],
          [
           "Biotechnology & Medical Research<br>Stocks: 1<br>Percentage: 0.09%",
           1,
           0.09216589861751152,
           "Healthcare"
          ],
          [
           "Broadcasting<br>Stocks: 2<br>Percentage: 0.18%",
           2,
           0.18433179723502305,
           "Communication Services"
          ],
          [
           "Asset Management<br>Stocks: 21<br>Percentage: 1.94%",
           21,
           1.935483870967742,
           "Financial Services"
          ],
          [
           "Auto & Truck Dealerships<br>Stocks: 2<br>Percentage: 0.18%",
           2,
           0.18433179723502305,
           "Consumer Cyclical"
          ],
          [
           "Auto Components<br>Stocks: 1<br>Percentage: 0.09%",
           1,
           0.09216589861751152,
           "Consumer Discretionary"
          ],
          [
           "Auto Parts<br>Stocks: 6<br>Percentage: 0.55%",
           6,
           0.5529953917050692,
           "Consumer Cyclical"
          ],
          [
           "Auto Manufacturers<br>Stocks: 3<br>Percentage: 0.28%",
           3,
           0.2764976958525346,
           "Consumer Cyclical"
          ],
          [
           "Banks - Regional<br>Stocks: 15<br>Percentage: 1.38%",
           15,
           1.3824884792626728,
           "Financial Services"
          ],
          [
           "Beverages - Brewers<br>Stocks: 4<br>Percentage: 0.37%",
           4,
           0.3686635944700461,
           "Consumer Defensive"
          ],
          [
           "Beverages - Non-Alcoholic<br>Stocks: 5<br>Percentage: 0.46%",
           5,
           0.4608294930875576,
           "Consumer Defensive"
          ],
          [
           "Biotechnology<br>Stocks: 14<br>Percentage: 1.29%",
           14,
           1.2903225806451613,
           "Healthcare"
          ],
          [
           "Banks - Diversified<br>Stocks: 5<br>Percentage: 0.46%",
           5,
           0.4608294930875576,
           "Financial Services"
          ],
          [
           "Engineering & Construction<br>Stocks: 3<br>Percentage: 0.28%",
           3,
           0.2764976958525346,
           "Industrials"
          ],
          [
           "Education & Training Services<br>Stocks: 3<br>Percentage: 0.28%",
           3,
           0.2764976958525346,
           "Consumer Defensive"
          ],
          [
           "Electronic Gaming & Multimedia<br>Stocks: 3<br>Percentage: 0.28%",
           3,
           0.2764976958525346,
           "Communication Services"
          ],
          [
           "Electronic Components<br>Stocks: 5<br>Percentage: 0.46%",
           5,
           0.4608294930875576,
           "Technology"
          ],
          [
           "Drug Manufacturers - Specialty & Generic<br>Stocks: 7<br>Percentage: 0.65%",
           7,
           0.6451612903225806,
           "Healthcare"
          ],
          [
           "Electrical Equipment & Parts<br>Stocks: 4<br>Percentage: 0.37%",
           4,
           0.3686635944700461,
           "Industrials"
          ],
          [
           "Discount Stores<br>Stocks: 6<br>Percentage: 0.55%",
           6,
           0.5529953917050692,
           "Consumer Defensive"
          ],
          [
           "Diagnostics & Research<br>Stocks: 13<br>Percentage: 1.20%",
           13,
           1.19815668202765,
           "Healthcare"
          ],
          [
           "Department Stores<br>Stocks: 5<br>Percentage: 0.46%",
           5,
           0.4608294930875576,
           "Consumer Cyclical"
          ],
          [
           "Credit Services<br>Stocks: 12<br>Percentage: 1.11%",
           12,
           1.1059907834101383,
           "Financial Services"
          ],
          [
           "Drug Manufacturers - General<br>Stocks: 10<br>Percentage: 0.92%",
           10,
           0.9216589861751152,
           "Healthcare"
          ],
          [
           "Entertainment<br>Stocks: 13<br>Percentage: 1.20%",
           13,
           1.19815668202765,
           "Communication Services"
          ],
          [
           "Farm & Heavy Construction Machinery<br>Stocks: 7<br>Percentage: 0.65%",
           7,
           0.6451612903225806,
           "Industrials"
          ],
          [
           "Grocery Stores<br>Stocks: 1<br>Percentage: 0.09%",
           1,
           0.09216589861751152,
           "Consumer Defensive"
          ],
          [
           "Gold<br>Stocks: 1<br>Percentage: 0.09%",
           1,
           0.09216589861751152,
           "Basic Materials"
          ],
          [
           "Gambling<br>Stocks: 2<br>Percentage: 0.18%",
           2,
           0.18433179723502305,
           "Consumer Cyclical"
          ],
          [
           "Furnishings, Fixtures & Appliances<br>Stocks: 3<br>Percentage: 0.28%",
           3,
           0.2764976958525346,
           "Consumer Cyclical"
          ],
          [
           "Footwear & Accessories<br>Stocks: 3<br>Percentage: 0.28%",
           3,
           0.2764976958525346,
           "Consumer Cyclical"
          ],
          [
           "Financial Data & Stock Exchanges<br>Stocks: 9<br>Percentage: 0.83%",
           9,
           0.8294930875576038,
           "Financial Services"
          ],
          [
           "Farm Products<br>Stocks: 3<br>Percentage: 0.28%",
           3,
           0.2764976958525346,
           "Consumer Defensive"
          ],
          [
           "Food Distribution<br>Stocks: 1<br>Percentage: 0.09%",
           1,
           0.09216589861751152,
           "Consumer Defensive"
          ],
          [
           "Health Care Technology<br>Stocks: 1<br>Percentage: 0.09%",
           1,
           0.09216589861751152,
           "Healthcare"
          ],
          [
           "Insurance - Diversified<br>Stocks: 2<br>Percentage: 0.18%",
           2,
           0.18433179723502305,
           "Financial Services"
          ],
          [
           "Insurance - Specialty<br>Stocks: 3<br>Percentage: 0.28%",
           3,
           0.2764976958525346,
           "Financial Services"
          ],
          [
           "Insurance - Reinsurance<br>Stocks: 1<br>Percentage: 0.09%",
           1,
           0.09216589861751152,
           "Financial Services"
          ],
          [
           "Insurance - Property & Casualty<br>Stocks: 9<br>Percentage: 0.83%",
           9,
           0.8294930875576038,
           "Financial Services"
          ],
          [
           "Insurance - Life<br>Stocks: 9<br>Percentage: 0.83%",
           9,
           0.8294930875576038,
           "Financial Services"
          ],
          [
           "Information Technology Services<br>Stocks: 17<br>Percentage: 1.57%",
           17,
           1.566820276497696,
           "Technology"
          ],
          [
           "Insurance Brokers<br>Stocks: 6<br>Percentage: 0.55%",
           6,
           0.5529953917050692,
           "Financial Services"
          ],
          [
           "Household & Personal Products<br>Stocks: 10<br>Percentage: 0.92%",
           10,
           0.9216589861751152,
           "Consumer Defensive"
          ],
          [
           "Homebuilding & Construction Supplies<br>Stocks: 1<br>Percentage: 0.09%",
           1,
           0.09216589861751152,
           "Consumer Cyclical"
          ],
          [
           "Home Improvement Retail<br>Stocks: 2<br>Percentage: 0.18%",
           2,
           0.18433179723502305,
           "Consumer Cyclical"
          ],
          [
           "Healthcare Plans<br>Stocks: 8<br>Percentage: 0.74%",
           8,
           0.7373271889400922,
           "Healthcare"
          ],
          [
           "Healthcare Equipment & Supplies<br>Stocks: 1<br>Percentage: 0.09%",
           1,
           0.09216589861751152,
           "Healthcare"
          ],
          [
           "Health Information Services<br>Stocks: 2<br>Percentage: 0.18%",
           2,
           0.18433179723502305,
           "Healthcare"
          ],
          [
           "Industrial Distribution<br>Stocks: 4<br>Percentage: 0.37%",
           4,
           0.3686635944700461,
           "Industrials"
          ],
          [
           "Internet Content & Information<br>Stocks: 8<br>Percentage: 0.74%",
           8,
           0.7373271889400922,
           "Communication Services"
          ],
          [
           "Integrated Freight & Logistics<br>Stocks: 6<br>Percentage: 0.55%",
           6,
           0.5529953917050692,
           "Industrials"
          ],
          [
           "Medical Instruments & Supplies<br>Stocks: 11<br>Percentage: 1.01%",
           11,
           1.0138248847926268,
           "Healthcare"
          ],
          [
           "Oil & Gas Equipment & Services<br>Stocks: 7<br>Percentage: 0.65%",
           7,
           0.6451612903225806,
           "Energy"
          ],
          [
           "Oil & Gas E&P<br>Stocks: 29<br>Percentage: 2.67%",
           29,
           2.672811059907834,
           "Energy"
          ],
          [
           "Oil & Gas Drilling<br>Stocks: 5<br>Percentage: 0.46%",
           5,
           0.4608294930875576,
           "Energy"
          ],
          [
           "Mortgage Finance<br>Stocks: 2<br>Percentage: 0.18%",
           2,
           0.18433179723502305,
           "Financial Services"
          ],
          [
           "Metals & Mining<br>Stocks: 1<br>Percentage: 0.09%",
           1,
           0.09216589861751152,
           "Basic Materials"
          ],
          [
           "Metal Fabrication<br>Stocks: 4<br>Percentage: 0.37%",
           4,
           0.3686635944700461,
           "Industrials"
          ],
          [
           "Medical Devices<br>Stocks: 11<br>Percentage: 1.01%",
           11,
           1.0138248847926268,
           "Healthcare"
          ],
          [
           "Medical Distribution<br>Stocks: 6<br>Percentage: 0.55%",
           6,
           0.5529953917050692,
           "Healthcare"
          ],
          [
           "Marine Shipping<br>Stocks: 3<br>Percentage: 0.28%",
           3,
           0.2764976958525346,
           "Industrials"
          ],
          [
           "Luxury Goods<br>Stocks: 4<br>Percentage: 0.37%",
           4,
           0.3686635944700461,
           "Consumer Cyclical"
          ],
          [
           "Lodging<br>Stocks: 3<br>Percentage: 0.28%",
           3,
           0.2764976958525346,
           "Consumer Cyclical"
          ],
          [
           "Leisure<br>Stocks: 3<br>Percentage: 0.28%",
           3,
           0.2764976958525346,
           "Consumer Cyclical"
          ],
          [
           "Investment Holding Companies<br>Stocks: 1<br>Percentage: 0.09%",
           1,
           0.09216589861751152,
           "Financials"
          ],
          [
           "Investment Banking & Investment Services<br>Stocks: 1<br>Percentage: 0.09%",
           1,
           0.09216589861751152,
           "Financials"
          ],
          [
           "Internet Retail<br>Stocks: 5<br>Percentage: 0.46%",
           5,
           0.4608294930875576,
           "Consumer Cyclical"
          ],
          [
           "Medical Care Facilities<br>Stocks: 6<br>Percentage: 0.55%",
           6,
           0.5529953917050692,
           "Healthcare"
          ],
          [
           "Oil & Gas Integrated<br>Stocks: 4<br>Percentage: 0.37%",
           4,
           0.3686635944700461,
           "Energy"
          ],
          [
           "REIT - Diversified<br>Stocks: 2<br>Percentage: 0.18%",
           2,
           0.18433179723502305,
           "Real Estate"
          ],
          [
           "Recreational Vehicles<br>Stocks: 2<br>Percentage: 0.18%",
           2,
           0.18433179723502305,
           "Consumer Cyclical"
          ],
          [
           "REIT - Hotel & Motel<br>Stocks: 1<br>Percentage: 0.09%",
           1,
           0.09216589861751152,
           "Real Estate"
          ],
          [
           "REIT - Industrial<br>Stocks: 3<br>Percentage: 0.28%",
           3,
           0.2764976958525346,
           "Real Estate"
          ],
          [
           "REIT - Office<br>Stocks: 4<br>Percentage: 0.37%",
           4,
           0.3686635944700461,
           "Real Estate"
          ],
          [
           "Real Estate Services<br>Stocks: 5<br>Percentage: 0.46%",
           5,
           0.4608294930875576,
           "Real Estate"
          ],
          [
           "REIT - Retail<br>Stocks: 7<br>Percentage: 0.65%",
           7,
           0.6451612903225806,
           "Real Estate"
          ],
          [
           "REIT - Specialty<br>Stocks: 8<br>Percentage: 0.74%",
           8,
           0.7373271889400922,
           "Real Estate"
          ],
          [
           "Railroads<br>Stocks: 5<br>Percentage: 0.46%",
           5,
           0.4608294930875576,
           "Industrials"
          ],
          [
           "REIT - Residential<br>Stocks: 10<br>Percentage: 0.92%",
           10,
           0.9216589861751152,
           "Real Estate"
          ],
          [
           "Publishing<br>Stocks: 3<br>Percentage: 0.28%",
           3,
           0.2764976958525346,
           "Communication Services"
          ],
          [
           "REIT - Healthcare Facilities<br>Stocks: 3<br>Percentage: 0.28%",
           3,
           0.2764976958525346,
           "Real Estate"
          ],
          [
           "Pharmaceuticals<br>Stocks: 2<br>Percentage: 0.18%",
           2,
           0.18433179723502305,
           "Healthcare"
          ],
          [
           "Pharmaceutical Retailers<br>Stocks: 2<br>Percentage: 0.18%",
           2,
           0.18433179723502305,
           "Healthcare"
          ],
          [
           "Personal Services<br>Stocks: 3<br>Percentage: 0.28%",
           3,
           0.2764976958525346,
           "Consumer Cyclical"
          ],
          [
           "Packaging & Containers<br>Stocks: 1<br>Percentage: 0.09%",
           1,
           0.09216589861751152,
           "Consumer Goods"
          ],
          [
           "Packaging & Containers<br>Stocks: 11<br>Percentage: 1.01%",
           11,
           1.0138248847926268,
           "Consumer Cyclical"
          ],
          [
           "Packaged Foods<br>Stocks: 10<br>Percentage: 0.92%",
           10,
           0.9216589861751152,
           "Consumer Defensive"
          ],
          [
           "Other Industrial Metals & Mining<br>Stocks: 2<br>Percentage: 0.18%",
           2,
           0.18433179723502305,
           "Basic Materials"
          ],
          [
           "Oil, Gas & Consumable Fuels<br>Stocks: 1<br>Percentage: 0.09%",
           1,
           0.09216589861751152,
           "Energy"
          ],
          [
           "Oil & Gas Refining & Marketing<br>Stocks: 4<br>Percentage: 0.37%",
           4,
           0.3686635944700461,
           "Energy"
          ],
          [
           "Oil & Gas Midstream<br>Stocks: 7<br>Percentage: 0.65%",
           7,
           0.6451612903225806,
           "Energy"
          ],
          [
           "Pollution & Treatment Controls<br>Stocks: 1<br>Percentage: 0.09%",
           1,
           0.09216589861751152,
           "Industrials"
          ],
          [
           "Software - Application<br>Stocks: 17<br>Percentage: 1.57%",
           17,
           1.566820276497696,
           "Technology"
          ],
          [
           "Semiconductors<br>Stocks: 17<br>Percentage: 1.57%",
           17,
           1.566820276497696,
           "Technology"
          ],
          [
           "Semiconductor Equipment & Materials<br>Stocks: 5<br>Percentage: 0.46%",
           5,
           0.4608294930875576,
           "Technology"
          ],
          [
           "Security & Protection Services<br>Stocks: 4<br>Percentage: 0.37%",
           4,
           0.3686635944700461,
           "Industrials"
          ],
          [
           "Scientific & Technical Instruments<br>Stocks: 7<br>Percentage: 0.65%",
           7,
           0.6451612903225806,
           "Technology"
          ],
          [
           "Software - Infrastructure<br>Stocks: 18<br>Percentage: 1.66%",
           18,
           1.6589861751152075,
           "Technology"
          ],
          [
           "Resorts & Casinos<br>Stocks: 5<br>Percentage: 0.46%",
           5,
           0.4608294930875576,
           "Consumer Cyclical"
          ],
          [
           "Residential Construction<br>Stocks: 5<br>Percentage: 0.46%",
           5,
           0.4608294930875576,
           "Consumer Cyclical"
          ],
          [
           "Residential & Commercial REITs<br>Stocks: 1<br>Percentage: 0.09%",
           1,
           0.09216589861751152,
           "Real Estate"
          ],
          [
           "Rental & Leasing Services<br>Stocks: 4<br>Percentage: 0.37%",
           4,
           0.3686635944700461,
           "Industrials"
          ],
          [
           "Restaurants<br>Stocks: 9<br>Percentage: 0.83%",
           9,
           0.8294930875576038,
           "Consumer Cyclical"
          ],
          [
           "Solar<br>Stocks: 3<br>Percentage: 0.28%",
           3,
           0.2764976958525346,
           "Technology"
          ],
          [
           "Trucking<br>Stocks: 2<br>Percentage: 0.18%",
           2,
           0.18433179723502305,
           "Industrials"
          ],
          [
           "Travel Services<br>Stocks: 7<br>Percentage: 0.65%",
           7,
           0.6451612903225806,
           "Consumer Cyclical"
          ],
          [
           "Tools & Accessories<br>Stocks: 3<br>Percentage: 0.28%",
           3,
           0.2764976958525346,
           "Industrials"
          ],
          [
           "Tobacco<br>Stocks: 2<br>Percentage: 0.18%",
           2,
           0.18433179723502305,
           "Consumer Defensive"
          ],
          [
           "Thermal Coal<br>Stocks: 1<br>Percentage: 0.09%",
           1,
           0.09216589861751152,
           "Energy"
          ],
          [
           "Telecom Services<br>Stocks: 14<br>Percentage: 1.29%",
           14,
           1.2903225806451613,
           "Communication Services"
          ],
          [
           "Steel<br>Stocks: 5<br>Percentage: 0.46%",
           5,
           0.4608294930875576,
           "Basic Materials"
          ],
          [
           "Specialty Retailers<br>Stocks: 1<br>Percentage: 0.09%",
           1,
           0.09216589861751152,
           "Consumer Cyclical"
          ],
          [
           "Specialty Retail<br>Stocks: 11<br>Percentage: 1.01%",
           11,
           1.0138248847926268,
           "Consumer Cyclical"
          ],
          [
           "Specialty Industrial Machinery<br>Stocks: 22<br>Percentage: 2.03%",
           22,
           2.0276497695852536,
           "Industrials"
          ],
          [
           "Specialty Chemicals<br>Stocks: 12<br>Percentage: 1.11%",
           12,
           1.1059907834101383,
           "Basic Materials"
          ],
          [
           "Specialty Business Services<br>Stocks: 5<br>Percentage: 0.46%",
           5,
           0.4608294930875576,
           "Industrials"
          ],
          [
           "Staffing & Employment Services<br>Stocks: 1<br>Percentage: 0.09%",
           1,
           0.09216589861751152,
           "Industrials"
          ],
          [
           "Utilities - Renewable<br>Stocks: 3<br>Percentage: 0.28%",
           3,
           0.2764976958525346,
           "Utilities"
          ],
          [
           "Utilities - Diversified<br>Stocks: 2<br>Percentage: 0.18%",
           2,
           0.18433179723502305,
           "Utilities"
          ],
          [
           "Utilities - Independent Power Producers<br>Stocks: 2<br>Percentage: 0.18%",
           2,
           0.18433179723502305,
           "Utilities"
          ],
          [
           "Utilities - Regulated Electric<br>Stocks: 23<br>Percentage: 2.12%",
           23,
           2.1198156682027647,
           "Utilities"
          ],
          [
           "Utilities - Regulated Gas<br>Stocks: 2<br>Percentage: 0.18%",
           2,
           0.18433179723502305,
           "Utilities"
          ],
          [
           "Utilities - Regulated Water<br>Stocks: 1<br>Percentage: 0.09%",
           1,
           0.09216589861751152,
           "Utilities"
          ],
          [
           "Waste Management<br>Stocks: 3<br>Percentage: 0.28%",
           3,
           0.2764976958525346,
           "Industrials"
          ],
          [
           "(?)",
           31,
           "(?)",
           "Basic Materials"
          ],
          [
           "(?)",
           45,
           "(?)",
           "Communication Services"
          ],
          [
           "(?)",
           111,
           "(?)",
           "Consumer Cyclical"
          ],
          [
           "(?)",
           47,
           "(?)",
           "Consumer Defensive"
          ],
          [
           "Auto Components<br>Stocks: 1<br>Percentage: 0.09%",
           1,
           0.09216589861751152,
           "Consumer Discretionary"
          ],
          [
           "Packaging & Containers<br>Stocks: 1<br>Percentage: 0.09%",
           1,
           0.09216589861751152,
           "Consumer Goods"
          ],
          [
           "(?)",
           58,
           "(?)",
           "Energy"
          ],
          [
           "Asset Management<br>Stocks: 1<br>Percentage: 0.09%",
           1,
           0.09216589861751152,
           "Financial"
          ],
          [
           "(?)",
           105,
           "(?)",
           "Financial Services"
          ],
          [
           "(?)",
           2,
           0.09216589861751152,
           "Financials"
          ],
          [
           "(?)",
           98,
           "(?)",
           "Healthcare"
          ],
          [
           "Aerospace/Defense Products & Services<br>Stocks: 1<br>Percentage: 0.09%",
           1,
           0.09216589861751152,
           "Industrial Goods"
          ],
          [
           "(?)",
           113,
           "(?)",
           "Industrials"
          ],
          [
           "(?)",
           45,
           "(?)",
           "Real Estate"
          ],
          [
           "Business Services<br>Stocks: 1<br>Percentage: 0.09%",
           1,
           0.09216589861751152,
           "Services"
          ],
          [
           "(?)",
           108,
           "(?)",
           "Technology"
          ],
          [
           "(?)",
           34,
           "(?)",
           "Utilities"
          ]
         ],
         "domain": {
          "x": [
           0,
           1
          ],
          "y": [
           0,
           1
          ]
         },
         "hovertemplate": "labels=%{label}<br>Number of Stocks=%{customdata[1]}<br>parent=%{parent}<br>id=%{id}<br>Percentage=%{customdata[2]}<br>Sector=%{customdata[3]}<extra></extra>",
         "ids": [
          "Financial Services/ Banks - Regional",
          "Healthcare/ Drug Manufacturers - General",
          "Healthcare/ Drug Manufacturers - Specialty & Generic",
          "Real Estate/ REIT - Industrial",
          "Technology/ Software - Application",
          "Technology/ Software - Infrastructure",
          "Utilities/ Utilities - Independent Power Producers",
          "Communication Services/Advertising Agencies",
          "Industrials/Aerospace & Defense",
          "Financial/Asset Management",
          "Consumer Cyclical/Apparel Retail",
          "Industrials/Airports & Air Services",
          "Consumer Cyclical/Apparel Manufacturing",
          "Basic Materials/Agricultural Inputs",
          "Industrial Goods/Aerospace/Defense Products & Services",
          "Industrials/Airlines",
          "Industrials/Building Products & Equipment",
          "Basic Materials/Copper",
          "Technology/Consumer Electronics",
          "Industrials/Consulting Services",
          "Industrials/Conglomerates",
          "Consumer Defensive/Confectioners",
          "Technology/Computer Hardware",
          "Basic Materials/Chemicals",
          "Financial Services/Capital Markets",
          "Services/Business Services",
          "Basic Materials/Building Materials",
          "Technology/Communication Equipment",
          "Healthcare/Biotechnology & Medical Research",
          "Communication Services/Broadcasting",
          "Financial Services/Asset Management",
          "Consumer Cyclical/Auto & Truck Dealerships",
          "Consumer Discretionary/Auto Components",
          "Consumer Cyclical/Auto Parts",
          "Consumer Cyclical/Auto Manufacturers",
          "Financial Services/Banks - Regional",
          "Consumer Defensive/Beverages - Brewers",
          "Consumer Defensive/Beverages - Non-Alcoholic",
          "Healthcare/Biotechnology",
          "Financial Services/Banks - Diversified",
          "Industrials/Engineering & Construction",
          "Consumer Defensive/Education & Training Services",
          "Communication Services/Electronic Gaming & Multimedia",
          "Technology/Electronic Components",
          "Healthcare/Drug Manufacturers - Specialty & Generic",
          "Industrials/Electrical Equipment & Parts",
          "Consumer Defensive/Discount Stores",
          "Healthcare/Diagnostics & Research",
          "Consumer Cyclical/Department Stores",
          "Financial Services/Credit Services",
          "Healthcare/Drug Manufacturers - General",
          "Communication Services/Entertainment",
          "Industrials/Farm & Heavy Construction Machinery",
          "Consumer Defensive/Grocery Stores",
          "Basic Materials/Gold",
          "Consumer Cyclical/Gambling",
          "Consumer Cyclical/Furnishings, Fixtures & Appliances",
          "Consumer Cyclical/Footwear & Accessories",
          "Financial Services/Financial Data & Stock Exchanges",
          "Consumer Defensive/Farm Products",
          "Consumer Defensive/Food Distribution",
          "Healthcare/Health Care Technology",
          "Financial Services/Insurance - Diversified",
          "Financial Services/Insurance - Specialty",
          "Financial Services/Insurance - Reinsurance",
          "Financial Services/Insurance - Property & Casualty",
          "Financial Services/Insurance - Life",
          "Technology/Information Technology Services",
          "Financial Services/Insurance Brokers",
          "Consumer Defensive/Household & Personal Products",
          "Consumer Cyclical/Homebuilding & Construction Supplies",
          "Consumer Cyclical/Home Improvement Retail",
          "Healthcare/Healthcare Plans",
          "Healthcare/Healthcare Equipment & Supplies",
          "Healthcare/Health Information Services",
          "Industrials/Industrial Distribution",
          "Communication Services/Internet Content & Information",
          "Industrials/Integrated Freight & Logistics",
          "Healthcare/Medical Instruments & Supplies",
          "Energy/Oil & Gas Equipment & Services",
          "Energy/Oil & Gas E&P",
          "Energy/Oil & Gas Drilling",
          "Financial Services/Mortgage Finance",
          "Basic Materials/Metals & Mining",
          "Industrials/Metal Fabrication",
          "Healthcare/Medical Devices",
          "Healthcare/Medical Distribution",
          "Industrials/Marine Shipping",
          "Consumer Cyclical/Luxury Goods",
          "Consumer Cyclical/Lodging",
          "Consumer Cyclical/Leisure",
          "Financials/Investment Holding Companies",
          "Financials/Investment Banking & Investment Services",
          "Consumer Cyclical/Internet Retail",
          "Healthcare/Medical Care Facilities",
          "Energy/Oil & Gas Integrated",
          "Real Estate/REIT - Diversified",
          "Consumer Cyclical/Recreational Vehicles",
          "Real Estate/REIT - Hotel & Motel",
          "Real Estate/REIT - Industrial",
          "Real Estate/REIT - Office",
          "Real Estate/Real Estate Services",
          "Real Estate/REIT - Retail",
          "Real Estate/REIT - Specialty",
          "Industrials/Railroads",
          "Real Estate/REIT - Residential",
          "Communication Services/Publishing",
          "Real Estate/REIT - Healthcare Facilities",
          "Healthcare/Pharmaceuticals",
          "Healthcare/Pharmaceutical Retailers",
          "Consumer Cyclical/Personal Services",
          "Consumer Goods/Packaging & Containers",
          "Consumer Cyclical/Packaging & Containers",
          "Consumer Defensive/Packaged Foods",
          "Basic Materials/Other Industrial Metals & Mining",
          "Energy/Oil, Gas & Consumable Fuels",
          "Energy/Oil & Gas Refining & Marketing",
          "Energy/Oil & Gas Midstream",
          "Industrials/Pollution & Treatment Controls",
          "Technology/Software - Application",
          "Technology/Semiconductors",
          "Technology/Semiconductor Equipment & Materials",
          "Industrials/Security & Protection Services",
          "Technology/Scientific & Technical Instruments",
          "Technology/Software - Infrastructure",
          "Consumer Cyclical/Resorts & Casinos",
          "Consumer Cyclical/Residential Construction",
          "Real Estate/Residential & Commercial REITs",
          "Industrials/Rental & Leasing Services",
          "Consumer Cyclical/Restaurants",
          "Technology/Solar",
          "Industrials/Trucking",
          "Consumer Cyclical/Travel Services",
          "Industrials/Tools & Accessories",
          "Consumer Defensive/Tobacco",
          "Energy/Thermal Coal",
          "Communication Services/Telecom Services",
          "Basic Materials/Steel",
          "Consumer Cyclical/Specialty Retailers",
          "Consumer Cyclical/Specialty Retail",
          "Industrials/Specialty Industrial Machinery",
          "Basic Materials/Specialty Chemicals",
          "Industrials/Specialty Business Services",
          "Industrials/Staffing & Employment Services",
          "Utilities/Utilities - Renewable",
          "Utilities/Utilities - Diversified",
          "Utilities/Utilities - Independent Power Producers",
          "Utilities/Utilities - Regulated Electric",
          "Utilities/Utilities - Regulated Gas",
          "Utilities/Utilities - Regulated Water",
          "Industrials/Waste Management",
          "Basic Materials",
          "Communication Services",
          "Consumer Cyclical",
          "Consumer Defensive",
          "Consumer Discretionary",
          "Consumer Goods",
          "Energy",
          "Financial",
          "Financial Services",
          "Financials",
          "Healthcare",
          "Industrial Goods",
          "Industrials",
          "Real Estate",
          "Services",
          "Technology",
          "Utilities"
         ],
         "labels": [
          " Banks - Regional",
          " Drug Manufacturers - General",
          " Drug Manufacturers - Specialty & Generic",
          " REIT - Industrial",
          " Software - Application",
          " Software - Infrastructure",
          " Utilities - Independent Power Producers",
          "Advertising Agencies",
          "Aerospace & Defense",
          "Asset Management",
          "Apparel Retail",
          "Airports & Air Services",
          "Apparel Manufacturing",
          "Agricultural Inputs",
          "Aerospace/Defense Products & Services",
          "Airlines",
          "Building Products & Equipment",
          "Copper",
          "Consumer Electronics",
          "Consulting Services",
          "Conglomerates",
          "Confectioners",
          "Computer Hardware",
          "Chemicals",
          "Capital Markets",
          "Business Services",
          "Building Materials",
          "Communication Equipment",
          "Biotechnology & Medical Research",
          "Broadcasting",
          "Asset Management",
          "Auto & Truck Dealerships",
          "Auto Components",
          "Auto Parts",
          "Auto Manufacturers",
          "Banks - Regional",
          "Beverages - Brewers",
          "Beverages - Non-Alcoholic",
          "Biotechnology",
          "Banks - Diversified",
          "Engineering & Construction",
          "Education & Training Services",
          "Electronic Gaming & Multimedia",
          "Electronic Components",
          "Drug Manufacturers - Specialty & Generic",
          "Electrical Equipment & Parts",
          "Discount Stores",
          "Diagnostics & Research",
          "Department Stores",
          "Credit Services",
          "Drug Manufacturers - General",
          "Entertainment",
          "Farm & Heavy Construction Machinery",
          "Grocery Stores",
          "Gold",
          "Gambling",
          "Furnishings, Fixtures & Appliances",
          "Footwear & Accessories",
          "Financial Data & Stock Exchanges",
          "Farm Products",
          "Food Distribution",
          "Health Care Technology",
          "Insurance - Diversified",
          "Insurance - Specialty",
          "Insurance - Reinsurance",
          "Insurance - Property & Casualty",
          "Insurance - Life",
          "Information Technology Services",
          "Insurance Brokers",
          "Household & Personal Products",
          "Homebuilding & Construction Supplies",
          "Home Improvement Retail",
          "Healthcare Plans",
          "Healthcare Equipment & Supplies",
          "Health Information Services",
          "Industrial Distribution",
          "Internet Content & Information",
          "Integrated Freight & Logistics",
          "Medical Instruments & Supplies",
          "Oil & Gas Equipment & Services",
          "Oil & Gas E&P",
          "Oil & Gas Drilling",
          "Mortgage Finance",
          "Metals & Mining",
          "Metal Fabrication",
          "Medical Devices",
          "Medical Distribution",
          "Marine Shipping",
          "Luxury Goods",
          "Lodging",
          "Leisure",
          "Investment Holding Companies",
          "Investment Banking & Investment Services",
          "Internet Retail",
          "Medical Care Facilities",
          "Oil & Gas Integrated",
          "REIT - Diversified",
          "Recreational Vehicles",
          "REIT - Hotel & Motel",
          "REIT - Industrial",
          "REIT - Office",
          "Real Estate Services",
          "REIT - Retail",
          "REIT - Specialty",
          "Railroads",
          "REIT - Residential",
          "Publishing",
          "REIT - Healthcare Facilities",
          "Pharmaceuticals",
          "Pharmaceutical Retailers",
          "Personal Services",
          "Packaging & Containers",
          "Packaging & Containers",
          "Packaged Foods",
          "Other Industrial Metals & Mining",
          "Oil, Gas & Consumable Fuels",
          "Oil & Gas Refining & Marketing",
          "Oil & Gas Midstream",
          "Pollution & Treatment Controls",
          "Software - Application",
          "Semiconductors",
          "Semiconductor Equipment & Materials",
          "Security & Protection Services",
          "Scientific & Technical Instruments",
          "Software - Infrastructure",
          "Resorts & Casinos",
          "Residential Construction",
          "Residential & Commercial REITs",
          "Rental & Leasing Services",
          "Restaurants",
          "Solar",
          "Trucking",
          "Travel Services",
          "Tools & Accessories",
          "Tobacco",
          "Thermal Coal",
          "Telecom Services",
          "Steel",
          "Specialty Retailers",
          "Specialty Retail",
          "Specialty Industrial Machinery",
          "Specialty Chemicals",
          "Specialty Business Services",
          "Staffing & Employment Services",
          "Utilities - Renewable",
          "Utilities - Diversified",
          "Utilities - Independent Power Producers",
          "Utilities - Regulated Electric",
          "Utilities - Regulated Gas",
          "Utilities - Regulated Water",
          "Waste Management",
          "Basic Materials",
          "Communication Services",
          "Consumer Cyclical",
          "Consumer Defensive",
          "Consumer Discretionary",
          "Consumer Goods",
          "Energy",
          "Financial",
          "Financial Services",
          "Financials",
          "Healthcare",
          "Industrial Goods",
          "Industrials",
          "Real Estate",
          "Services",
          "Technology",
          "Utilities"
         ],
         "marker": {
          "colors": [
           "#636efa",
           "#EF553B",
           "#EF553B",
           "#00cc96",
           "#ab63fa",
           "#ab63fa",
           "#FFA15A",
           "#19d3f3",
           "#FF6692",
           "#B6E880",
           "#FF97FF",
           "#FF6692",
           "#FF97FF",
           "#FECB52",
           "#636efa",
           "#FF6692",
           "#FF6692",
           "#FECB52",
           "#ab63fa",
           "#FF6692",
           "#FF6692",
           "#EF553B",
           "#ab63fa",
           "#FECB52",
           "#636efa",
           "#00cc96",
           "#FECB52",
           "#ab63fa",
           "#EF553B",
           "#19d3f3",
           "#636efa",
           "#FF97FF",
           "#ab63fa",
           "#FF97FF",
           "#FF97FF",
           "#636efa",
           "#EF553B",
           "#EF553B",
           "#EF553B",
           "#636efa",
           "#FF6692",
           "#EF553B",
           "#19d3f3",
           "#ab63fa",
           "#EF553B",
           "#FF6692",
           "#EF553B",
           "#EF553B",
           "#FF97FF",
           "#636efa",
           "#EF553B",
           "#19d3f3",
           "#FF6692",
           "#EF553B",
           "#FECB52",
           "#FF97FF",
           "#FF97FF",
           "#FF97FF",
           "#636efa",
           "#EF553B",
           "#EF553B",
           "#EF553B",
           "#636efa",
           "#636efa",
           "#636efa",
           "#636efa",
           "#636efa",
           "#ab63fa",
           "#636efa",
           "#EF553B",
           "#FF97FF",
           "#FF97FF",
           "#EF553B",
           "#EF553B",
           "#EF553B",
           "#FF6692",
           "#19d3f3",
           "#FF6692",
           "#EF553B",
           "#FFA15A",
           "#FFA15A",
           "#FFA15A",
           "#636efa",
           "#FECB52",
           "#FF6692",
           "#EF553B",
           "#EF553B",
           "#FF6692",
           "#FF97FF",
           "#FF97FF",
           "#FF97FF",
           "#19d3f3",
           "#19d3f3",
           "#FF97FF",
           "#EF553B",
           "#FFA15A",
           "#00cc96",
           "#FF97FF",
           "#00cc96",
           "#00cc96",
           "#00cc96",
           "#00cc96",
           "#00cc96",
           "#00cc96",
           "#FF6692",
           "#00cc96",
           "#19d3f3",
           "#00cc96",
           "#EF553B",
           "#EF553B",
           "#FF97FF",
           "#FF6692",
           "#FF97FF",
           "#EF553B",
           "#FECB52",
           "#FFA15A",
           "#FFA15A",
           "#FFA15A",
           "#FF6692",
           "#ab63fa",
           "#ab63fa",
           "#ab63fa",
           "#FF6692",
           "#ab63fa",
           "#ab63fa",
           "#FF97FF",
           "#FF97FF",
           "#00cc96",
           "#FF6692",
           "#FF97FF",
           "#ab63fa",
           "#FF6692",
           "#FF97FF",
           "#FF6692",
           "#EF553B",
           "#FFA15A",
           "#19d3f3",
           "#FECB52",
           "#FF97FF",
           "#FF97FF",
           "#FF6692",
           "#FECB52",
           "#FF6692",
           "#FF6692",
           "#FFA15A",
           "#FFA15A",
           "#FFA15A",
           "#FFA15A",
           "#FFA15A",
           "#FFA15A",
           "#FF6692",
           "#FECB52",
           "#19d3f3",
           "#FF97FF",
           "#EF553B",
           "#ab63fa",
           "#FF6692",
           "#FFA15A",
           "#B6E880",
           "#636efa",
           "#19d3f3",
           "#EF553B",
           "#636efa",
           "#FF6692",
           "#00cc96",
           "#00cc96",
           "#ab63fa",
           "#FFA15A"
          ]
         },
         "name": "",
         "parents": [
          "Financial Services",
          "Healthcare",
          "Healthcare",
          "Real Estate",
          "Technology",
          "Technology",
          "Utilities",
          "Communication Services",
          "Industrials",
          "Financial",
          "Consumer Cyclical",
          "Industrials",
          "Consumer Cyclical",
          "Basic Materials",
          "Industrial Goods",
          "Industrials",
          "Industrials",
          "Basic Materials",
          "Technology",
          "Industrials",
          "Industrials",
          "Consumer Defensive",
          "Technology",
          "Basic Materials",
          "Financial Services",
          "Services",
          "Basic Materials",
          "Technology",
          "Healthcare",
          "Communication Services",
          "Financial Services",
          "Consumer Cyclical",
          "Consumer Discretionary",
          "Consumer Cyclical",
          "Consumer Cyclical",
          "Financial Services",
          "Consumer Defensive",
          "Consumer Defensive",
          "Healthcare",
          "Financial Services",
          "Industrials",
          "Consumer Defensive",
          "Communication Services",
          "Technology",
          "Healthcare",
          "Industrials",
          "Consumer Defensive",
          "Healthcare",
          "Consumer Cyclical",
          "Financial Services",
          "Healthcare",
          "Communication Services",
          "Industrials",
          "Consumer Defensive",
          "Basic Materials",
          "Consumer Cyclical",
          "Consumer Cyclical",
          "Consumer Cyclical",
          "Financial Services",
          "Consumer Defensive",
          "Consumer Defensive",
          "Healthcare",
          "Financial Services",
          "Financial Services",
          "Financial Services",
          "Financial Services",
          "Financial Services",
          "Technology",
          "Financial Services",
          "Consumer Defensive",
          "Consumer Cyclical",
          "Consumer Cyclical",
          "Healthcare",
          "Healthcare",
          "Healthcare",
          "Industrials",
          "Communication Services",
          "Industrials",
          "Healthcare",
          "Energy",
          "Energy",
          "Energy",
          "Financial Services",
          "Basic Materials",
          "Industrials",
          "Healthcare",
          "Healthcare",
          "Industrials",
          "Consumer Cyclical",
          "Consumer Cyclical",
          "Consumer Cyclical",
          "Financials",
          "Financials",
          "Consumer Cyclical",
          "Healthcare",
          "Energy",
          "Real Estate",
          "Consumer Cyclical",
          "Real Estate",
          "Real Estate",
          "Real Estate",
          "Real Estate",
          "Real Estate",
          "Real Estate",
          "Industrials",
          "Real Estate",
          "Communication Services",
          "Real Estate",
          "Healthcare",
          "Healthcare",
          "Consumer Cyclical",
          "Consumer Goods",
          "Consumer Cyclical",
          "Consumer Defensive",
          "Basic Materials",
          "Energy",
          "Energy",
          "Energy",
          "Industrials",
          "Technology",
          "Technology",
          "Technology",
          "Industrials",
          "Technology",
          "Technology",
          "Consumer Cyclical",
          "Consumer Cyclical",
          "Real Estate",
          "Industrials",
          "Consumer Cyclical",
          "Technology",
          "Industrials",
          "Consumer Cyclical",
          "Industrials",
          "Consumer Defensive",
          "Energy",
          "Communication Services",
          "Basic Materials",
          "Consumer Cyclical",
          "Consumer Cyclical",
          "Industrials",
          "Basic Materials",
          "Industrials",
          "Industrials",
          "Utilities",
          "Utilities",
          "Utilities",
          "Utilities",
          "Utilities",
          "Utilities",
          "Industrials",
          "",
          "",
          "",
          "",
          "",
          "",
          "",
          "",
          "",
          "",
          "",
          "",
          "",
          "",
          "",
          "",
          ""
         ],
         "textfont": {
          "size": 18
         },
         "textinfo": "label+text+value",
         "texttemplate": "%{customdata[0]}",
         "type": "treemap",
         "values": [
          3,
          2,
          1,
          1,
          2,
          1,
          1,
          2,
          13,
          1,
          8,
          1,
          7,
          5,
          1,
          5,
          6,
          1,
          1,
          4,
          3,
          2,
          7,
          2,
          8,
          1,
          2,
          8,
          1,
          2,
          21,
          2,
          1,
          6,
          3,
          15,
          4,
          5,
          14,
          5,
          3,
          3,
          3,
          5,
          7,
          4,
          6,
          13,
          5,
          12,
          10,
          13,
          7,
          1,
          1,
          2,
          3,
          3,
          9,
          3,
          1,
          1,
          2,
          3,
          1,
          9,
          9,
          17,
          6,
          10,
          1,
          2,
          8,
          1,
          2,
          4,
          8,
          6,
          11,
          7,
          29,
          5,
          2,
          1,
          4,
          11,
          6,
          3,
          4,
          3,
          3,
          1,
          1,
          5,
          6,
          4,
          2,
          2,
          1,
          3,
          4,
          5,
          7,
          8,
          5,
          10,
          3,
          3,
          2,
          2,
          3,
          1,
          11,
          10,
          2,
          1,
          4,
          7,
          1,
          17,
          17,
          5,
          4,
          7,
          18,
          5,
          5,
          1,
          4,
          9,
          3,
          2,
          7,
          3,
          2,
          1,
          14,
          5,
          1,
          11,
          22,
          12,
          5,
          1,
          3,
          2,
          2,
          23,
          2,
          1,
          3,
          31,
          45,
          111,
          47,
          1,
          1,
          58,
          1,
          105,
          2,
          98,
          1,
          113,
          45,
          1,
          108,
          34
         ]
        }
       ],
       "layout": {
        "height": 1600,
        "legend": {
         "tracegroupgap": 0
        },
        "margin": {
         "b": 30,
         "l": 30,
         "pad": 0,
         "r": 30,
         "t": 70
        },
        "template": {
         "data": {
          "bar": [
           {
            "error_x": {
             "color": "#2a3f5f"
            },
            "error_y": {
             "color": "#2a3f5f"
            },
            "marker": {
             "line": {
              "color": "#E5ECF6",
              "width": 0.5
             },
             "pattern": {
              "fillmode": "overlay",
              "size": 10,
              "solidity": 0.2
             }
            },
            "type": "bar"
           }
          ],
          "barpolar": [
           {
            "marker": {
             "line": {
              "color": "#E5ECF6",
              "width": 0.5
             },
             "pattern": {
              "fillmode": "overlay",
              "size": 10,
              "solidity": 0.2
             }
            },
            "type": "barpolar"
           }
          ],
          "carpet": [
           {
            "aaxis": {
             "endlinecolor": "#2a3f5f",
             "gridcolor": "white",
             "linecolor": "white",
             "minorgridcolor": "white",
             "startlinecolor": "#2a3f5f"
            },
            "baxis": {
             "endlinecolor": "#2a3f5f",
             "gridcolor": "white",
             "linecolor": "white",
             "minorgridcolor": "white",
             "startlinecolor": "#2a3f5f"
            },
            "type": "carpet"
           }
          ],
          "choropleth": [
           {
            "colorbar": {
             "outlinewidth": 0,
             "ticks": ""
            },
            "type": "choropleth"
           }
          ],
          "contour": [
           {
            "colorbar": {
             "outlinewidth": 0,
             "ticks": ""
            },
            "colorscale": [
             [
              0,
              "#0d0887"
             ],
             [
              0.1111111111111111,
              "#46039f"
             ],
             [
              0.2222222222222222,
              "#7201a8"
             ],
             [
              0.3333333333333333,
              "#9c179e"
             ],
             [
              0.4444444444444444,
              "#bd3786"
             ],
             [
              0.5555555555555556,
              "#d8576b"
             ],
             [
              0.6666666666666666,
              "#ed7953"
             ],
             [
              0.7777777777777778,
              "#fb9f3a"
             ],
             [
              0.8888888888888888,
              "#fdca26"
             ],
             [
              1,
              "#f0f921"
             ]
            ],
            "type": "contour"
           }
          ],
          "contourcarpet": [
           {
            "colorbar": {
             "outlinewidth": 0,
             "ticks": ""
            },
            "type": "contourcarpet"
           }
          ],
          "heatmap": [
           {
            "colorbar": {
             "outlinewidth": 0,
             "ticks": ""
            },
            "colorscale": [
             [
              0,
              "#0d0887"
             ],
             [
              0.1111111111111111,
              "#46039f"
             ],
             [
              0.2222222222222222,
              "#7201a8"
             ],
             [
              0.3333333333333333,
              "#9c179e"
             ],
             [
              0.4444444444444444,
              "#bd3786"
             ],
             [
              0.5555555555555556,
              "#d8576b"
             ],
             [
              0.6666666666666666,
              "#ed7953"
             ],
             [
              0.7777777777777778,
              "#fb9f3a"
             ],
             [
              0.8888888888888888,
              "#fdca26"
             ],
             [
              1,
              "#f0f921"
             ]
            ],
            "type": "heatmap"
           }
          ],
          "heatmapgl": [
           {
            "colorbar": {
             "outlinewidth": 0,
             "ticks": ""
            },
            "colorscale": [
             [
              0,
              "#0d0887"
             ],
             [
              0.1111111111111111,
              "#46039f"
             ],
             [
              0.2222222222222222,
              "#7201a8"
             ],
             [
              0.3333333333333333,
              "#9c179e"
             ],
             [
              0.4444444444444444,
              "#bd3786"
             ],
             [
              0.5555555555555556,
              "#d8576b"
             ],
             [
              0.6666666666666666,
              "#ed7953"
             ],
             [
              0.7777777777777778,
              "#fb9f3a"
             ],
             [
              0.8888888888888888,
              "#fdca26"
             ],
             [
              1,
              "#f0f921"
             ]
            ],
            "type": "heatmapgl"
           }
          ],
          "histogram": [
           {
            "marker": {
             "pattern": {
              "fillmode": "overlay",
              "size": 10,
              "solidity": 0.2
             }
            },
            "type": "histogram"
           }
          ],
          "histogram2d": [
           {
            "colorbar": {
             "outlinewidth": 0,
             "ticks": ""
            },
            "colorscale": [
             [
              0,
              "#0d0887"
             ],
             [
              0.1111111111111111,
              "#46039f"
             ],
             [
              0.2222222222222222,
              "#7201a8"
             ],
             [
              0.3333333333333333,
              "#9c179e"
             ],
             [
              0.4444444444444444,
              "#bd3786"
             ],
             [
              0.5555555555555556,
              "#d8576b"
             ],
             [
              0.6666666666666666,
              "#ed7953"
             ],
             [
              0.7777777777777778,
              "#fb9f3a"
             ],
             [
              0.8888888888888888,
              "#fdca26"
             ],
             [
              1,
              "#f0f921"
             ]
            ],
            "type": "histogram2d"
           }
          ],
          "histogram2dcontour": [
           {
            "colorbar": {
             "outlinewidth": 0,
             "ticks": ""
            },
            "colorscale": [
             [
              0,
              "#0d0887"
             ],
             [
              0.1111111111111111,
              "#46039f"
             ],
             [
              0.2222222222222222,
              "#7201a8"
             ],
             [
              0.3333333333333333,
              "#9c179e"
             ],
             [
              0.4444444444444444,
              "#bd3786"
             ],
             [
              0.5555555555555556,
              "#d8576b"
             ],
             [
              0.6666666666666666,
              "#ed7953"
             ],
             [
              0.7777777777777778,
              "#fb9f3a"
             ],
             [
              0.8888888888888888,
              "#fdca26"
             ],
             [
              1,
              "#f0f921"
             ]
            ],
            "type": "histogram2dcontour"
           }
          ],
          "mesh3d": [
           {
            "colorbar": {
             "outlinewidth": 0,
             "ticks": ""
            },
            "type": "mesh3d"
           }
          ],
          "parcoords": [
           {
            "line": {
             "colorbar": {
              "outlinewidth": 0,
              "ticks": ""
             }
            },
            "type": "parcoords"
           }
          ],
          "pie": [
           {
            "automargin": true,
            "type": "pie"
           }
          ],
          "scatter": [
           {
            "fillpattern": {
             "fillmode": "overlay",
             "size": 10,
             "solidity": 0.2
            },
            "type": "scatter"
           }
          ],
          "scatter3d": [
           {
            "line": {
             "colorbar": {
              "outlinewidth": 0,
              "ticks": ""
             }
            },
            "marker": {
             "colorbar": {
              "outlinewidth": 0,
              "ticks": ""
             }
            },
            "type": "scatter3d"
           }
          ],
          "scattercarpet": [
           {
            "marker": {
             "colorbar": {
              "outlinewidth": 0,
              "ticks": ""
             }
            },
            "type": "scattercarpet"
           }
          ],
          "scattergeo": [
           {
            "marker": {
             "colorbar": {
              "outlinewidth": 0,
              "ticks": ""
             }
            },
            "type": "scattergeo"
           }
          ],
          "scattergl": [
           {
            "marker": {
             "colorbar": {
              "outlinewidth": 0,
              "ticks": ""
             }
            },
            "type": "scattergl"
           }
          ],
          "scattermapbox": [
           {
            "marker": {
             "colorbar": {
              "outlinewidth": 0,
              "ticks": ""
             }
            },
            "type": "scattermapbox"
           }
          ],
          "scatterpolar": [
           {
            "marker": {
             "colorbar": {
              "outlinewidth": 0,
              "ticks": ""
             }
            },
            "type": "scatterpolar"
           }
          ],
          "scatterpolargl": [
           {
            "marker": {
             "colorbar": {
              "outlinewidth": 0,
              "ticks": ""
             }
            },
            "type": "scatterpolargl"
           }
          ],
          "scatterternary": [
           {
            "marker": {
             "colorbar": {
              "outlinewidth": 0,
              "ticks": ""
             }
            },
            "type": "scatterternary"
           }
          ],
          "surface": [
           {
            "colorbar": {
             "outlinewidth": 0,
             "ticks": ""
            },
            "colorscale": [
             [
              0,
              "#0d0887"
             ],
             [
              0.1111111111111111,
              "#46039f"
             ],
             [
              0.2222222222222222,
              "#7201a8"
             ],
             [
              0.3333333333333333,
              "#9c179e"
             ],
             [
              0.4444444444444444,
              "#bd3786"
             ],
             [
              0.5555555555555556,
              "#d8576b"
             ],
             [
              0.6666666666666666,
              "#ed7953"
             ],
             [
              0.7777777777777778,
              "#fb9f3a"
             ],
             [
              0.8888888888888888,
              "#fdca26"
             ],
             [
              1,
              "#f0f921"
             ]
            ],
            "type": "surface"
           }
          ],
          "table": [
           {
            "cells": {
             "fill": {
              "color": "#EBF0F8"
             },
             "line": {
              "color": "white"
             }
            },
            "header": {
             "fill": {
              "color": "#C8D4E3"
             },
             "line": {
              "color": "white"
             }
            },
            "type": "table"
           }
          ]
         },
         "layout": {
          "annotationdefaults": {
           "arrowcolor": "#2a3f5f",
           "arrowhead": 0,
           "arrowwidth": 1
          },
          "autotypenumbers": "strict",
          "coloraxis": {
           "colorbar": {
            "outlinewidth": 0,
            "ticks": ""
           }
          },
          "colorscale": {
           "diverging": [
            [
             0,
             "#8e0152"
            ],
            [
             0.1,
             "#c51b7d"
            ],
            [
             0.2,
             "#de77ae"
            ],
            [
             0.3,
             "#f1b6da"
            ],
            [
             0.4,
             "#fde0ef"
            ],
            [
             0.5,
             "#f7f7f7"
            ],
            [
             0.6,
             "#e6f5d0"
            ],
            [
             0.7,
             "#b8e186"
            ],
            [
             0.8,
             "#7fbc41"
            ],
            [
             0.9,
             "#4d9221"
            ],
            [
             1,
             "#276419"
            ]
           ],
           "sequential": [
            [
             0,
             "#0d0887"
            ],
            [
             0.1111111111111111,
             "#46039f"
            ],
            [
             0.2222222222222222,
             "#7201a8"
            ],
            [
             0.3333333333333333,
             "#9c179e"
            ],
            [
             0.4444444444444444,
             "#bd3786"
            ],
            [
             0.5555555555555556,
             "#d8576b"
            ],
            [
             0.6666666666666666,
             "#ed7953"
            ],
            [
             0.7777777777777778,
             "#fb9f3a"
            ],
            [
             0.8888888888888888,
             "#fdca26"
            ],
            [
             1,
             "#f0f921"
            ]
           ],
           "sequentialminus": [
            [
             0,
             "#0d0887"
            ],
            [
             0.1111111111111111,
             "#46039f"
            ],
            [
             0.2222222222222222,
             "#7201a8"
            ],
            [
             0.3333333333333333,
             "#9c179e"
            ],
            [
             0.4444444444444444,
             "#bd3786"
            ],
            [
             0.5555555555555556,
             "#d8576b"
            ],
            [
             0.6666666666666666,
             "#ed7953"
            ],
            [
             0.7777777777777778,
             "#fb9f3a"
            ],
            [
             0.8888888888888888,
             "#fdca26"
            ],
            [
             1,
             "#f0f921"
            ]
           ]
          },
          "colorway": [
           "#636efa",
           "#EF553B",
           "#00cc96",
           "#ab63fa",
           "#FFA15A",
           "#19d3f3",
           "#FF6692",
           "#B6E880",
           "#FF97FF",
           "#FECB52"
          ],
          "font": {
           "color": "#2a3f5f"
          },
          "geo": {
           "bgcolor": "white",
           "lakecolor": "white",
           "landcolor": "#E5ECF6",
           "showlakes": true,
           "showland": true,
           "subunitcolor": "white"
          },
          "hoverlabel": {
           "align": "left"
          },
          "hovermode": "closest",
          "mapbox": {
           "style": "light"
          },
          "paper_bgcolor": "white",
          "plot_bgcolor": "#E5ECF6",
          "polar": {
           "angularaxis": {
            "gridcolor": "white",
            "linecolor": "white",
            "ticks": ""
           },
           "bgcolor": "#E5ECF6",
           "radialaxis": {
            "gridcolor": "white",
            "linecolor": "white",
            "ticks": ""
           }
          },
          "scene": {
           "xaxis": {
            "backgroundcolor": "#E5ECF6",
            "gridcolor": "white",
            "gridwidth": 2,
            "linecolor": "white",
            "showbackground": true,
            "ticks": "",
            "zerolinecolor": "white"
           },
           "yaxis": {
            "backgroundcolor": "#E5ECF6",
            "gridcolor": "white",
            "gridwidth": 2,
            "linecolor": "white",
            "showbackground": true,
            "ticks": "",
            "zerolinecolor": "white"
           },
           "zaxis": {
            "backgroundcolor": "#E5ECF6",
            "gridcolor": "white",
            "gridwidth": 2,
            "linecolor": "white",
            "showbackground": true,
            "ticks": "",
            "zerolinecolor": "white"
           }
          },
          "shapedefaults": {
           "line": {
            "color": "#2a3f5f"
           }
          },
          "ternary": {
           "aaxis": {
            "gridcolor": "white",
            "linecolor": "white",
            "ticks": ""
           },
           "baxis": {
            "gridcolor": "white",
            "linecolor": "white",
            "ticks": ""
           },
           "bgcolor": "#E5ECF6",
           "caxis": {
            "gridcolor": "white",
            "linecolor": "white",
            "ticks": ""
           }
          },
          "title": {
           "x": 0.05
          },
          "xaxis": {
           "automargin": true,
           "gridcolor": "white",
           "linecolor": "white",
           "ticks": "",
           "title": {
            "standoff": 15
           },
           "zerolinecolor": "white",
           "zerolinewidth": 2
          },
          "yaxis": {
           "automargin": true,
           "gridcolor": "white",
           "linecolor": "white",
           "ticks": "",
           "title": {
            "standoff": 15
           },
           "zerolinecolor": "white",
           "zerolinewidth": 2
          }
         }
        },
        "title": {
         "font": {
          "size": 24
         },
         "text": "Stocks by Sector and Industry"
        },
        "width": 1000
       }
      }
     },
     "metadata": {},
     "output_type": "display_data"
    }
   ],
   "source": [
    "\n",
    "industry_summary = stocks.groupby(['Sector', 'Industry'], as_index=False).agg(StockCount=('Ticker', 'count'))\n",
    "\n",
    "total_stocks = industry_summary['StockCount'].sum()\n",
    "industry_summary['Percentage'] = (industry_summary['StockCount'] / total_stocks) * 100\n",
    "industry_summary['Label'] = industry_summary.apply(\n",
    "    lambda x: f\"{x['Industry']}<br>Stocks: {x['StockCount']}<br>Percentage: {x['Percentage']:.2f}%\", axis=1)\n",
    "\n",
    "industry_summary = industry_summary[industry_summary['Industry'] != 'Other']\n",
    "\n",
    "fig = px.treemap(\n",
    "    industry_summary,\n",
    "    path=['Sector', 'Industry'],  \n",
    "    values='StockCount',          \n",
    "    color='Sector',              \n",
    "    hover_data={'StockCount': True, 'Percentage': True},  \n",
    "    labels={'StockCount': 'Number of Stocks', 'Percentage': 'Percentage'},\n",
    "    custom_data=['Label']         \n",
    ")\n",
    "\n",
    "fig.update_layout(height=1600, width=1000)\n",
    "\n",
    "fig.update_traces(texttemplate='%{customdata[0]}', textinfo=\"label+text+value\")\n",
    "fig.update_layout(title='Stocks by Sector and Industry')#, width=1500)\n",
    "fig.update_layout(title_font_size=24)\n",
    "fig.update_traces(textfont_size=18)\n",
    "\n",
    "fig.update_layout(margin=dict(l=30, r=30, t=70, b=30, pad=0))\n",
    "fig.show()"
   ]
  },
  {
   "cell_type": "code",
   "execution_count": null,
   "metadata": {},
   "outputs": [
    {
     "data": {
      "text/html": [
       "<div>\n",
       "<style scoped>\n",
       "    .dataframe tbody tr th:only-of-type {\n",
       "        vertical-align: middle;\n",
       "    }\n",
       "\n",
       "    .dataframe tbody tr th {\n",
       "        vertical-align: top;\n",
       "    }\n",
       "\n",
       "    .dataframe thead th {\n",
       "        text-align: right;\n",
       "    }\n",
       "</style>\n",
       "<table border=\"1\" class=\"dataframe\">\n",
       "  <thead>\n",
       "    <tr style=\"text-align: right;\">\n",
       "      <th></th>\n",
       "      <th>Ticker</th>\n",
       "      <th>FilingDate</th>\n",
       "      <th>EffectiveDate</th>\n",
       "      <th>TotalRevenue</th>\n",
       "      <th>NetIncome</th>\n",
       "      <th>GrossProfit</th>\n",
       "      <th>EBITDA</th>\n",
       "    </tr>\n",
       "  </thead>\n",
       "  <tbody>\n",
       "    <tr>\n",
       "      <th>0</th>\n",
       "      <td>TWX</td>\n",
       "      <td>1997-01-01</td>\n",
       "      <td>1996-12-31</td>\n",
       "      <td>409400000.00000000</td>\n",
       "      <td>-154800000.00000000</td>\n",
       "      <td>176500000.00000000</td>\n",
       "      <td>-140700000.00000000</td>\n",
       "    </tr>\n",
       "    <tr>\n",
       "      <th>1</th>\n",
       "      <td>COR</td>\n",
       "      <td>1997-01-01</td>\n",
       "      <td>1996-12-31</td>\n",
       "      <td>1746900000.00000000</td>\n",
       "      <td>11800000.00000000</td>\n",
       "      <td>86800000.00000000</td>\n",
       "      <td>32000000.00000000</td>\n",
       "    </tr>\n",
       "    <tr>\n",
       "      <th>2</th>\n",
       "      <td>AME</td>\n",
       "      <td>1997-01-01</td>\n",
       "      <td>1996-12-31</td>\n",
       "      <td>204300000.00000000</td>\n",
       "      <td>13100000.00000000</td>\n",
       "      <td>50600000.00000000</td>\n",
       "      <td>31400000.00000000</td>\n",
       "    </tr>\n",
       "    <tr>\n",
       "      <th>3</th>\n",
       "      <td>AMZN</td>\n",
       "      <td>1997-01-01</td>\n",
       "      <td>1996-12-31</td>\n",
       "      <td>8400000.00000000</td>\n",
       "      <td>-2300000.00000000</td>\n",
       "      <td>-3400000.00000000</td>\n",
       "      <td>-12600000.00000000</td>\n",
       "    </tr>\n",
       "    <tr>\n",
       "      <th>4</th>\n",
       "      <td>DXC</td>\n",
       "      <td>1997-01-01</td>\n",
       "      <td>1996-12-31</td>\n",
       "      <td>1421600000.00000000</td>\n",
       "      <td>57400000.00000000</td>\n",
       "      <td>308800000.00000000</td>\n",
       "      <td>183600000.00000000</td>\n",
       "    </tr>\n",
       "    <tr>\n",
       "      <th>...</th>\n",
       "      <td>...</td>\n",
       "      <td>...</td>\n",
       "      <td>...</td>\n",
       "      <td>...</td>\n",
       "      <td>...</td>\n",
       "      <td>...</td>\n",
       "      <td>...</td>\n",
       "    </tr>\n",
       "    <tr>\n",
       "      <th>17853</th>\n",
       "      <td>APTV</td>\n",
       "      <td>2024-03-29</td>\n",
       "      <td>2023-12-31</td>\n",
       "      <td>4919000000.00000000</td>\n",
       "      <td>905000000.00000000</td>\n",
       "      <td>922000000.00000000</td>\n",
       "      <td>628000000.00000000</td>\n",
       "    </tr>\n",
       "    <tr>\n",
       "      <th>17854</th>\n",
       "      <td>CPWR</td>\n",
       "      <td>2024-03-29</td>\n",
       "      <td>2023-12-31</td>\n",
       "      <td>0.00000000</td>\n",
       "      <td>329805355.00000000</td>\n",
       "      <td>NaN</td>\n",
       "      <td>330382275.00000000</td>\n",
       "    </tr>\n",
       "    <tr>\n",
       "      <th>17855</th>\n",
       "      <td>EP</td>\n",
       "      <td>2024-03-29</td>\n",
       "      <td>2023-12-31</td>\n",
       "      <td>9914059.00000000</td>\n",
       "      <td>-4797477.00000000</td>\n",
       "      <td>-328926.00000000</td>\n",
       "      <td>-2816834.00000000</td>\n",
       "    </tr>\n",
       "    <tr>\n",
       "      <th>17856</th>\n",
       "      <td>ALB</td>\n",
       "      <td>2024-03-29</td>\n",
       "      <td>2023-12-31</td>\n",
       "      <td>2356165000.00000000</td>\n",
       "      <td>-617680000.00000000</td>\n",
       "      <td>-690683000.00000000</td>\n",
       "      <td>-740691000.00000000</td>\n",
       "    </tr>\n",
       "    <tr>\n",
       "      <th>17857</th>\n",
       "      <td>TUP</td>\n",
       "      <td>2024-03-30</td>\n",
       "      <td>2023-12-31</td>\n",
       "      <td>259600000.00000000</td>\n",
       "      <td>-53900000.00000000</td>\n",
       "      <td>165000000.00000000</td>\n",
       "      <td>6100000.00000000</td>\n",
       "    </tr>\n",
       "  </tbody>\n",
       "</table>\n",
       "<p>17858 rows × 7 columns</p>\n",
       "</div>"
      ],
      "text/plain": [
       "      Ticker  FilingDate EffectiveDate        TotalRevenue  \\\n",
       "0        TWX  1997-01-01    1996-12-31  409400000.00000000   \n",
       "1        COR  1997-01-01    1996-12-31 1746900000.00000000   \n",
       "2        AME  1997-01-01    1996-12-31  204300000.00000000   \n",
       "3       AMZN  1997-01-01    1996-12-31    8400000.00000000   \n",
       "4        DXC  1997-01-01    1996-12-31 1421600000.00000000   \n",
       "...      ...         ...           ...                 ...   \n",
       "17853   APTV  2024-03-29    2023-12-31 4919000000.00000000   \n",
       "17854   CPWR  2024-03-29    2023-12-31          0.00000000   \n",
       "17855     EP  2024-03-29    2023-12-31    9914059.00000000   \n",
       "17856    ALB  2024-03-29    2023-12-31 2356165000.00000000   \n",
       "17857    TUP  2024-03-30    2023-12-31  259600000.00000000   \n",
       "\n",
       "                NetIncome         GrossProfit              EBITDA  \n",
       "0     -154800000.00000000  176500000.00000000 -140700000.00000000  \n",
       "1       11800000.00000000   86800000.00000000   32000000.00000000  \n",
       "2       13100000.00000000   50600000.00000000   31400000.00000000  \n",
       "3       -2300000.00000000   -3400000.00000000  -12600000.00000000  \n",
       "4       57400000.00000000  308800000.00000000  183600000.00000000  \n",
       "...                   ...                 ...                 ...  \n",
       "17853  905000000.00000000  922000000.00000000  628000000.00000000  \n",
       "17854  329805355.00000000                 NaN  330382275.00000000  \n",
       "17855   -4797477.00000000    -328926.00000000   -2816834.00000000  \n",
       "17856 -617680000.00000000 -690683000.00000000 -740691000.00000000  \n",
       "17857  -53900000.00000000  165000000.00000000    6100000.00000000  \n",
       "\n",
       "[17858 rows x 7 columns]"
      ]
     },
     "execution_count": 5,
     "metadata": {},
     "output_type": "execute_result"
    }
   ],
   "source": [
    "income_statements = query_stock_data(table=\"Income_Statements\", ticker = \"all_stocks\", start_date = \"1996-01-01\", end_date = \"2024-07-01\")\n",
    "income_statements = income_statements[[\"Ticker\", \"FilingDate\", \"EffectiveDate\", \"TotalRevenue\", \"NetIncome\", \"GrossProfit\", \"EBITDA\"]]\n",
    "# income_statements = income_statements[income_statements[\"EffectiveDate\"] > \"2019-01-01\"]\n",
    "\n",
    "income_statements[\"EffectiveDate\"] = pd.to_datetime(income_statements[\"EffectiveDate\"])\n",
    "income_statements = income_statements[income_statements[\"EffectiveDate\"].dt.month == 12].reset_index(drop=True)\n",
    "income_statements"
   ]
  },
  {
   "cell_type": "code",
   "execution_count": null,
   "metadata": {},
   "outputs": [
    {
     "data": {
      "image/png": "[encoded data removed]",
      "text/plain": [
       "<Figure size 1400x600 with 1 Axes>"
      ]
     },
     "metadata": {},
     "output_type": "display_data"
    }
   ],
   "source": [
    "\n",
    "income_statements['Quarter'] = income_statements['EffectiveDate'].dt.to_period('Q').astype(str)\n",
    "plt.figure(figsize=(14, 6))\n",
    "\n",
    "sns.boxplot(x='Quarter', y='TotalRevenue', data=income_statements, color='lightgreen', whis=1.5)\n",
    "\n",
    "plt.title('Total Revenue Distribution per Quarter for all years')\n",
    "plt.xlabel('Quarter')\n",
    "plt.ylabel('Total Revenue')\n",
    "\n",
    "plt.yscale('log')\n",
    "\n",
    "plt.ylim(1e8, 1e14)\n",
    "plt.xticks(rotation=65)\n",
    "\n",
    "plt.grid(True, which='both', linestyle='--', linewidth=0.5)\n",
    "\n",
    "plt.show()"
   ]
  },
  {
   "cell_type": "markdown",
   "metadata": {},
   "source": [
    "### Showing the change in Total Revenue over the years"
   ]
  },
  {
   "cell_type": "code",
   "execution_count": null,
   "metadata": {},
   "outputs": [
    {
     "name": "stderr",
     "output_type": "stream",
     "text": [
      "C:\\Users\\emilh\\AppData\\Local\\Temp\\ipykernel_7432\\3402118448.py:1: FutureWarning:\n",
      "\n",
      "The default fill_method='ffill' in SeriesGroupBy.pct_change is deprecated and will be removed in a future version. Either fill in any non-leading NA values prior to calling pct_change or specify 'fill_method=None' to not fill NA values.\n",
      "\n",
      "C:\\Users\\emilh\\AppData\\Local\\Temp\\ipykernel_7432\\3402118448.py:5: SettingWithCopyWarning:\n",
      "\n",
      "\n",
      "A value is trying to be set on a copy of a slice from a DataFrame.\n",
      "Try using .loc[row_indexer,col_indexer] = value instead\n",
      "\n",
      "See the caveats in the documentation: https://pandas.pydata.org/pandas-docs/stable/user_guide/indexing.html#returning-a-view-versus-a-copy\n",
      "\n"
     ]
    },
    {
     "data": {
      "text/html": [
       "<div>\n",
       "<style scoped>\n",
       "    .dataframe tbody tr th:only-of-type {\n",
       "        vertical-align: middle;\n",
       "    }\n",
       "\n",
       "    .dataframe tbody tr th {\n",
       "        vertical-align: top;\n",
       "    }\n",
       "\n",
       "    .dataframe thead th {\n",
       "        text-align: right;\n",
       "    }\n",
       "</style>\n",
       "<table border=\"1\" class=\"dataframe\">\n",
       "  <thead>\n",
       "    <tr style=\"text-align: right;\">\n",
       "      <th></th>\n",
       "      <th>Ticker</th>\n",
       "      <th>FilingDate</th>\n",
       "      <th>EffectiveDate</th>\n",
       "      <th>TotalRevenue</th>\n",
       "      <th>NetIncome</th>\n",
       "      <th>GrossProfit</th>\n",
       "      <th>EBITDA</th>\n",
       "      <th>Quarter</th>\n",
       "      <th>RevenuePctChange</th>\n",
       "    </tr>\n",
       "  </thead>\n",
       "  <tbody>\n",
       "    <tr>\n",
       "      <th>402</th>\n",
       "      <td>TWX</td>\n",
       "      <td>1998-01-01</td>\n",
       "      <td>1997-12-31</td>\n",
       "      <td>592000000.00000000</td>\n",
       "      <td>20800000.00000000</td>\n",
       "      <td>235100000.00000000</td>\n",
       "      <td>65800000.00000000</td>\n",
       "      <td>1997Q4</td>\n",
       "      <td>44.60185638</td>\n",
       "    </tr>\n",
       "    <tr>\n",
       "      <th>403</th>\n",
       "      <td>COR</td>\n",
       "      <td>1998-01-01</td>\n",
       "      <td>1997-12-31</td>\n",
       "      <td>2254600000.00000000</td>\n",
       "      <td>14500000.00000000</td>\n",
       "      <td>106000000.00000000</td>\n",
       "      <td>40200000.00000000</td>\n",
       "      <td>1997Q4</td>\n",
       "      <td>29.06291144</td>\n",
       "    </tr>\n",
       "    <tr>\n",
       "      <th>404</th>\n",
       "      <td>AME</td>\n",
       "      <td>1998-01-01</td>\n",
       "      <td>1997-12-31</td>\n",
       "      <td>217100000.00000000</td>\n",
       "      <td>13600000.00000000</td>\n",
       "      <td>50100000.00000000</td>\n",
       "      <td>31800000.00000000</td>\n",
       "      <td>1997Q4</td>\n",
       "      <td>6.26529613</td>\n",
       "    </tr>\n",
       "    <tr>\n",
       "      <th>405</th>\n",
       "      <td>DXC</td>\n",
       "      <td>1998-01-01</td>\n",
       "      <td>1997-12-31</td>\n",
       "      <td>1664100000.00000000</td>\n",
       "      <td>69100000.00000000</td>\n",
       "      <td>362200000.00000000</td>\n",
       "      <td>213900000.00000000</td>\n",
       "      <td>1997Q4</td>\n",
       "      <td>17.05824423</td>\n",
       "    </tr>\n",
       "    <tr>\n",
       "      <th>406</th>\n",
       "      <td>BLL</td>\n",
       "      <td>1998-01-01</td>\n",
       "      <td>1997-12-31</td>\n",
       "      <td>574800000.00000000</td>\n",
       "      <td>7800000.00000000</td>\n",
       "      <td>94700000.00000000</td>\n",
       "      <td>42500000.00000000</td>\n",
       "      <td>1997Q4</td>\n",
       "      <td>14.93701260</td>\n",
       "    </tr>\n",
       "    <tr>\n",
       "      <th>...</th>\n",
       "      <td>...</td>\n",
       "      <td>...</td>\n",
       "      <td>...</td>\n",
       "      <td>...</td>\n",
       "      <td>...</td>\n",
       "      <td>...</td>\n",
       "      <td>...</td>\n",
       "      <td>...</td>\n",
       "      <td>...</td>\n",
       "    </tr>\n",
       "    <tr>\n",
       "      <th>17852</th>\n",
       "      <td>IGT</td>\n",
       "      <td>2024-03-28</td>\n",
       "      <td>2023-12-31</td>\n",
       "      <td>1067000000.00000000</td>\n",
       "      <td>82000000.00000000</td>\n",
       "      <td>537000000.00000000</td>\n",
       "      <td>450000000.00000000</td>\n",
       "      <td>2023Q4</td>\n",
       "      <td>-2.37877402</td>\n",
       "    </tr>\n",
       "    <tr>\n",
       "      <th>17853</th>\n",
       "      <td>APTV</td>\n",
       "      <td>2024-03-29</td>\n",
       "      <td>2023-12-31</td>\n",
       "      <td>4919000000.00000000</td>\n",
       "      <td>905000000.00000000</td>\n",
       "      <td>922000000.00000000</td>\n",
       "      <td>628000000.00000000</td>\n",
       "      <td>2023Q4</td>\n",
       "      <td>6.01293103</td>\n",
       "    </tr>\n",
       "    <tr>\n",
       "      <th>17855</th>\n",
       "      <td>EP</td>\n",
       "      <td>2024-03-29</td>\n",
       "      <td>2023-12-31</td>\n",
       "      <td>9914059.00000000</td>\n",
       "      <td>-4797477.00000000</td>\n",
       "      <td>-328926.00000000</td>\n",
       "      <td>-2816834.00000000</td>\n",
       "      <td>2023Q4</td>\n",
       "      <td>-10.04985063</td>\n",
       "    </tr>\n",
       "    <tr>\n",
       "      <th>17856</th>\n",
       "      <td>ALB</td>\n",
       "      <td>2024-03-29</td>\n",
       "      <td>2023-12-31</td>\n",
       "      <td>2356165000.00000000</td>\n",
       "      <td>-617680000.00000000</td>\n",
       "      <td>-690683000.00000000</td>\n",
       "      <td>-740691000.00000000</td>\n",
       "      <td>2023Q4</td>\n",
       "      <td>-10.10359492</td>\n",
       "    </tr>\n",
       "    <tr>\n",
       "      <th>17857</th>\n",
       "      <td>TUP</td>\n",
       "      <td>2024-03-30</td>\n",
       "      <td>2023-12-31</td>\n",
       "      <td>259600000.00000000</td>\n",
       "      <td>-53900000.00000000</td>\n",
       "      <td>165000000.00000000</td>\n",
       "      <td>6100000.00000000</td>\n",
       "      <td>2023Q4</td>\n",
       "      <td>-17.24577622</td>\n",
       "    </tr>\n",
       "  </tbody>\n",
       "</table>\n",
       "<p>16958 rows × 9 columns</p>\n",
       "</div>"
      ],
      "text/plain": [
       "      Ticker  FilingDate EffectiveDate        TotalRevenue  \\\n",
       "402      TWX  1998-01-01    1997-12-31  592000000.00000000   \n",
       "403      COR  1998-01-01    1997-12-31 2254600000.00000000   \n",
       "404      AME  1998-01-01    1997-12-31  217100000.00000000   \n",
       "405      DXC  1998-01-01    1997-12-31 1664100000.00000000   \n",
       "406      BLL  1998-01-01    1997-12-31  574800000.00000000   \n",
       "...      ...         ...           ...                 ...   \n",
       "17852    IGT  2024-03-28    2023-12-31 1067000000.00000000   \n",
       "17853   APTV  2024-03-29    2023-12-31 4919000000.00000000   \n",
       "17855     EP  2024-03-29    2023-12-31    9914059.00000000   \n",
       "17856    ALB  2024-03-29    2023-12-31 2356165000.00000000   \n",
       "17857    TUP  2024-03-30    2023-12-31  259600000.00000000   \n",
       "\n",
       "                NetIncome         GrossProfit              EBITDA Quarter  \\\n",
       "402     20800000.00000000  235100000.00000000   65800000.00000000  1997Q4   \n",
       "403     14500000.00000000  106000000.00000000   40200000.00000000  1997Q4   \n",
       "404     13600000.00000000   50100000.00000000   31800000.00000000  1997Q4   \n",
       "405     69100000.00000000  362200000.00000000  213900000.00000000  1997Q4   \n",
       "406      7800000.00000000   94700000.00000000   42500000.00000000  1997Q4   \n",
       "...                   ...                 ...                 ...     ...   \n",
       "17852   82000000.00000000  537000000.00000000  450000000.00000000  2023Q4   \n",
       "17853  905000000.00000000  922000000.00000000  628000000.00000000  2023Q4   \n",
       "17855   -4797477.00000000    -328926.00000000   -2816834.00000000  2023Q4   \n",
       "17856 -617680000.00000000 -690683000.00000000 -740691000.00000000  2023Q4   \n",
       "17857  -53900000.00000000  165000000.00000000    6100000.00000000  2023Q4   \n",
       "\n",
       "       RevenuePctChange  \n",
       "402         44.60185638  \n",
       "403         29.06291144  \n",
       "404          6.26529613  \n",
       "405         17.05824423  \n",
       "406         14.93701260  \n",
       "...                 ...  \n",
       "17852       -2.37877402  \n",
       "17853        6.01293103  \n",
       "17855      -10.04985063  \n",
       "17856      -10.10359492  \n",
       "17857      -17.24577622  \n",
       "\n",
       "[16958 rows x 9 columns]"
      ]
     },
     "execution_count": 7,
     "metadata": {},
     "output_type": "execute_result"
    }
   ],
   "source": [
    "\n",
    "income_statements['RevenuePctChange'] = income_statements.groupby('Ticker')['TotalRevenue'].pct_change() * 100\n",
    "income_statements = income_statements.dropna(subset=['RevenuePctChange'])  # Optional: Drop rows with NaN in 'RevenuePctChange'\n",
    "\n",
    "income_statements['RevenuePctChange'] = income_statements['RevenuePctChange'].replace([float('inf'), float('-inf')], 0)\n",
    "\n",
    "income_statements"
   ]
  },
  {
   "cell_type": "code",
   "execution_count": null,
   "metadata": {},
   "outputs": [
    {
     "data": {
      "image/png": "[encoded data removed]",
      "text/plain": [
       "<Figure size 1400x600 with 1 Axes>"
      ]
     },
     "metadata": {},
     "output_type": "display_data"
    }
   ],
   "source": [
    "income_statements_for_viz = income_statements[income_statements['RevenuePctChange'].between(-100, 100)]  # Filter out outliers\n",
    "\n",
    "plt.figure(figsize=(14, 6))\n",
    "plt.hist(income_statements_for_viz['RevenuePctChange'], bins=50, color='skyblue', edgecolor='black')\n",
    "plt.title('Distribution of Revenue % Change')\n",
    "plt.xlabel('Revenue % Change')\n",
    "plt.ylabel('Frequency')\n",
    "plt.grid(True, linestyle='--', linewidth=0.5)\n",
    "plt.show()"
   ]
  },
  {
   "cell_type": "code",
   "execution_count": 9,
   "metadata": {},
   "outputs": [
    {
     "data": {
      "text/html": [
       "<div>\n",
       "<style scoped>\n",
       "    .dataframe tbody tr th:only-of-type {\n",
       "        vertical-align: middle;\n",
       "    }\n",
       "\n",
       "    .dataframe tbody tr th {\n",
       "        vertical-align: top;\n",
       "    }\n",
       "\n",
       "    .dataframe thead th {\n",
       "        text-align: right;\n",
       "    }\n",
       "</style>\n",
       "<table border=\"1\" class=\"dataframe\">\n",
       "  <thead>\n",
       "    <tr style=\"text-align: right;\">\n",
       "      <th></th>\n",
       "      <th>EffectiveDate</th>\n",
       "      <th>TotalRevenue</th>\n",
       "      <th>NetIncome</th>\n",
       "      <th>GrossProfit</th>\n",
       "      <th>EBITDA</th>\n",
       "      <th>RevenuePctChange</th>\n",
       "    </tr>\n",
       "  </thead>\n",
       "  <tbody>\n",
       "    <tr>\n",
       "      <th>count</th>\n",
       "      <td>15201</td>\n",
       "      <td>15173.00000000</td>\n",
       "      <td>15055.00000000</td>\n",
       "      <td>14533.00000000</td>\n",
       "      <td>13559.00000000</td>\n",
       "      <td>15201.00000000</td>\n",
       "    </tr>\n",
       "    <tr>\n",
       "      <th>mean</th>\n",
       "      <td>2011-12-27 00:50:23.801065984</td>\n",
       "      <td>19643313721.97180939</td>\n",
       "      <td>2063735000.42716646</td>\n",
       "      <td>7294729537.88119316</td>\n",
       "      <td>7807297030.59245682</td>\n",
       "      <td>6.00368009</td>\n",
       "    </tr>\n",
       "    <tr>\n",
       "      <th>min</th>\n",
       "      <td>1997-12-31 00:00:00</td>\n",
       "      <td>-6342162000.00000000</td>\n",
       "      <td>-6308431000000.00000000</td>\n",
       "      <td>-1203160691000.00000000</td>\n",
       "      <td>-311210000000.00000000</td>\n",
       "      <td>-49.94082840</td>\n",
       "    </tr>\n",
       "    <tr>\n",
       "      <th>25%</th>\n",
       "      <td>2005-12-31 00:00:00</td>\n",
       "      <td>509687000.00000000</td>\n",
       "      <td>20732500.00000000</td>\n",
       "      <td>202928000.00000000</td>\n",
       "      <td>84774500.00000000</td>\n",
       "      <td>-1.89599133</td>\n",
       "    </tr>\n",
       "    <tr>\n",
       "      <th>50%</th>\n",
       "      <td>2011-12-31 00:00:00</td>\n",
       "      <td>1316000000.00000000</td>\n",
       "      <td>91639000.00000000</td>\n",
       "      <td>537400000.00000000</td>\n",
       "      <td>243700000.00000000</td>\n",
       "      <td>5.67875052</td>\n",
       "    </tr>\n",
       "    <tr>\n",
       "      <th>75%</th>\n",
       "      <td>2017-12-31 00:00:00</td>\n",
       "      <td>3308000000.00000000</td>\n",
       "      <td>277225000.00000000</td>\n",
       "      <td>1421700000.00000000</td>\n",
       "      <td>668550000.00000000</td>\n",
       "      <td>14.23822056</td>\n",
       "    </tr>\n",
       "    <tr>\n",
       "      <th>max</th>\n",
       "      <td>2023-12-31 00:00:00</td>\n",
       "      <td>39678000000000.00000000</td>\n",
       "      <td>6833872000000.00000000</td>\n",
       "      <td>15671000000000.00000000</td>\n",
       "      <td>15063000000000.00000000</td>\n",
       "      <td>50.00000000</td>\n",
       "    </tr>\n",
       "    <tr>\n",
       "      <th>std</th>\n",
       "      <td>NaN</td>\n",
       "      <td>577317315501.90307617</td>\n",
       "      <td>106969839768.35304260</td>\n",
       "      <td>203632061208.16336060</td>\n",
       "      <td>241692889886.20645142</td>\n",
       "      <td>15.85408831</td>\n",
       "    </tr>\n",
       "  </tbody>\n",
       "</table>\n",
       "</div>"
      ],
      "text/plain": [
       "                       EffectiveDate            TotalRevenue  \\\n",
       "count                          15201          15173.00000000   \n",
       "mean   2011-12-27 00:50:23.801065984    19643313721.97180939   \n",
       "min              1997-12-31 00:00:00    -6342162000.00000000   \n",
       "25%              2005-12-31 00:00:00      509687000.00000000   \n",
       "50%              2011-12-31 00:00:00     1316000000.00000000   \n",
       "75%              2017-12-31 00:00:00     3308000000.00000000   \n",
       "max              2023-12-31 00:00:00 39678000000000.00000000   \n",
       "std                              NaN   577317315501.90307617   \n",
       "\n",
       "                    NetIncome             GrossProfit                  EBITDA  \\\n",
       "count          15055.00000000          14533.00000000          13559.00000000   \n",
       "mean      2063735000.42716646     7294729537.88119316     7807297030.59245682   \n",
       "min   -6308431000000.00000000 -1203160691000.00000000  -311210000000.00000000   \n",
       "25%         20732500.00000000      202928000.00000000       84774500.00000000   \n",
       "50%         91639000.00000000      537400000.00000000      243700000.00000000   \n",
       "75%        277225000.00000000     1421700000.00000000      668550000.00000000   \n",
       "max    6833872000000.00000000 15671000000000.00000000 15063000000000.00000000   \n",
       "std     106969839768.35304260   203632061208.16336060   241692889886.20645142   \n",
       "\n",
       "       RevenuePctChange  \n",
       "count    15201.00000000  \n",
       "mean         6.00368009  \n",
       "min        -49.94082840  \n",
       "25%         -1.89599133  \n",
       "50%          5.67875052  \n",
       "75%         14.23822056  \n",
       "max         50.00000000  \n",
       "std         15.85408831  "
      ]
     },
     "execution_count": 9,
     "metadata": {},
     "output_type": "execute_result"
    }
   ],
   "source": [
    "income_statements_for_viz.describe()"
   ]
  },
  {
   "cell_type": "code",
   "execution_count": null,
   "metadata": {},
   "outputs": [
    {
     "name": "stderr",
     "output_type": "stream",
     "text": [
      "C:\\Users\\emilh\\AppData\\Local\\Temp\\ipykernel_7432\\3984322796.py:4: SettingWithCopyWarning:\n",
      "\n",
      "\n",
      "A value is trying to be set on a copy of a slice from a DataFrame.\n",
      "Try using .loc[row_indexer,col_indexer] = value instead\n",
      "\n",
      "See the caveats in the documentation: https://pandas.pydata.org/pandas-docs/stable/user_guide/indexing.html#returning-a-view-versus-a-copy\n",
      "\n"
     ]
    },
    {
     "data": {
      "image/png": "[encoded data removed]",
      "text/plain": [
       "<Figure size 1400x600 with 1 Axes>"
      ]
     },
     "metadata": {},
     "output_type": "display_data"
    }
   ],
   "source": [
    "\n",
    "income_statements_for_viz['Quarter'] = income_statements_for_viz['EffectiveDate'].dt.to_period('Q').astype(str)\n",
    "\n",
    "plt.figure(figsize=(14, 6))\n",
    "sns.boxplot(x='Quarter', y='RevenuePctChange', data=income_statements_for_viz, color='skyblue', whis=1.5)\n",
    "\n",
    "\n",
    "plt.title('Change in Total Revenue Distribution per Quarter')\n",
    "plt.xlabel('Quarter')\n",
    "plt.ylabel('Change in Total Revenue')\n",
    "plt.xticks(rotation=45)\n",
    "\n",
    "for i, quarter in enumerate(income_statements_for_viz['Quarter'].unique()):\n",
    "    mean_value = income_statements_for_viz[income_statements_for_viz['Quarter'] == quarter]['RevenuePctChange'].mean()\n",
    "    if i != 0:\n",
    "        plt.plot([i - 0.5, i + 0.5], [mean_value, mean_value], color='#3beb1c' if mean_value > 0 else 'red')\n",
    "    \n",
    "plt.grid(True, which='both', linestyle='--', linewidth=0.5)\n",
    "plt.show()"
   ]
  },
  {
   "cell_type": "code",
   "execution_count": null,
   "metadata": {},
   "outputs": [
    {
     "data": {
      "text/html": [
       "<div>\n",
       "<style scoped>\n",
       "    .dataframe tbody tr th:only-of-type {\n",
       "        vertical-align: middle;\n",
       "    }\n",
       "\n",
       "    .dataframe tbody tr th {\n",
       "        vertical-align: top;\n",
       "    }\n",
       "\n",
       "    .dataframe thead th {\n",
       "        text-align: right;\n",
       "    }\n",
       "</style>\n",
       "<table border=\"1\" class=\"dataframe\">\n",
       "  <thead>\n",
       "    <tr style=\"text-align: right;\">\n",
       "      <th></th>\n",
       "      <th>Investments</th>\n",
       "      <th>NetIncome</th>\n",
       "      <th>BeginPeriodCashFlow</th>\n",
       "      <th>EndPeriodCashFlow</th>\n",
       "      <th>ChangeInCash</th>\n",
       "      <th>ChangeToInventory</th>\n",
       "      <th>FreeCashFlow</th>\n",
       "      <th>CapitalExpenditures</th>\n",
       "    </tr>\n",
       "  </thead>\n",
       "  <tbody>\n",
       "    <tr>\n",
       "      <th>count</th>\n",
       "      <td>28617.00000000</td>\n",
       "      <td>79032.00000000</td>\n",
       "      <td>69616.00000000</td>\n",
       "      <td>70525.00000000</td>\n",
       "      <td>72539.00000000</td>\n",
       "      <td>57122.00000000</td>\n",
       "      <td>70497.00000000</td>\n",
       "      <td>80271.00000000</td>\n",
       "    </tr>\n",
       "    <tr>\n",
       "      <th>mean</th>\n",
       "      <td>-37732861350.72314453</td>\n",
       "      <td>2339938051.17148876</td>\n",
       "      <td>9447152886.50231934</td>\n",
       "      <td>20553688683.78673553</td>\n",
       "      <td>-4789624794.68937969</td>\n",
       "      <td>-11719571.03665661</td>\n",
       "      <td>1461500167.35873270</td>\n",
       "      <td>72399424877.34858704</td>\n",
       "    </tr>\n",
       "    <tr>\n",
       "      <th>std</th>\n",
       "      <td>6180399199752.73046875</td>\n",
       "      <td>104500892762.04258728</td>\n",
       "      <td>249856565232.64077759</td>\n",
       "      <td>1583287847466.61083984</td>\n",
       "      <td>1275846880750.11376953</td>\n",
       "      <td>82408707438.31732178</td>\n",
       "      <td>93876775511.29743958</td>\n",
       "      <td>19683127583162.00390625</td>\n",
       "    </tr>\n",
       "    <tr>\n",
       "      <th>min</th>\n",
       "      <td>-1045406683470800.00000000</td>\n",
       "      <td>-6308429000000.00000000</td>\n",
       "      <td>-31606870000.00000000</td>\n",
       "      <td>-97760998638.88000488</td>\n",
       "      <td>-343124279518400.00000000</td>\n",
       "      <td>-14569952047000.00000000</td>\n",
       "      <td>-4843834000000.00000000</td>\n",
       "      <td>0.00000000</td>\n",
       "    </tr>\n",
       "    <tr>\n",
       "      <th>25%</th>\n",
       "      <td>-132200000.00000000</td>\n",
       "      <td>19599999.75000000</td>\n",
       "      <td>106439750.00000000</td>\n",
       "      <td>98700000.00000000</td>\n",
       "      <td>-62582000.00000000</td>\n",
       "      <td>-30016250.00000000</td>\n",
       "      <td>-3000000.00000000</td>\n",
       "      <td>14795000.00000000</td>\n",
       "    </tr>\n",
       "    <tr>\n",
       "      <th>50%</th>\n",
       "      <td>-10000000.00000000</td>\n",
       "      <td>86000000.00000000</td>\n",
       "      <td>396000000.00000000</td>\n",
       "      <td>391000000.00000000</td>\n",
       "      <td>1800000.00000000</td>\n",
       "      <td>0.00000000</td>\n",
       "      <td>77000000.00000000</td>\n",
       "      <td>52122000.00000000</td>\n",
       "    </tr>\n",
       "    <tr>\n",
       "      <th>75%</th>\n",
       "      <td>8273000.00000000</td>\n",
       "      <td>265652000.00000000</td>\n",
       "      <td>1322000000.00000000</td>\n",
       "      <td>1320000000.00000000</td>\n",
       "      <td>86370000.00000000</td>\n",
       "      <td>14000000.00000000</td>\n",
       "      <td>302997000.00000000</td>\n",
       "      <td>181000000.00000000</td>\n",
       "    </tr>\n",
       "    <tr>\n",
       "      <th>max</th>\n",
       "      <td>5835906000000.00000000</td>\n",
       "      <td>10487825000000.00000000</td>\n",
       "      <td>15497345000000.00000000</td>\n",
       "      <td>297584093953000.00000000</td>\n",
       "      <td>5065000000000.00000000</td>\n",
       "      <td>2826563649000.00000000</td>\n",
       "      <td>9441880000000.00000000</td>\n",
       "      <td>5576571234771700.00000000</td>\n",
       "    </tr>\n",
       "  </tbody>\n",
       "</table>\n",
       "</div>"
      ],
      "text/plain": [
       "                     Investments               NetIncome  \\\n",
       "count             28617.00000000          79032.00000000   \n",
       "mean       -37732861350.72314453     2339938051.17148876   \n",
       "std       6180399199752.73046875   104500892762.04258728   \n",
       "min   -1045406683470800.00000000 -6308429000000.00000000   \n",
       "25%          -132200000.00000000       19599999.75000000   \n",
       "50%           -10000000.00000000       86000000.00000000   \n",
       "75%             8273000.00000000      265652000.00000000   \n",
       "max       5835906000000.00000000 10487825000000.00000000   \n",
       "\n",
       "          BeginPeriodCashFlow        EndPeriodCashFlow  \\\n",
       "count          69616.00000000           70525.00000000   \n",
       "mean      9447152886.50231934     20553688683.78673553   \n",
       "std     249856565232.64077759   1583287847466.61083984   \n",
       "min     -31606870000.00000000    -97760998638.88000488   \n",
       "25%        106439750.00000000        98700000.00000000   \n",
       "50%        396000000.00000000       391000000.00000000   \n",
       "75%       1322000000.00000000      1320000000.00000000   \n",
       "max   15497345000000.00000000 297584093953000.00000000   \n",
       "\n",
       "                   ChangeInCash        ChangeToInventory  \\\n",
       "count            72539.00000000           57122.00000000   \n",
       "mean       -4789624794.68937969       -11719571.03665661   \n",
       "std      1275846880750.11376953     82408707438.31732178   \n",
       "min   -343124279518400.00000000 -14569952047000.00000000   \n",
       "25%          -62582000.00000000       -30016250.00000000   \n",
       "50%            1800000.00000000               0.00000000   \n",
       "75%           86370000.00000000        14000000.00000000   \n",
       "max      5065000000000.00000000   2826563649000.00000000   \n",
       "\n",
       "                 FreeCashFlow       CapitalExpenditures  \n",
       "count          70497.00000000            80271.00000000  \n",
       "mean      1461500167.35873270      72399424877.34858704  \n",
       "std      93876775511.29743958   19683127583162.00390625  \n",
       "min   -4843834000000.00000000                0.00000000  \n",
       "25%         -3000000.00000000         14795000.00000000  \n",
       "50%         77000000.00000000         52122000.00000000  \n",
       "75%        302997000.00000000        181000000.00000000  \n",
       "max    9441880000000.00000000 5576571234771700.00000000  "
      ]
     },
     "execution_count": 21,
     "metadata": {},
     "output_type": "execute_result"
    }
   ],
   "source": [
    "cash_flow = query_stock_data(table=\"Cash_Flow\", ticker = \"all_stocks\", start_date = \"1996-01-01\", end_date = \"2024-01-01\")\n",
    "\n",
    "cash_flow.describe()\n"
   ]
  },
  {
   "cell_type": "code",
   "execution_count": null,
   "metadata": {},
   "outputs": [],
   "source": []
  },
  {
   "cell_type": "code",
   "execution_count": null,
   "metadata": {},
   "outputs": [],
   "source": []
  },
  {
   "cell_type": "markdown",
   "metadata": {},
   "source": [
    "# Check if price data looks alright "
   ]
  },
  {
   "cell_type": "code",
   "execution_count": 1,
   "metadata": {},
   "outputs": [
    {
     "ename": "NameError",
     "evalue": "name 'query_stock_data' is not defined",
     "output_type": "error",
     "traceback": [
      "\u001b[1;31m---------------------------------------------------------------------------\u001b[0m",
      "\u001b[1;31mNameError\u001b[0m                                 Traceback (most recent call last)",
      "Cell \u001b[1;32mIn[1], line 14\u001b[0m\n\u001b[0;32m     10\u001b[0m     fig\u001b[38;5;241m.\u001b[39mupdate_layout(title\u001b[38;5;241m=\u001b[39m\u001b[38;5;124m'\u001b[39m\u001b[38;5;124mNVDA Stock Prices\u001b[39m\u001b[38;5;124m'\u001b[39m, xaxis_title\u001b[38;5;241m=\u001b[39m\u001b[38;5;124m'\u001b[39m\u001b[38;5;124mDate\u001b[39m\u001b[38;5;124m'\u001b[39m, yaxis_title\u001b[38;5;241m=\u001b[39m\u001b[38;5;124m'\u001b[39m\u001b[38;5;124mPrice\u001b[39m\u001b[38;5;124m'\u001b[39m)\n\u001b[0;32m     11\u001b[0m     fig\u001b[38;5;241m.\u001b[39mshow()\n\u001b[1;32m---> 14\u001b[0m \u001b[43mplot_pice_data\u001b[49m\u001b[43m(\u001b[49m\u001b[43mticker\u001b[49m\u001b[38;5;241;43m=\u001b[39;49m\u001b[38;5;124;43m\"\u001b[39;49m\u001b[38;5;124;43mhwm\u001b[39;49m\u001b[38;5;124;43m\"\u001b[39;49m\u001b[43m,\u001b[49m\u001b[43m \u001b[49m\u001b[43mstart_date\u001b[49m\u001b[38;5;241;43m=\u001b[39;49m\u001b[38;5;124;43m\"\u001b[39;49m\u001b[38;5;124;43m1996-01-01\u001b[39;49m\u001b[38;5;124;43m\"\u001b[39;49m\u001b[43m,\u001b[49m\u001b[43m \u001b[49m\u001b[43mend_date\u001b[49m\u001b[38;5;241;43m=\u001b[39;49m\u001b[38;5;124;43m\"\u001b[39;49m\u001b[38;5;124;43m2024-01-01\u001b[39;49m\u001b[38;5;124;43m\"\u001b[39;49m\u001b[43m)\u001b[49m\n",
      "Cell \u001b[1;32mIn[1], line 2\u001b[0m, in \u001b[0;36mplot_pice_data\u001b[1;34m(ticker, start_date, end_date)\u001b[0m\n\u001b[0;32m      1\u001b[0m \u001b[38;5;28;01mdef\u001b[39;00m \u001b[38;5;21mplot_pice_data\u001b[39m(ticker, start_date, end_date):\n\u001b[1;32m----> 2\u001b[0m     df \u001b[38;5;241m=\u001b[39m \u001b[43mquery_stock_data\u001b[49m(table\u001b[38;5;241m=\u001b[39m\u001b[38;5;124m\"\u001b[39m\u001b[38;5;124mPrice_Data\u001b[39m\u001b[38;5;124m\"\u001b[39m, ticker\u001b[38;5;241m=\u001b[39mticker, start_date\u001b[38;5;241m=\u001b[39mstart_date, end_date\u001b[38;5;241m=\u001b[39mend_date)\n\u001b[0;32m      3\u001b[0m     \u001b[38;5;28mprint\u001b[39m(df\u001b[38;5;241m.\u001b[39mhead())\n\u001b[0;32m      4\u001b[0m     fig \u001b[38;5;241m=\u001b[39m go\u001b[38;5;241m.\u001b[39mFigure(data\u001b[38;5;241m=\u001b[39m[go\u001b[38;5;241m.\u001b[39mCandlestick(x\u001b[38;5;241m=\u001b[39mdf[\u001b[38;5;124m'\u001b[39m\u001b[38;5;124mDate\u001b[39m\u001b[38;5;124m'\u001b[39m],\n\u001b[0;32m      5\u001b[0m                 \u001b[38;5;28mopen\u001b[39m\u001b[38;5;241m=\u001b[39mdf[\u001b[38;5;124m'\u001b[39m\u001b[38;5;124mOpen\u001b[39m\u001b[38;5;124m'\u001b[39m],\n\u001b[0;32m      6\u001b[0m                 high\u001b[38;5;241m=\u001b[39mdf[\u001b[38;5;124m'\u001b[39m\u001b[38;5;124mHigh\u001b[39m\u001b[38;5;124m'\u001b[39m],\n\u001b[0;32m      7\u001b[0m                 low\u001b[38;5;241m=\u001b[39mdf[\u001b[38;5;124m'\u001b[39m\u001b[38;5;124mLow\u001b[39m\u001b[38;5;124m'\u001b[39m],\n\u001b[0;32m      8\u001b[0m                 close\u001b[38;5;241m=\u001b[39mdf[\u001b[38;5;124m'\u001b[39m\u001b[38;5;124mClose\u001b[39m\u001b[38;5;124m'\u001b[39m])])\n",
      "\u001b[1;31mNameError\u001b[0m: name 'query_stock_data' is not defined"
     ]
    }
   ],
   "source": [
    "def plot_pice_data(ticker, start_date, end_date):\n",
    "    df = query_stock_data(table=\"Price_Data\", ticker=ticker, start_date=start_date, end_date=end_date)\n",
    "    print(df.head())\n",
    "    fig = go.Figure(data=[go.Candlestick(x=df['Date'],\n",
    "                open=df['Open'],\n",
    "                high=df['High'],\n",
    "                low=df['Low'],\n",
    "                close=df['Close'])])\n",
    "\n",
    "    fig.update_layout(title='NVDA Stock Prices', xaxis_title='Date', yaxis_title='Price')\n",
    "    fig.show()\n",
    "\n",
    "\n",
    "plot_pice_data(ticker=\"hwm\", start_date=\"1996-01-01\", end_date=\"2024-01-01\")"
   ]
  },
  {
   "cell_type": "code",
   "execution_count": null,
   "metadata": {},
   "outputs": [
    {
     "name": "stdout",
     "output_type": "stream",
     "text": [
      "  Ticker                 Date       Open       High        Low      Close  \\\n",
      "0   NVDA  2020-01-02 00:00:00 5.94421919 5.97310000 5.89367776 5.97310000   \n",
      "1   NVDA  2020-01-03 00:00:00 5.85334964 5.92131921 5.82845237 5.87750000   \n",
      "2   NVDA  2020-01-06 00:00:00 5.78418588 5.90742847 5.75804351 5.90220000   \n",
      "3   NVDA  2020-01-07 00:00:00 5.93052774 6.01941096 5.88546369 5.97360000   \n",
      "4   NVDA  2020-01-08 00:00:00 5.96936371 6.02612943 5.92925424 5.98480000   \n",
      "\n",
      "   Adjusted_Close  Adjusted_Scalar           Volume  \n",
      "0      5.97310000       0.02489725 5917548.20311700  \n",
      "1      5.87750000       0.02489728 5123170.24206803  \n",
      "2      5.90220000       0.02489749 6545861.89888383  \n",
      "3      5.97360000       0.02489726 7947349.26860001  \n",
      "4      5.98480000       0.02489725 6902529.34399534  \n"
     ]
    },
    {
     "data": {
      "application/vnd.plotly.v1+json": {
       "config": {
        "plotlyServerURL": "https://plot.ly"
       },
       "data": [
        {
         "type": "bar",
         "x": [
          "2020-01-02 00:00:00",
          "2020-01-03 00:00:00",
          "2020-01-06 00:00:00",
          "2020-01-07 00:00:00",
          "2020-01-08 00:00:00",
          "2020-01-09 00:00:00",
          "2020-01-10 00:00:00",
          "2020-01-13 00:00:00",
          "2020-01-14 00:00:00",
          "2020-01-15 00:00:00",
          "2020-01-16 00:00:00",
          "2020-01-17 00:00:00",
          "2020-01-21 00:00:00",
          "2020-01-22 00:00:00",
          "2020-01-23 00:00:00",
          "2020-01-24 00:00:00",
          "2020-01-27 00:00:00",
          "2020-01-28 00:00:00",
          "2020-01-29 00:00:00",
          "2020-01-30 00:00:00",
          "2020-01-31 00:00:00",
          "2020-02-03 00:00:00",
          "2020-02-04 00:00:00",
          "2020-02-05 00:00:00",
          "2020-02-06 00:00:00",
          "2020-02-07 00:00:00",
          "2020-02-10 00:00:00",
          "2020-02-11 00:00:00",
          "2020-02-12 00:00:00",
          "2020-02-13 00:00:00",
          "2020-02-14 00:00:00",
          "2020-02-18 00:00:00",
          "2020-02-19 00:00:00",
          "2020-02-20 00:00:00",
          "2020-02-21 00:00:00",
          "2020-02-24 00:00:00",
          "2020-02-25 00:00:00",
          "2020-02-26 00:00:00",
          "2020-02-27 00:00:00",
          "2020-02-28 00:00:00",
          "2020-03-02 00:00:00",
          "2020-03-03 00:00:00",
          "2020-03-04 00:00:00",
          "2020-03-05 00:00:00",
          "2020-03-06 00:00:00",
          "2020-03-09 00:00:00",
          "2020-03-10 00:00:00",
          "2020-03-11 00:00:00",
          "2020-03-12 00:00:00",
          "2020-03-13 00:00:00",
          "2020-03-16 00:00:00",
          "2020-03-17 00:00:00",
          "2020-03-18 00:00:00",
          "2020-03-19 00:00:00",
          "2020-03-20 00:00:00",
          "2020-03-23 00:00:00",
          "2020-03-24 00:00:00",
          "2020-03-25 00:00:00",
          "2020-03-26 00:00:00",
          "2020-03-27 00:00:00",
          "2020-03-30 00:00:00",
          "2020-03-31 00:00:00",
          "2020-04-01 00:00:00",
          "2020-04-02 00:00:00",
          "2020-04-03 00:00:00",
          "2020-04-06 00:00:00",
          "2020-04-07 00:00:00",
          "2020-04-08 00:00:00",
          "2020-04-09 00:00:00",
          "2020-04-13 00:00:00",
          "2020-04-14 00:00:00",
          "2020-04-15 00:00:00",
          "2020-04-16 00:00:00",
          "2020-04-17 00:00:00",
          "2020-04-20 00:00:00",
          "2020-04-21 00:00:00",
          "2020-04-22 00:00:00",
          "2020-04-23 00:00:00",
          "2020-04-24 00:00:00",
          "2020-04-27 00:00:00",
          "2020-04-28 00:00:00",
          "2020-04-29 00:00:00",
          "2020-04-30 00:00:00",
          "2020-05-01 00:00:00",
          "2020-05-04 00:00:00",
          "2020-05-05 00:00:00",
          "2020-05-06 00:00:00",
          "2020-05-07 00:00:00",
          "2020-05-08 00:00:00",
          "2020-05-11 00:00:00",
          "2020-05-12 00:00:00",
          "2020-05-13 00:00:00",
          "2020-05-14 00:00:00",
          "2020-05-15 00:00:00",
          "2020-05-18 00:00:00",
          "2020-05-19 00:00:00",
          "2020-05-20 00:00:00",
          "2020-05-21 00:00:00",
          "2020-05-22 00:00:00",
          "2020-05-26 00:00:00",
          "2020-05-27 00:00:00",
          "2020-05-28 00:00:00",
          "2020-05-29 00:00:00",
          "2020-06-01 00:00:00",
          "2020-06-02 00:00:00",
          "2020-06-03 00:00:00",
          "2020-06-04 00:00:00",
          "2020-06-05 00:00:00",
          "2020-06-08 00:00:00",
          "2020-06-09 00:00:00",
          "2020-06-10 00:00:00",
          "2020-06-11 00:00:00",
          "2020-06-12 00:00:00",
          "2020-06-15 00:00:00",
          "2020-06-16 00:00:00",
          "2020-06-17 00:00:00",
          "2020-06-18 00:00:00",
          "2020-06-19 00:00:00",
          "2020-06-22 00:00:00",
          "2020-06-23 00:00:00",
          "2020-06-24 00:00:00",
          "2020-06-25 00:00:00",
          "2020-06-26 00:00:00",
          "2020-06-29 00:00:00",
          "2020-06-30 00:00:00",
          "2020-07-01 00:00:00",
          "2020-07-02 00:00:00",
          "2020-07-06 00:00:00",
          "2020-07-07 00:00:00",
          "2020-07-08 00:00:00",
          "2020-07-09 00:00:00",
          "2020-07-10 00:00:00",
          "2020-07-13 00:00:00",
          "2020-07-14 00:00:00",
          "2020-07-15 00:00:00",
          "2020-07-16 00:00:00",
          "2020-07-17 00:00:00",
          "2020-07-20 00:00:00",
          "2020-07-21 00:00:00",
          "2020-07-22 00:00:00",
          "2020-07-23 00:00:00",
          "2020-07-24 00:00:00",
          "2020-07-27 00:00:00",
          "2020-07-28 00:00:00",
          "2020-07-29 00:00:00",
          "2020-07-30 00:00:00",
          "2020-07-31 00:00:00",
          "2020-08-03 00:00:00",
          "2020-08-04 00:00:00",
          "2020-08-05 00:00:00",
          "2020-08-06 00:00:00",
          "2020-08-07 00:00:00",
          "2020-08-10 00:00:00",
          "2020-08-11 00:00:00",
          "2020-08-12 00:00:00",
          "2020-08-13 00:00:00",
          "2020-08-14 00:00:00",
          "2020-08-17 00:00:00",
          "2020-08-18 00:00:00",
          "2020-08-19 00:00:00",
          "2020-08-20 00:00:00",
          "2020-08-21 00:00:00",
          "2020-08-24 00:00:00",
          "2020-08-25 00:00:00",
          "2020-08-26 00:00:00",
          "2020-08-27 00:00:00",
          "2020-08-28 00:00:00",
          "2020-08-31 00:00:00",
          "2020-09-01 00:00:00",
          "2020-09-02 00:00:00",
          "2020-09-03 00:00:00",
          "2020-09-04 00:00:00",
          "2020-09-08 00:00:00",
          "2020-09-09 00:00:00",
          "2020-09-10 00:00:00",
          "2020-09-11 00:00:00",
          "2020-09-14 00:00:00",
          "2020-09-15 00:00:00",
          "2020-09-16 00:00:00",
          "2020-09-17 00:00:00",
          "2020-09-18 00:00:00",
          "2020-09-21 00:00:00",
          "2020-09-22 00:00:00",
          "2020-09-23 00:00:00",
          "2020-09-24 00:00:00",
          "2020-09-25 00:00:00",
          "2020-09-28 00:00:00",
          "2020-09-29 00:00:00",
          "2020-09-30 00:00:00",
          "2020-10-01 00:00:00",
          "2020-10-02 00:00:00",
          "2020-10-05 00:00:00",
          "2020-10-06 00:00:00",
          "2020-10-07 00:00:00",
          "2020-10-08 00:00:00",
          "2020-10-09 00:00:00",
          "2020-10-12 00:00:00",
          "2020-10-13 00:00:00",
          "2020-10-14 00:00:00",
          "2020-10-15 00:00:00",
          "2020-10-16 00:00:00",
          "2020-10-19 00:00:00",
          "2020-10-20 00:00:00",
          "2020-10-21 00:00:00",
          "2020-10-22 00:00:00",
          "2020-10-23 00:00:00",
          "2020-10-26 00:00:00",
          "2020-10-27 00:00:00",
          "2020-10-28 00:00:00",
          "2020-10-29 00:00:00",
          "2020-10-30 00:00:00",
          "2020-11-02 00:00:00",
          "2020-11-03 00:00:00",
          "2020-11-04 00:00:00",
          "2020-11-05 00:00:00",
          "2020-11-06 00:00:00",
          "2020-11-09 00:00:00",
          "2020-11-10 00:00:00",
          "2020-11-11 00:00:00",
          "2020-11-12 00:00:00",
          "2020-11-13 00:00:00",
          "2020-11-16 00:00:00",
          "2020-11-17 00:00:00",
          "2020-11-18 00:00:00",
          "2020-11-19 00:00:00",
          "2020-11-20 00:00:00",
          "2020-11-23 00:00:00",
          "2020-11-24 00:00:00",
          "2020-11-25 00:00:00",
          "2020-11-27 00:00:00",
          "2020-11-30 00:00:00",
          "2020-12-01 00:00:00",
          "2020-12-02 00:00:00",
          "2020-12-03 00:00:00",
          "2020-12-04 00:00:00",
          "2020-12-07 00:00:00",
          "2020-12-08 00:00:00",
          "2020-12-09 00:00:00",
          "2020-12-10 00:00:00",
          "2020-12-11 00:00:00",
          "2020-12-14 00:00:00",
          "2020-12-15 00:00:00",
          "2020-12-16 00:00:00",
          "2020-12-17 00:00:00",
          "2020-12-18 00:00:00",
          "2020-12-21 00:00:00",
          "2020-12-22 00:00:00",
          "2020-12-23 00:00:00",
          "2020-12-24 00:00:00",
          "2020-12-28 00:00:00",
          "2020-12-29 00:00:00",
          "2020-12-30 00:00:00",
          "2020-12-31 00:00:00",
          "2021-01-04 00:00:00",
          "2021-01-05 00:00:00",
          "2021-01-06 00:00:00",
          "2021-01-07 00:00:00",
          "2021-01-08 00:00:00",
          "2021-01-11 00:00:00",
          "2021-01-12 00:00:00",
          "2021-01-13 00:00:00",
          "2021-01-14 00:00:00",
          "2021-01-15 00:00:00",
          "2021-01-19 00:00:00",
          "2021-01-20 00:00:00",
          "2021-01-21 00:00:00",
          "2021-01-22 00:00:00",
          "2021-01-25 00:00:00",
          "2021-01-26 00:00:00",
          "2021-01-27 00:00:00",
          "2021-01-28 00:00:00",
          "2021-01-29 00:00:00",
          "2021-02-01 00:00:00",
          "2021-02-02 00:00:00",
          "2021-02-03 00:00:00",
          "2021-02-04 00:00:00",
          "2021-02-05 00:00:00",
          "2021-02-08 00:00:00",
          "2021-02-09 00:00:00",
          "2021-02-10 00:00:00",
          "2021-02-11 00:00:00",
          "2021-02-12 00:00:00",
          "2021-02-16 00:00:00",
          "2021-02-17 00:00:00",
          "2021-02-18 00:00:00",
          "2021-02-19 00:00:00",
          "2021-02-22 00:00:00",
          "2021-02-23 00:00:00",
          "2021-02-24 00:00:00",
          "2021-02-25 00:00:00",
          "2021-02-26 00:00:00",
          "2021-03-01 00:00:00",
          "2021-03-02 00:00:00",
          "2021-03-03 00:00:00",
          "2021-03-04 00:00:00",
          "2021-03-05 00:00:00",
          "2021-03-08 00:00:00",
          "2021-03-09 00:00:00",
          "2021-03-10 00:00:00",
          "2021-03-11 00:00:00",
          "2021-03-12 00:00:00",
          "2021-03-15 00:00:00",
          "2021-03-16 00:00:00",
          "2021-03-17 00:00:00",
          "2021-03-18 00:00:00",
          "2021-03-19 00:00:00",
          "2021-03-22 00:00:00",
          "2021-03-23 00:00:00",
          "2021-03-24 00:00:00",
          "2021-03-25 00:00:00",
          "2021-03-26 00:00:00",
          "2021-03-29 00:00:00",
          "2021-03-30 00:00:00",
          "2021-03-31 00:00:00",
          "2021-04-01 00:00:00",
          "2021-04-05 00:00:00",
          "2021-04-06 00:00:00",
          "2021-04-07 00:00:00",
          "2021-04-08 00:00:00",
          "2021-04-09 00:00:00",
          "2021-04-12 00:00:00",
          "2021-04-13 00:00:00",
          "2021-04-14 00:00:00",
          "2021-04-15 00:00:00",
          "2021-04-16 00:00:00",
          "2021-04-19 00:00:00",
          "2021-04-20 00:00:00",
          "2021-04-21 00:00:00",
          "2021-04-22 00:00:00",
          "2021-04-23 00:00:00",
          "2021-04-26 00:00:00",
          "2021-04-27 00:00:00",
          "2021-04-28 00:00:00",
          "2021-04-29 00:00:00",
          "2021-04-30 00:00:00",
          "2021-05-03 00:00:00",
          "2021-05-04 00:00:00",
          "2021-05-05 00:00:00",
          "2021-05-06 00:00:00",
          "2021-05-07 00:00:00",
          "2021-05-10 00:00:00",
          "2021-05-11 00:00:00",
          "2021-05-12 00:00:00",
          "2021-05-13 00:00:00",
          "2021-05-14 00:00:00",
          "2021-05-17 00:00:00",
          "2021-05-18 00:00:00",
          "2021-05-19 00:00:00",
          "2021-05-20 00:00:00",
          "2021-05-21 00:00:00",
          "2021-05-24 00:00:00",
          "2021-05-25 00:00:00",
          "2021-05-26 00:00:00",
          "2021-05-27 00:00:00",
          "2021-05-28 00:00:00",
          "2021-06-01 00:00:00",
          "2021-06-02 00:00:00",
          "2021-06-03 00:00:00",
          "2021-06-04 00:00:00",
          "2021-06-07 00:00:00",
          "2021-06-08 00:00:00",
          "2021-06-09 00:00:00",
          "2021-06-10 00:00:00",
          "2021-06-11 00:00:00",
          "2021-06-14 00:00:00",
          "2021-06-15 00:00:00",
          "2021-06-16 00:00:00",
          "2021-06-17 00:00:00",
          "2021-06-18 00:00:00",
          "2021-06-21 00:00:00",
          "2021-06-22 00:00:00",
          "2021-06-23 00:00:00",
          "2021-06-24 00:00:00",
          "2021-06-25 00:00:00",
          "2021-06-28 00:00:00",
          "2021-06-29 00:00:00",
          "2021-06-30 00:00:00",
          "2021-07-01 00:00:00",
          "2021-07-02 00:00:00",
          "2021-07-06 00:00:00",
          "2021-07-07 00:00:00",
          "2021-07-08 00:00:00",
          "2021-07-09 00:00:00",
          "2021-07-12 00:00:00",
          "2021-07-13 00:00:00",
          "2021-07-14 00:00:00",
          "2021-07-15 00:00:00",
          "2021-07-16 00:00:00",
          "2021-07-19 00:00:00",
          "2021-07-20 00:00:00",
          "2021-07-21 00:00:00",
          "2021-07-22 00:00:00",
          "2021-07-23 00:00:00",
          "2021-07-26 00:00:00",
          "2021-07-27 00:00:00",
          "2021-07-28 00:00:00",
          "2021-07-29 00:00:00",
          "2021-07-30 00:00:00",
          "2021-08-02 00:00:00",
          "2021-08-03 00:00:00",
          "2021-08-04 00:00:00",
          "2021-08-05 00:00:00",
          "2021-08-06 00:00:00",
          "2021-08-09 00:00:00",
          "2021-08-10 00:00:00",
          "2021-08-11 00:00:00",
          "2021-08-12 00:00:00",
          "2021-08-13 00:00:00",
          "2021-08-16 00:00:00",
          "2021-08-17 00:00:00",
          "2021-08-18 00:00:00",
          "2021-08-19 00:00:00",
          "2021-08-20 00:00:00",
          "2021-08-23 00:00:00",
          "2021-08-24 00:00:00",
          "2021-08-25 00:00:00",
          "2021-08-26 00:00:00",
          "2021-08-27 00:00:00",
          "2021-08-30 00:00:00",
          "2021-08-31 00:00:00",
          "2021-09-01 00:00:00",
          "2021-09-02 00:00:00",
          "2021-09-03 00:00:00",
          "2021-09-07 00:00:00",
          "2021-09-08 00:00:00",
          "2021-09-09 00:00:00",
          "2021-09-10 00:00:00",
          "2021-09-13 00:00:00",
          "2021-09-14 00:00:00",
          "2021-09-15 00:00:00",
          "2021-09-16 00:00:00",
          "2021-09-17 00:00:00",
          "2021-09-20 00:00:00",
          "2021-09-21 00:00:00",
          "2021-09-22 00:00:00",
          "2021-09-23 00:00:00",
          "2021-09-24 00:00:00",
          "2021-09-27 00:00:00",
          "2021-09-28 00:00:00",
          "2021-09-29 00:00:00",
          "2021-09-30 00:00:00",
          "2021-10-01 00:00:00",
          "2021-10-04 00:00:00",
          "2021-10-05 00:00:00",
          "2021-10-06 00:00:00",
          "2021-10-07 00:00:00",
          "2021-10-08 00:00:00",
          "2021-10-11 00:00:00",
          "2021-10-12 00:00:00",
          "2021-10-13 00:00:00",
          "2021-10-14 00:00:00",
          "2021-10-15 00:00:00",
          "2021-10-18 00:00:00",
          "2021-10-19 00:00:00",
          "2021-10-20 00:00:00",
          "2021-10-21 00:00:00",
          "2021-10-22 00:00:00",
          "2021-10-25 00:00:00",
          "2021-10-26 00:00:00",
          "2021-10-27 00:00:00",
          "2021-10-28 00:00:00",
          "2021-10-29 00:00:00",
          "2021-11-01 00:00:00",
          "2021-11-02 00:00:00",
          "2021-11-03 00:00:00",
          "2021-11-04 00:00:00",
          "2021-11-05 00:00:00",
          "2021-11-08 00:00:00",
          "2021-11-09 00:00:00",
          "2021-11-10 00:00:00",
          "2021-11-11 00:00:00",
          "2021-11-12 00:00:00",
          "2021-11-15 00:00:00",
          "2021-11-16 00:00:00",
          "2021-11-17 00:00:00",
          "2021-11-18 00:00:00",
          "2021-11-19 00:00:00",
          "2021-11-22 00:00:00",
          "2021-11-23 00:00:00",
          "2021-11-24 00:00:00",
          "2021-11-26 00:00:00",
          "2021-11-29 00:00:00",
          "2021-11-30 00:00:00",
          "2021-12-01 00:00:00",
          "2021-12-02 00:00:00",
          "2021-12-03 00:00:00",
          "2021-12-06 00:00:00",
          "2021-12-07 00:00:00",
          "2021-12-08 00:00:00",
          "2021-12-09 00:00:00",
          "2021-12-10 00:00:00",
          "2021-12-13 00:00:00",
          "2021-12-14 00:00:00",
          "2021-12-15 00:00:00",
          "2021-12-16 00:00:00",
          "2021-12-17 00:00:00",
          "2021-12-20 00:00:00",
          "2021-12-21 00:00:00",
          "2021-12-22 00:00:00",
          "2021-12-23 00:00:00",
          "2021-12-27 00:00:00",
          "2021-12-28 00:00:00",
          "2021-12-29 00:00:00",
          "2021-12-30 00:00:00",
          "2021-12-31 00:00:00",
          "2022-01-03 00:00:00",
          "2022-01-04 00:00:00",
          "2022-01-05 00:00:00",
          "2022-01-06 00:00:00",
          "2022-01-07 00:00:00",
          "2022-01-10 00:00:00",
          "2022-01-11 00:00:00",
          "2022-01-12 00:00:00",
          "2022-01-13 00:00:00",
          "2022-01-14 00:00:00",
          "2022-01-18 00:00:00",
          "2022-01-19 00:00:00",
          "2022-01-20 00:00:00",
          "2022-01-21 00:00:00",
          "2022-01-24 00:00:00",
          "2022-01-25 00:00:00",
          "2022-01-26 00:00:00",
          "2022-01-27 00:00:00",
          "2022-01-28 00:00:00",
          "2022-01-31 00:00:00",
          "2022-02-01 00:00:00",
          "2022-02-02 00:00:00",
          "2022-02-03 00:00:00",
          "2022-02-04 00:00:00",
          "2022-02-07 00:00:00",
          "2022-02-08 00:00:00",
          "2022-02-09 00:00:00",
          "2022-02-10 00:00:00",
          "2022-02-11 00:00:00",
          "2022-02-14 00:00:00",
          "2022-02-15 00:00:00",
          "2022-02-16 00:00:00",
          "2022-02-17 00:00:00",
          "2022-02-18 00:00:00",
          "2022-02-22 00:00:00",
          "2022-02-23 00:00:00",
          "2022-02-24 00:00:00",
          "2022-02-25 00:00:00",
          "2022-02-28 00:00:00",
          "2022-03-01 00:00:00",
          "2022-03-02 00:00:00",
          "2022-03-03 00:00:00",
          "2022-03-04 00:00:00",
          "2022-03-07 00:00:00",
          "2022-03-08 00:00:00",
          "2022-03-09 00:00:00",
          "2022-03-10 00:00:00",
          "2022-03-11 00:00:00",
          "2022-03-14 00:00:00",
          "2022-03-15 00:00:00",
          "2022-03-16 00:00:00",
          "2022-03-17 00:00:00",
          "2022-03-18 00:00:00",
          "2022-03-21 00:00:00",
          "2022-03-22 00:00:00",
          "2022-03-23 00:00:00",
          "2022-03-24 00:00:00",
          "2022-03-25 00:00:00",
          "2022-03-28 00:00:00",
          "2022-03-29 00:00:00",
          "2022-03-30 00:00:00",
          "2022-03-31 00:00:00",
          "2022-04-01 00:00:00",
          "2022-04-04 00:00:00",
          "2022-04-05 00:00:00",
          "2022-04-06 00:00:00",
          "2022-04-07 00:00:00",
          "2022-04-08 00:00:00",
          "2022-04-11 00:00:00",
          "2022-04-12 00:00:00",
          "2022-04-13 00:00:00",
          "2022-04-14 00:00:00",
          "2022-04-18 00:00:00",
          "2022-04-19 00:00:00",
          "2022-04-20 00:00:00",
          "2022-04-21 00:00:00",
          "2022-04-22 00:00:00",
          "2022-04-25 00:00:00",
          "2022-04-26 00:00:00",
          "2022-04-27 00:00:00",
          "2022-04-28 00:00:00",
          "2022-04-29 00:00:00",
          "2022-05-02 00:00:00",
          "2022-05-03 00:00:00",
          "2022-05-04 00:00:00",
          "2022-05-05 00:00:00",
          "2022-05-06 00:00:00",
          "2022-05-09 00:00:00",
          "2022-05-10 00:00:00",
          "2022-05-11 00:00:00",
          "2022-05-12 00:00:00",
          "2022-05-13 00:00:00",
          "2022-05-16 00:00:00",
          "2022-05-17 00:00:00",
          "2022-05-18 00:00:00",
          "2022-05-19 00:00:00",
          "2022-05-20 00:00:00",
          "2022-05-23 00:00:00",
          "2022-05-24 00:00:00",
          "2022-05-25 00:00:00",
          "2022-05-26 00:00:00",
          "2022-05-27 00:00:00",
          "2022-05-31 00:00:00",
          "2022-06-01 00:00:00",
          "2022-06-02 00:00:00",
          "2022-06-03 00:00:00",
          "2022-06-06 00:00:00",
          "2022-06-07 00:00:00",
          "2022-06-08 00:00:00",
          "2022-06-09 00:00:00",
          "2022-06-10 00:00:00",
          "2022-06-13 00:00:00",
          "2022-06-14 00:00:00",
          "2022-06-15 00:00:00",
          "2022-06-16 00:00:00",
          "2022-06-17 00:00:00",
          "2022-06-21 00:00:00",
          "2022-06-22 00:00:00",
          "2022-06-23 00:00:00",
          "2022-06-24 00:00:00",
          "2022-06-27 00:00:00",
          "2022-06-28 00:00:00",
          "2022-06-29 00:00:00",
          "2022-06-30 00:00:00",
          "2022-07-01 00:00:00",
          "2022-07-05 00:00:00",
          "2022-07-06 00:00:00",
          "2022-07-07 00:00:00",
          "2022-07-08 00:00:00",
          "2022-07-11 00:00:00",
          "2022-07-12 00:00:00",
          "2022-07-13 00:00:00",
          "2022-07-14 00:00:00",
          "2022-07-15 00:00:00",
          "2022-07-18 00:00:00",
          "2022-07-19 00:00:00",
          "2022-07-20 00:00:00",
          "2022-07-21 00:00:00",
          "2022-07-22 00:00:00",
          "2022-07-25 00:00:00",
          "2022-07-26 00:00:00",
          "2022-07-27 00:00:00",
          "2022-07-28 00:00:00",
          "2022-07-29 00:00:00",
          "2022-08-01 00:00:00",
          "2022-08-02 00:00:00",
          "2022-08-03 00:00:00",
          "2022-08-04 00:00:00",
          "2022-08-05 00:00:00",
          "2022-08-08 00:00:00",
          "2022-08-09 00:00:00",
          "2022-08-10 00:00:00",
          "2022-08-11 00:00:00",
          "2022-08-12 00:00:00",
          "2022-08-15 00:00:00",
          "2022-08-16 00:00:00",
          "2022-08-17 00:00:00",
          "2022-08-18 00:00:00",
          "2022-08-19 00:00:00",
          "2022-08-22 00:00:00",
          "2022-08-23 00:00:00",
          "2022-08-24 00:00:00",
          "2022-08-25 00:00:00",
          "2022-08-26 00:00:00",
          "2022-08-29 00:00:00",
          "2022-08-30 00:00:00",
          "2022-08-31 00:00:00",
          "2022-09-01 00:00:00",
          "2022-09-02 00:00:00",
          "2022-09-06 00:00:00",
          "2022-09-07 00:00:00",
          "2022-09-08 00:00:00",
          "2022-09-09 00:00:00",
          "2022-09-12 00:00:00",
          "2022-09-13 00:00:00",
          "2022-09-14 00:00:00",
          "2022-09-15 00:00:00",
          "2022-09-16 00:00:00",
          "2022-09-19 00:00:00",
          "2022-09-20 00:00:00",
          "2022-09-21 00:00:00",
          "2022-09-22 00:00:00",
          "2022-09-23 00:00:00",
          "2022-09-26 00:00:00",
          "2022-09-27 00:00:00",
          "2022-09-28 00:00:00",
          "2022-09-29 00:00:00",
          "2022-09-30 00:00:00",
          "2022-10-03 00:00:00",
          "2022-10-04 00:00:00",
          "2022-10-05 00:00:00",
          "2022-10-06 00:00:00",
          "2022-10-07 00:00:00",
          "2022-10-10 00:00:00",
          "2022-10-11 00:00:00",
          "2022-10-12 00:00:00",
          "2022-10-13 00:00:00",
          "2022-10-14 00:00:00",
          "2022-10-17 00:00:00",
          "2022-10-18 00:00:00",
          "2022-10-19 00:00:00",
          "2022-10-20 00:00:00",
          "2022-10-21 00:00:00",
          "2022-10-24 00:00:00",
          "2022-10-25 00:00:00",
          "2022-10-26 00:00:00",
          "2022-10-27 00:00:00",
          "2022-10-28 00:00:00",
          "2022-10-31 00:00:00",
          "2022-11-01 00:00:00",
          "2022-11-02 00:00:00",
          "2022-11-03 00:00:00",
          "2022-11-04 00:00:00",
          "2022-11-07 00:00:00",
          "2022-11-08 00:00:00",
          "2022-11-09 00:00:00",
          "2022-11-10 00:00:00",
          "2022-11-11 00:00:00",
          "2022-11-14 00:00:00",
          "2022-11-15 00:00:00",
          "2022-11-16 00:00:00",
          "2022-11-17 00:00:00",
          "2022-11-18 00:00:00",
          "2022-11-21 00:00:00",
          "2022-11-22 00:00:00",
          "2022-11-23 00:00:00",
          "2022-11-25 00:00:00",
          "2022-11-28 00:00:00",
          "2022-11-29 00:00:00",
          "2022-11-30 00:00:00",
          "2022-12-01 00:00:00",
          "2022-12-02 00:00:00",
          "2022-12-05 00:00:00",
          "2022-12-06 00:00:00",
          "2022-12-07 00:00:00",
          "2022-12-08 00:00:00",
          "2022-12-09 00:00:00",
          "2022-12-12 00:00:00",
          "2022-12-13 00:00:00",
          "2022-12-14 00:00:00",
          "2022-12-15 00:00:00",
          "2022-12-16 00:00:00",
          "2022-12-19 00:00:00",
          "2022-12-20 00:00:00",
          "2022-12-21 00:00:00",
          "2022-12-22 00:00:00",
          "2022-12-23 00:00:00",
          "2022-12-27 00:00:00",
          "2022-12-28 00:00:00",
          "2022-12-29 00:00:00",
          "2022-12-30 00:00:00",
          "2023-01-03 00:00:00",
          "2023-01-04 00:00:00",
          "2023-01-05 00:00:00",
          "2023-01-06 00:00:00",
          "2023-01-09 00:00:00",
          "2023-01-10 00:00:00",
          "2023-01-11 00:00:00",
          "2023-01-12 00:00:00",
          "2023-01-13 00:00:00",
          "2023-01-17 00:00:00",
          "2023-01-18 00:00:00",
          "2023-01-19 00:00:00",
          "2023-01-20 00:00:00",
          "2023-01-23 00:00:00",
          "2023-01-24 00:00:00",
          "2023-01-25 00:00:00",
          "2023-01-26 00:00:00",
          "2023-01-27 00:00:00",
          "2023-01-30 00:00:00",
          "2023-01-31 00:00:00",
          "2023-02-01 00:00:00",
          "2023-02-02 00:00:00",
          "2023-02-03 00:00:00",
          "2023-02-06 00:00:00",
          "2023-02-07 00:00:00",
          "2023-02-08 00:00:00",
          "2023-02-09 00:00:00",
          "2023-02-10 00:00:00",
          "2023-02-13 00:00:00",
          "2023-02-14 00:00:00",
          "2023-02-15 00:00:00",
          "2023-02-16 00:00:00",
          "2023-02-17 00:00:00",
          "2023-02-21 00:00:00",
          "2023-02-22 00:00:00",
          "2023-02-23 00:00:00",
          "2023-02-24 00:00:00",
          "2023-02-27 00:00:00",
          "2023-02-28 00:00:00",
          "2023-03-01 00:00:00",
          "2023-03-02 00:00:00",
          "2023-03-03 00:00:00",
          "2023-03-06 00:00:00",
          "2023-03-07 00:00:00",
          "2023-03-08 00:00:00",
          "2023-03-09 00:00:00",
          "2023-03-10 00:00:00",
          "2023-03-13 00:00:00",
          "2023-03-14 00:00:00",
          "2023-03-15 00:00:00",
          "2023-03-16 00:00:00",
          "2023-03-17 00:00:00",
          "2023-03-20 00:00:00",
          "2023-03-21 00:00:00",
          "2023-03-22 00:00:00",
          "2023-03-23 00:00:00",
          "2023-03-24 00:00:00",
          "2023-03-27 00:00:00",
          "2023-03-28 00:00:00",
          "2023-03-29 00:00:00",
          "2023-03-30 00:00:00",
          "2023-03-31 00:00:00",
          "2023-04-03 00:00:00",
          "2023-04-04 00:00:00",
          "2023-04-05 00:00:00",
          "2023-04-06 00:00:00",
          "2023-04-10 00:00:00",
          "2023-04-11 00:00:00",
          "2023-04-12 00:00:00",
          "2023-04-13 00:00:00",
          "2023-04-14 00:00:00",
          "2023-04-17 00:00:00",
          "2023-04-18 00:00:00",
          "2023-04-19 00:00:00",
          "2023-04-20 00:00:00",
          "2023-04-21 00:00:00",
          "2023-04-24 00:00:00",
          "2023-04-25 00:00:00",
          "2023-04-26 00:00:00",
          "2023-04-27 00:00:00",
          "2023-04-28 00:00:00",
          "2023-05-01 00:00:00",
          "2023-05-02 00:00:00",
          "2023-05-03 00:00:00",
          "2023-05-04 00:00:00",
          "2023-05-05 00:00:00",
          "2023-05-08 00:00:00",
          "2023-05-09 00:00:00",
          "2023-05-10 00:00:00",
          "2023-05-11 00:00:00",
          "2023-05-12 00:00:00",
          "2023-05-15 00:00:00",
          "2023-05-16 00:00:00",
          "2023-05-17 00:00:00",
          "2023-05-18 00:00:00",
          "2023-05-19 00:00:00",
          "2023-05-22 00:00:00",
          "2023-05-23 00:00:00",
          "2023-05-24 00:00:00",
          "2023-05-25 00:00:00",
          "2023-05-26 00:00:00",
          "2023-05-30 00:00:00",
          "2023-05-31 00:00:00",
          "2023-06-01 00:00:00",
          "2023-06-02 00:00:00",
          "2023-06-05 00:00:00",
          "2023-06-06 00:00:00",
          "2023-06-07 00:00:00",
          "2023-06-08 00:00:00",
          "2023-06-09 00:00:00",
          "2023-06-12 00:00:00",
          "2023-06-13 00:00:00",
          "2023-06-14 00:00:00",
          "2023-06-15 00:00:00",
          "2023-06-16 00:00:00",
          "2023-06-20 00:00:00",
          "2023-06-21 00:00:00",
          "2023-06-22 00:00:00",
          "2023-06-23 00:00:00",
          "2023-06-26 00:00:00",
          "2023-06-27 00:00:00",
          "2023-06-28 00:00:00",
          "2023-06-29 00:00:00",
          "2023-06-30 00:00:00",
          "2023-07-03 00:00:00",
          "2023-07-05 00:00:00",
          "2023-07-06 00:00:00",
          "2023-07-07 00:00:00",
          "2023-07-10 00:00:00",
          "2023-07-11 00:00:00",
          "2023-07-12 00:00:00",
          "2023-07-13 00:00:00",
          "2023-07-14 00:00:00",
          "2023-07-17 00:00:00",
          "2023-07-18 00:00:00",
          "2023-07-19 00:00:00",
          "2023-07-20 00:00:00",
          "2023-07-21 00:00:00",
          "2023-07-24 00:00:00",
          "2023-07-25 00:00:00",
          "2023-07-26 00:00:00",
          "2023-07-27 00:00:00",
          "2023-07-28 00:00:00",
          "2023-07-31 00:00:00",
          "2023-08-01 00:00:00",
          "2023-08-02 00:00:00",
          "2023-08-03 00:00:00",
          "2023-08-04 00:00:00",
          "2023-08-07 00:00:00",
          "2023-08-08 00:00:00",
          "2023-08-09 00:00:00",
          "2023-08-10 00:00:00",
          "2023-08-11 00:00:00",
          "2023-08-14 00:00:00",
          "2023-08-15 00:00:00",
          "2023-08-16 00:00:00",
          "2023-08-17 00:00:00",
          "2023-08-18 00:00:00",
          "2023-08-21 00:00:00",
          "2023-08-22 00:00:00",
          "2023-08-23 00:00:00",
          "2023-08-24 00:00:00",
          "2023-08-25 00:00:00",
          "2023-08-28 00:00:00",
          "2023-08-29 00:00:00",
          "2023-08-30 00:00:00",
          "2023-08-31 00:00:00",
          "2023-09-01 00:00:00",
          "2023-09-05 00:00:00",
          "2023-09-06 00:00:00",
          "2023-09-07 00:00:00",
          "2023-09-08 00:00:00",
          "2023-09-11 00:00:00",
          "2023-09-12 00:00:00",
          "2023-09-13 00:00:00",
          "2023-09-14 00:00:00",
          "2023-09-15 00:00:00",
          "2023-09-18 00:00:00",
          "2023-09-19 00:00:00",
          "2023-09-20 00:00:00",
          "2023-09-21 00:00:00",
          "2023-09-22 00:00:00",
          "2023-09-25 00:00:00",
          "2023-09-26 00:00:00",
          "2023-09-27 00:00:00",
          "2023-09-28 00:00:00",
          "2023-09-29 00:00:00",
          "2023-10-02 00:00:00",
          "2023-10-03 00:00:00",
          "2023-10-04 00:00:00",
          "2023-10-05 00:00:00",
          "2023-10-06 00:00:00",
          "2023-10-09 00:00:00",
          "2023-10-10 00:00:00",
          "2023-10-11 00:00:00",
          "2023-10-12 00:00:00",
          "2023-10-13 00:00:00",
          "2023-10-16 00:00:00",
          "2023-10-17 00:00:00",
          "2023-10-18 00:00:00",
          "2023-10-19 00:00:00",
          "2023-10-20 00:00:00",
          "2023-10-23 00:00:00",
          "2023-10-24 00:00:00",
          "2023-10-25 00:00:00",
          "2023-10-26 00:00:00",
          "2023-10-27 00:00:00",
          "2023-10-30 00:00:00",
          "2023-10-31 00:00:00",
          "2023-11-01 00:00:00",
          "2023-11-02 00:00:00",
          "2023-11-03 00:00:00",
          "2023-11-06 00:00:00",
          "2023-11-07 00:00:00",
          "2023-11-08 00:00:00",
          "2023-11-09 00:00:00",
          "2023-11-10 00:00:00",
          "2023-11-13 00:00:00",
          "2023-11-14 00:00:00",
          "2023-11-15 00:00:00",
          "2023-11-16 00:00:00",
          "2023-11-17 00:00:00",
          "2023-11-20 00:00:00",
          "2023-11-21 00:00:00",
          "2023-11-22 00:00:00",
          "2023-11-24 00:00:00",
          "2023-11-27 00:00:00",
          "2023-11-28 00:00:00",
          "2023-11-29 00:00:00",
          "2023-11-30 00:00:00",
          "2023-12-01 00:00:00",
          "2023-12-04 00:00:00",
          "2023-12-05 00:00:00",
          "2023-12-06 00:00:00",
          "2023-12-07 00:00:00",
          "2023-12-08 00:00:00",
          "2023-12-11 00:00:00",
          "2023-12-12 00:00:00",
          "2023-12-13 00:00:00",
          "2023-12-14 00:00:00",
          "2023-12-15 00:00:00",
          "2023-12-18 00:00:00",
          "2023-12-19 00:00:00",
          "2023-12-20 00:00:00",
          "2023-12-21 00:00:00",
          "2023-12-22 00:00:00",
          "2023-12-26 00:00:00",
          "2023-12-27 00:00:00",
          "2023-12-28 00:00:00",
          "2023-12-29 00:00:00"
         ],
         "y": [
          5917548.203117002,
          5123170.242068031,
          6545861.898883826,
          7947349.268600008,
          6902529.343995341,
          6359880.146161633,
          7879048.439388099,
          7975525.676113977,
          8952547.787470074,
          6550582.896192531,
          7075622.691290323,
          6318700.709903724,
          5425512.739590223,
          5956425.969833232,
          6087719.071537609,
          9299515.287778666,
          11714964.405905496,
          7742484.402268822,
          6459651.209937688,
          7232747.9306781655,
          9222499.929086832,
          6371955.059997504,
          6760734.641141505,
          5184161.8000374865,
          5434621.331943598,
          4724306.577925196,
          13185914.008227173,
          15898488.57598716,
          9327627.946055623,
          13146170.470978286,
          25941125.30401325,
          15483179.875271268,
          17287014.458168413,
          20168076.78274571,
          19153456.77745843,
          21334756.565899078,
          26278888.223395154,
          18664654.05149038,
          22580707.62111164,
          28267097.199659348,
          22190499.540142167,
          16262503.652144495,
          14882789.448951531,
          13460838.80628819,
          12840169.637428582,
          15300160.93592324,
          14465288.65057224,
          12507588.104270298,
          20342005.06410984,
          15815320.711860986,
          18110635.249808554,
          20767708.839722004,
          21779931.92883197,
          19070812.959361415,
          20045261.009936333,
          16040411.845561147,
          27444280.12972309,
          19765994.92373911,
          17378401.782946665,
          15914749.950300321,
          15003301.556164013,
          23665762.10795865,
          16365129.9991451,
          16834724.51480761,
          16522027.271411175,
          17877201.304005962,
          19544148.0619851,
          13513460.296237122,
          13110069.370019015,
          9925264.975496015,
          13227016.863782357,
          9121648.32712719,
          18574980.24176722,
          13430651.697415505,
          11195336.556821458,
          18314488.178551074,
          12075626.557669055,
          10566727.895421993,
          8785145.4038703,
          11942583.183639087,
          11033684.666963207,
          9445762.569935,
          9364888.687254688,
          8522442.713508382,
          7911052.89510342,
          9189989.771761421,
          8058235.259425097,
          9310470.918817855,
          8467874.86898144,
          11685354.261403508,
          12283193.037630567,
          15591347.199498072,
          15004932.664548283,
          24604733.411050264,
          19341879.14757864,
          17870120.693776045,
          14636828.477617055,
          18959849.97659554,
          25878071.562825095,
          19201731.865513463,
          29294035.20010674,
          18338580.54704725,
          18582436.6412312,
          9728463.146057628,
          9748705.03847143,
          9103884.787334513,
          10574533.444137339,
          12006789.825494673,
          9663816.670447474,
          11676485.045401283,
          15756197.639008729,
          14546719.949886598,
          14229077.839240974,
          9969473.374621065,
          13351970.929470146,
          10176473.221223474,
          6340780.482009654,
          13064038.13479552,
          9931181.154269818,
          9349006.054115344,
          11199966.785801526,
          9373069.426122233,
          14756867.425882034,
          8530069.305196468,
          9169168.86242847,
          8141233.403938352,
          9073561.873911936,
          7873223.692853622,
          8917673.373478867,
          9109108.162090838,
          12325914.70952398,
          12403817.349342749,
          11391914.889931358,
          13525414.389470706,
          10068759.881727736,
          8597781.167825058,
          6636755.976280694,
          7099488.572623743,
          6920432.913553033,
          9154254.583088012,
          10260085.604691133,
          11796087.431417678,
          7280969.888621839,
          6770160.275118938,
          7090943.691126797,
          7698431.95145845,
          9627627.34749005,
          10293902.784981268,
          7734654.030103539,
          6243378.24628746,
          6089248.479357329,
          8536750.33414907,
          10662235.673704432,
          8835643.662370509,
          11588059.832201,
          9332855.48992397,
          9132939.535794709,
          15485054.82622234,
          12547715.922768794,
          15517985.415725997,
          22964271.34919879,
          24920272.41036189,
          12226653.01144435,
          7204814.052288235,
          8006551.524853206,
          7915834.427087879,
          13387951.129094332,
          12482739.836352762,
          12776531.773542978,
          21790007.31808786,
          23562977.436102338,
          36491185.963051096,
          19838467.847893897,
          18354153.57962387,
          17418942.77674457,
          15879318.792416459,
          29960878.986048285,
          18138785.66429374,
          13901561.053817572,
          19758104.326559953,
          17413345.957164712,
          17976305.4552899,
          16116732.272490358,
          16130682.401876895,
          18230673.387192257,
          14659929.839965433,
          14305722.312407749,
          15532195.01635862,
          17182102.38784154,
          13088907.99683242,
          13774279.540360197,
          11962399.27090984,
          19556393.008428637,
          10423312.440736895,
          9446408.507498149,
          8648359.625877095,
          10838651.276628708,
          8591345.760800451,
          6897115.225694472,
          6662216.745679134,
          6049256.4875162,
          7431148.289675131,
          5714511.179326884,
          5474812.522458825,
          7241983.349875383,
          5821021.914384209,
          8399124.939189576,
          6245717.768833112,
          9387009.813509148,
          7979987.691215639,
          10406094.447906494,
          7470683.284116009,
          6803714.473169477,
          10227440.538657773,
          7953740.9328336865,
          9557274.955735477,
          14534300.144967811,
          16057296.206247455,
          10090687.990155015,
          9140570.703033052,
          8645131.142579341,
          10315859.307981724,
          7779167.325605617,
          12737888.734769618,
          14109357.842415133,
          8503756.763968024,
          9008967.111006087,
          8638599.379433159,
          6480013.945342941,
          4170354.0597428596,
          7153993.888569377,
          7418780.84187584,
          7064520.321588838,
          4975728.362186473,
          5043648.209780391,
          5567319.745754129,
          6781267.749836517,
          10007818.566371633,
          5181325.09845131,
          5218756.075549152,
          6737326.899693809,
          4825236.556896823,
          5564135.519939966,
          5770353.60624979,
          8530546.166052781,
          7539680.640562922,
          4646383.590738614,
          4467535.405802794,
          2441052.0600717654,
          5301040.974634884,
          4248822.901514689,
          5621062.114594451,
          4798744.638595174,
          13981526.769956153,
          8049103.456142224,
          14474804.225382693,
          11508594.985020421,
          7295230.367988588,
          12943808.072642513,
          7268975.157539999,
          5237770.184010198,
          7060553.533934774,
          6927412.934213228,
          5640758.033875741,
          6448335.837617792,
          8437629.614530556,
          6155254.346972834,
          6262306.619078241,
          4089425.373691595,
          9258935.645550502,
          5693859.90653245,
          6772102.975497219,
          5416734.714435295,
          5497399.835331477,
          6120132.49144821,
          5021066.392642845,
          4218417.421795673,
          10838817.514236344,
          7171286.524262878,
          12103936.092792556,
          11242939.475524155,
          9345860.932098588,
          8029167.681092122,
          6875497.011129914,
          5837615.827795199,
          6776356.11242237,
          8127078.179960643,
          9770381.07529911,
          11180383.177299812,
          20560098.559087735,
          12492395.739685185,
          8807854.595461557,
          6586575.122544336,
          9416498.005433919,
          14298347.88810493,
          13537536.598495366,
          13544353.665461583,
          13017975.751785109,
          9589028.601529485,
          7481988.139419709,
          6086194.820298693,
          5551223.882356486,
          6788831.10687614,
          6083695.433287736,
          7339093.597078994,
          7464305.053353248,
          7429296.100273201,
          5539408.9856393095,
          6132935.04467215,
          7362984.822396641,
          9079911.724345267,
          6823500.5246685855,
          4994466.037390021,
          7852783.185885791,
          7690543.6189340595,
          6378258.78853673,
          4783481.704093712,
          6268783.845086966,
          6097441.169572188,
          4868937.380939237,
          21687038.266948517,
          16869505.296610065,
          9617108.24876219,
          14930355.899762042,
          8362441.09362388,
          10089026.87565414,
          8335623.061518826,
          5407959.438924515,
          6929949.464836619,
          5682237.62289219,
          4934447.9731321875,
          4105618.445400556,
          5224318.472173728,
          4320743.406123101,
          5037057.489024618,
          5086989.966032656,
          10111619.786702901,
          7285124.970661375,
          4824270.019692213,
          5721048.717490928,
          6708340.906740796,
          7124486.547768109,
          7569189.731474724,
          7128054.993628181,
          6451666.133120831,
          5400758.8322844235,
          4646505.535008473,
          8581794.38503457,
          8022740.726219846,
          16789168.732269417,
          13841002.306697732,
          10862109.499483312,
          9241323.214364968,
          14506094.102383781,
          16079268.491956355,
          11795007.308632297,
          14822717.574496446,
          14469451.59509893,
          15395316.41539118,
          14363398.554029457,
          8079009.146674688,
          9523379.998978008,
          7180677.499781491,
          10388042.559001416,
          8019174.414931529,
          6064284.683427776,
          7663558.285018738,
          20203125.851537608,
          24175550.801723562,
          16777760.251460742,
          14476263.26267542,
          8293208.191350275,
          8007895.67125615,
          6945983.649591457,
          12362482.935131347,
          9173475.457101626,
          8148724.604511811,
          11980683.909770185,
          8568699.993043272,
          11146593.845933763,
          10440936.228388334,
          12558687.599244453,
          7401568.136550416,
          8034393.831004145,
          7253912.1818628395,
          9484520.421318952,
          13738093.931844197,
          17173074.310160644,
          18691121.398583446,
          43386437.391773045,
          37031586.452657394,
          32321448.566852096,
          19530181.39762757,
          20355738.237198092,
          24839228.811310913,
          20180863.891333643,
          19041994.543130912,
          18315118.752631415,
          21703333.161390383,
          30124104.16849457,
          23087241.702434644,
          21103581.53813054,
          17815916.703550037,
          14616602.521652622,
          17889884.013645664,
          18557369.37568607,
          15157473.559935693,
          18271649.39876362,
          21075376.744322803,
          20419797.620709218,
          28537290.425357144,
          76510667.8956319,
          67446546.32704699,
          57471833.579565525,
          29673683.890453815,
          34704358.92453518,
          23749077.25305601,
          30414606.02163103,
          26208339.32279046,
          25940395.186268482,
          20142083.457377125,
          18778707.679142702,
          28035129.13518058,
          19776802.524162035,
          25399797.202372085,
          19651868.7817198,
          24795028.362269774,
          29698955.950966053,
          19941243.326010253,
          16625250.575272372,
          15576610.663668735,
          29399848.14400685,
          34884132.216480836,
          20433742.33002353,
          26826509.549992252,
          24812925.24358598,
          21728290.8108582,
          24479508.50666759,
          34248059.35668148,
          21801890.094547935,
          22063036.54754296,
          24056557.336091023,
          34504294.029522605,
          27880373.21378906,
          29669210.30969324,
          25647882.289358485,
          15099868.341569776,
          16310723.467146656,
          16185584.721033333,
          18034215.960899755,
          24317099.035360985,
          22660463.403856006,
          18916869.799447395,
          16119656.942289814,
          14602508.979215039,
          18726870.937303014,
          24895693.876955032,
          22984024.03948632,
          48506479.602293976,
          24556836.20004008,
          23380333.077636823,
          29200166.70979935,
          26528398.436178803,
          29360884.003396083,
          23949898.229533043,
          115165278.83261368,
          84980094.59818164,
          50223854.8315933,
          64563865.34989726,
          63511508.034892574,
          33160263.78728299,
          41234620.4018901,
          38424876.576639466,
          26403008.12328047,
          42777432.46117836,
          78037069.63908572,
          53295225.480907984,
          75304164.42629366,
          53125081.00425251,
          43441647.092269085,
          28258369.222750217,
          45418425.48606784,
          62100041.88603256,
          48502927.62597423,
          47213812.00225519,
          54345789.77803245,
          65788989.75949529,
          59210980.77884356,
          47479394.37748854,
          48773012.37185144,
          48804650.423003174,
          59739178.742788956,
          66597375.700665906,
          69718497.18101874,
          70623968.95495614,
          71548307.59022482,
          46111201.222791225,
          52354982.70305245,
          39455533.694555104,
          34247543.46533603,
          40304280.41000226,
          41992124.50722973,
          34259372.37035466,
          30837249.471923545,
          26610578.36009452,
          39177886.62715913,
          52631570.93607717,
          49727180.94548073,
          45346429.72938463,
          40928551.12751349,
          59373469.33260438,
          40344576.305925146,
          38280277.12300582,
          53801038.70126246,
          39520208.83847375,
          42462973.54874262,
          48753721.81570791,
          43448873.16635031,
          71781349.3202122,
          91435289.28686805,
          66355951.88257256,
          75475701.59126823,
          57244085.69717645,
          54290776.43498248,
          56378029.219750054,
          51809956.51743648,
          54255396.40650107,
          40952523.48287707,
          35426382.02978248,
          37626705.95798124,
          40970483.6460411,
          52344730.04938214,
          51238290.5761559,
          60450875.035390206,
          43972385.042775795,
          70063508.38723685,
          73151005.46272264,
          80930518.54219611,
          76004413.99399713,
          63241496.432437785,
          56560990.36933756,
          73462942.96089187,
          52802481.96751667,
          47655910.33064179,
          41139959.07753801,
          38908849.22276466,
          36457615.89684912,
          43139665.9171887,
          45017903.68505058,
          55667428.18976295,
          49204186.060139485,
          42745731.83654691,
          36668685.07239638,
          38480680.70574403,
          49129534.34203848,
          67046786.43874755,
          47127043.33608172,
          72967994.77328923,
          59088601.662242845,
          54622961.412914716,
          50140691.02053523,
          87613241.10980462,
          57819238.34584139,
          42488926.70818739,
          48828990.24426473,
          46282761.08888769,
          52269587.631767206,
          51649930.58367026,
          39714235.15536038,
          43599342.009627864,
          70283199.77347441,
          55719945.68789822,
          52403378.4478935,
          57438795.69341242,
          66131565.57178293,
          51620766.50859343,
          56828842.12405305,
          52495244.57108754,
          51205061.53412019,
          46830855.82747184,
          65527625.06195263,
          62382666.27156649,
          64065325.85565671,
          65221425.928618796,
          49874958.64141189,
          56951657.444568805,
          49972255.05971316,
          57123454.570525765,
          47507362.743227735,
          64793240.97413395,
          62544063.3376608,
          63239806.00283266,
          64353817.99844011,
          76039234.50093777,
          66921597.41880457,
          70772065.84121175,
          66948227.673209086,
          52070601.10978047,
          58499821.12707707,
          54438541.00591274,
          62042788.784926414,
          73805601.6089667,
          63897987.87605634,
          58771205.88370682,
          78002294.17171016,
          99515642.47192876,
          73733133.04047579,
          66315700.814569935,
          54374112.32570961,
          64773536.61540833,
          59792783.53428206,
          42180585.22418716,
          38836128.26666808,
          36281222.082702704,
          39509597.63515736,
          46508730.615338154,
          60342363.755169675,
          46911007.26837585,
          56325321.23542082,
          54508759.17867125,
          62957189.730801,
          48250271.95100507,
          43746728.137623474,
          46311947.43215408,
          47158211.93137043,
          42745037.63117909,
          46130165.962917656,
          48176882.934911855,
          68524176.68061943,
          57691004.52512291,
          65141876.24280073,
          52842602.04850958,
          49230602.52133939,
          46740448.483053416,
          43785923.70638991,
          45792680.67514587,
          52128501.92339752,
          45568275.445960194,
          38546783.89422281,
          66970542.59784795,
          70151457.9862653,
          75961518.50878194,
          55637651.42432576,
          53602015.946128525,
          48016580.33728266,
          39738357.81399625,
          56908760.43155705,
          47407096.41300601,
          43493293.301910475,
          47589279.91883575,
          48893498.24166037,
          41763875.627897106,
          40915555.39496852,
          38560069.941840015,
          98259444.50674422,
          66745311.05473428,
          59669948.60084765,
          50871058.85842437,
          47751668.92498797,
          45711250.02766393,
          45069225.67848139,
          44625811.20931988,
          41494424.48718266,
          44105392.70916242,
          40909738.66695081,
          36953785.65459053,
          52202944.76154918,
          76975761.83774132,
          76819548.64624602,
          49553218.85652491,
          52953973.437183216,
          57301430.68412482,
          117743533.70339958,
          74225897.32788524,
          53510265.35969922,
          51219025.92826674,
          62430136.30939814,
          48668484.30451449,
          48371527.72158221,
          71430223.79824081,
          58796857.38592322,
          52314729.43656895,
          67013637.444656014,
          56916585.77070094,
          52433982.88570128,
          80694240.49235201,
          75846722.45019506,
          66270504.83285235,
          54684139.70215897,
          55334986.07501652,
          54191983.227119975,
          53227482.14739771,
          56512116.96674026,
          54697965.34994405,
          58364930.870129876,
          50666614.193697475,
          64356815.484630615,
          67186563.41955116,
          69805866.89695716,
          66687087.593614705,
          49214043.8735,
          84932828.25386456,
          71277749.82082568,
          58024170.7360313,
          65876145.0922562,
          52265307.80350178,
          65180370.609330006,
          60893702.904367074,
          51698505.498948336,
          50502106.76589624,
          53504325.54090415,
          58258201.56174864,
          52056535.21165968,
          48589780.58065126,
          43242058.79351399,
          67201211.37333156,
          49960657.84526116,
          61201774.9214425,
          40968539.19660444,
          59474973.17787152,
          45399804.27454268,
          70017854.39321142,
          65488929.59248668,
          52736979.15093894,
          54537764.66251051,
          64895485.22845381,
          71024513.12402946,
          49162140.49878317,
          40436935.73603187,
          47243266.86482417,
          42685035.5559925,
          16778050.445112478,
          30387333.63516459,
          29811162.999775566,
          56492740.809009045,
          47066600.05720163,
          37114430.931686416,
          35202403.51549428,
          35246269.21313567,
          37214274.57314145,
          51511625.127488494,
          46503163.728080705,
          45702787.515925296,
          65615647.42287682,
          49656196.17802422,
          47822589.75195847,
          47791733.57063846,
          35380572.24457857,
          40299404.81704943,
          32481072.62452397,
          56467316.86663799,
          34909585.82172827,
          46459611.33313151,
          35083636.68820746,
          35468986.97874684,
          31028583.490535103,
          40101309.61744743,
          43103991.668111734,
          38891164.15549667,
          40477644.64116831,
          50389826.0004767,
          38384777.770262115,
          35305304.72894195,
          55104503.25180425,
          44699330.8326966,
          51076726.322020106,
          43933517.552175865,
          45263441.35180436,
          56459656.10818545,
          65473246.57515343,
          49587694.409948096,
          44924164.87083683,
          48921400.534112714,
          54178530.00731648,
          48828991.801623,
          49768776.180782616,
          66004181.396034956,
          56390407.822551936,
          42908316.350604735,
          45189905.67397933,
          66371220.811090976,
          55928322.79775546,
          52353101.1876371,
          55037417.160846464,
          47460688.425805494,
          67502949.00995472,
          42091078.02092778,
          41175478.7879511,
          46558047.94393351,
          40974463.7535144,
          51284557.498316,
          111725805.39950812,
          58932846.282460704,
          45269489.465799324,
          45566231.2627649,
          45972360.327401094,
          38981873.63239341,
          41212225.99081959,
          43714136.031315275,
          51490172.55720972,
          51332277.814953886,
          50101315.79975679,
          47463406.36507294,
          42168455.9617208,
          47467916.24837925,
          52423020.96174261,
          58466004.5896167,
          84813093.73622856,
          43253666.03419459,
          54714035.89179358,
          79690656.55008009,
          56461243.8593976,
          45519127.13217259,
          36084875.60140213,
          35592984.66270579,
          39350131.92982805,
          36433727.85471862,
          43372034.65493178,
          39852025.59972037,
          36841160.39206498,
          51476374.12978498,
          39746019.32609683,
          39508509.59927118,
          31422431.9900876,
          44604169.950291,
          35344288.80786986,
          39546637.14258316,
          32131415.489080813,
          60451639.8684317,
          35848574.9171759,
          42750497.407987006,
          34493483.04133854,
          33911629.346651874,
          37834254.562879466,
          40613781.81951625,
          37697696.13794241,
          29207392.269950263,
          57005027.31241992,
          40253259.54164197,
          38319983.30781382,
          32169274.31343698,
          36131759.44663877,
          34481082.13099242,
          31471630.069677994,
          36916970.05198684,
          32199118.02893135,
          27408876.602968954,
          29378275.6215014,
          44918488.86749461,
          43232469.37681027,
          74835856.29731202,
          47367577.369327344,
          37181831.58682576,
          35607914.28163451,
          72106652.0864179,
          154315903.8273104,
          71404827.0967776,
          92294986.65902968,
          100208975.02734314,
          63556278.20663415,
          48249552.876901366,
          39590064.84412805,
          38853902.563433535,
          51180118.66378919,
          41761171.10485092,
          42755315.65497447,
          38952337.73682387,
          61297201.12330652,
          74018058.91432102,
          56840338.98782829,
          65545748.426868744,
          45097907.17283715,
          55139016.224661626,
          41757620.36480744,
          35800234.036979795,
          59409372.37060839,
          46199703.340881415,
          58241544.36024223,
          38036799.15025427,
          50095470.04370597,
          19767809.791046612,
          32349294.33896046,
          30402176.33116785,
          35574419.729632266,
          35377216.113055475,
          29812945.535912983,
          48109160.86626444,
          47801956.84980425,
          77177814.75038598,
          51029151.953691274,
          56997068.290034115,
          42733743.160746016,
          53765766.49519441,
          96339889.16184072,
          38295198.32608446,
          34794678.23348979,
          36409702.679919474,
          45579967.130852945,
          33106669.837099466,
          25095858.056147143,
          23918390.346876383,
          52993801.21967968,
          32495174.20106549,
          36252659.412123546,
          32202936.40043376,
          35370713.17511374,
          58622304.08288386,
          49251579.874022126,
          53288040.785496265,
          69002072.14381322,
          67625127.62796155,
          52724813.724333115,
          45222048.99005848,
          58354281.04168041,
          69230638.37483735,
          75691505.1886415,
          77874680.50222388,
          115560038.67132117,
          92498454.53548242,
          68492884.44861962,
          70112664.40796901,
          73492246.08270745,
          52836631.356741965,
          46365150.05162238,
          38250522.36477053,
          46852819.04871125,
          43319872.033329725,
          47375640.98032344,
          47382175.24546898,
          34915046.816230886,
          39823452.62808222,
          36998513.62168272,
          50667691.49957972,
          50011943.98476663,
          37295106.23315441,
          36699644.86099387,
          45059975.13389327,
          47909120.6574261,
          41896396.45811947,
          40216016.52522679,
          44480109.101486295,
          42453468.47514679,
          39770919.24226488,
          43316757.37489617,
          47070670.233920075,
          36171162.92277469,
          39336424.69061493,
          43430500.73679297,
          40955066.443454504,
          36847019.88722346,
          37802215.68691365,
          48117940.303218655,
          47528274.19438529,
          37498610.44021608,
          81208682.94877647,
          62710408.657969475,
          50108191.52527136,
          47712193.76575373,
          47838570.88383945,
          40134202.74081213,
          39825907.00385935,
          54083761.353055105,
          41665885.61295506,
          38791119.01941061,
          51781247.608701564,
          43746054.83995085,
          40904776.061409466,
          42448129.379820906,
          40061252.16832681,
          34306170.97951844,
          34661389.99363013,
          54033254.22968477,
          42231399.39041771,
          38401951.46149075,
          41682795.32734413,
          47535342.63592292,
          33965320.89582659,
          32579838.678465046,
          41601713.50786725,
          56557582.68712678,
          90037056.31564641,
          29455581.917538512,
          39554216.25435181,
          40136915.83117041,
          38188887.08068218,
          52608794.46474342,
          36920563.414492466,
          43741062.35769933,
          37163771.022030875,
          38050763.82585588,
          35074725.04400269,
          35914653.71869406,
          50961876.463090055,
          37230717.42534528,
          44769599.31603768,
          39114752.27542833,
          47984453.76844447,
          41249902.81053538,
          46434523.67228248,
          39780922.148124546,
          30036103.69819657,
          25245250.002337698,
          24414696.02585117,
          23359789.02493312,
          24653471.68627519,
          38920994.92214854
         ]
        }
       ],
       "layout": {
        "height": 700,
        "template": {
         "data": {
          "bar": [
           {
            "error_x": {
             "color": "#2a3f5f"
            },
            "error_y": {
             "color": "#2a3f5f"
            },
            "marker": {
             "line": {
              "color": "#E5ECF6",
              "width": 0.5
             },
             "pattern": {
              "fillmode": "overlay",
              "size": 10,
              "solidity": 0.2
             }
            },
            "type": "bar"
           }
          ],
          "barpolar": [
           {
            "marker": {
             "line": {
              "color": "#E5ECF6",
              "width": 0.5
             },
             "pattern": {
              "fillmode": "overlay",
              "size": 10,
              "solidity": 0.2
             }
            },
            "type": "barpolar"
           }
          ],
          "carpet": [
           {
            "aaxis": {
             "endlinecolor": "#2a3f5f",
             "gridcolor": "white",
             "linecolor": "white",
             "minorgridcolor": "white",
             "startlinecolor": "#2a3f5f"
            },
            "baxis": {
             "endlinecolor": "#2a3f5f",
             "gridcolor": "white",
             "linecolor": "white",
             "minorgridcolor": "white",
             "startlinecolor": "#2a3f5f"
            },
            "type": "carpet"
           }
          ],
          "choropleth": [
           {
            "colorbar": {
             "outlinewidth": 0,
             "ticks": ""
            },
            "type": "choropleth"
           }
          ],
          "contour": [
           {
            "colorbar": {
             "outlinewidth": 0,
             "ticks": ""
            },
            "colorscale": [
             [
              0,
              "#0d0887"
             ],
             [
              0.1111111111111111,
              "#46039f"
             ],
             [
              0.2222222222222222,
              "#7201a8"
             ],
             [
              0.3333333333333333,
              "#9c179e"
             ],
             [
              0.4444444444444444,
              "#bd3786"
             ],
             [
              0.5555555555555556,
              "#d8576b"
             ],
             [
              0.6666666666666666,
              "#ed7953"
             ],
             [
              0.7777777777777778,
              "#fb9f3a"
             ],
             [
              0.8888888888888888,
              "#fdca26"
             ],
             [
              1,
              "#f0f921"
             ]
            ],
            "type": "contour"
           }
          ],
          "contourcarpet": [
           {
            "colorbar": {
             "outlinewidth": 0,
             "ticks": ""
            },
            "type": "contourcarpet"
           }
          ],
          "heatmap": [
           {
            "colorbar": {
             "outlinewidth": 0,
             "ticks": ""
            },
            "colorscale": [
             [
              0,
              "#0d0887"
             ],
             [
              0.1111111111111111,
              "#46039f"
             ],
             [
              0.2222222222222222,
              "#7201a8"
             ],
             [
              0.3333333333333333,
              "#9c179e"
             ],
             [
              0.4444444444444444,
              "#bd3786"
             ],
             [
              0.5555555555555556,
              "#d8576b"
             ],
             [
              0.6666666666666666,
              "#ed7953"
             ],
             [
              0.7777777777777778,
              "#fb9f3a"
             ],
             [
              0.8888888888888888,
              "#fdca26"
             ],
             [
              1,
              "#f0f921"
             ]
            ],
            "type": "heatmap"
           }
          ],
          "heatmapgl": [
           {
            "colorbar": {
             "outlinewidth": 0,
             "ticks": ""
            },
            "colorscale": [
             [
              0,
              "#0d0887"
             ],
             [
              0.1111111111111111,
              "#46039f"
             ],
             [
              0.2222222222222222,
              "#7201a8"
             ],
             [
              0.3333333333333333,
              "#9c179e"
             ],
             [
              0.4444444444444444,
              "#bd3786"
             ],
             [
              0.5555555555555556,
              "#d8576b"
             ],
             [
              0.6666666666666666,
              "#ed7953"
             ],
             [
              0.7777777777777778,
              "#fb9f3a"
             ],
             [
              0.8888888888888888,
              "#fdca26"
             ],
             [
              1,
              "#f0f921"
             ]
            ],
            "type": "heatmapgl"
           }
          ],
          "histogram": [
           {
            "marker": {
             "pattern": {
              "fillmode": "overlay",
              "size": 10,
              "solidity": 0.2
             }
            },
            "type": "histogram"
           }
          ],
          "histogram2d": [
           {
            "colorbar": {
             "outlinewidth": 0,
             "ticks": ""
            },
            "colorscale": [
             [
              0,
              "#0d0887"
             ],
             [
              0.1111111111111111,
              "#46039f"
             ],
             [
              0.2222222222222222,
              "#7201a8"
             ],
             [
              0.3333333333333333,
              "#9c179e"
             ],
             [
              0.4444444444444444,
              "#bd3786"
             ],
             [
              0.5555555555555556,
              "#d8576b"
             ],
             [
              0.6666666666666666,
              "#ed7953"
             ],
             [
              0.7777777777777778,
              "#fb9f3a"
             ],
             [
              0.8888888888888888,
              "#fdca26"
             ],
             [
              1,
              "#f0f921"
             ]
            ],
            "type": "histogram2d"
           }
          ],
          "histogram2dcontour": [
           {
            "colorbar": {
             "outlinewidth": 0,
             "ticks": ""
            },
            "colorscale": [
             [
              0,
              "#0d0887"
             ],
             [
              0.1111111111111111,
              "#46039f"
             ],
             [
              0.2222222222222222,
              "#7201a8"
             ],
             [
              0.3333333333333333,
              "#9c179e"
             ],
             [
              0.4444444444444444,
              "#bd3786"
             ],
             [
              0.5555555555555556,
              "#d8576b"
             ],
             [
              0.6666666666666666,
              "#ed7953"
             ],
             [
              0.7777777777777778,
              "#fb9f3a"
             ],
             [
              0.8888888888888888,
              "#fdca26"
             ],
             [
              1,
              "#f0f921"
             ]
            ],
            "type": "histogram2dcontour"
           }
          ],
          "mesh3d": [
           {
            "colorbar": {
             "outlinewidth": 0,
             "ticks": ""
            },
            "type": "mesh3d"
           }
          ],
          "parcoords": [
           {
            "line": {
             "colorbar": {
              "outlinewidth": 0,
              "ticks": ""
             }
            },
            "type": "parcoords"
           }
          ],
          "pie": [
           {
            "automargin": true,
            "type": "pie"
           }
          ],
          "scatter": [
           {
            "fillpattern": {
             "fillmode": "overlay",
             "size": 10,
             "solidity": 0.2
            },
            "type": "scatter"
           }
          ],
          "scatter3d": [
           {
            "line": {
             "colorbar": {
              "outlinewidth": 0,
              "ticks": ""
             }
            },
            "marker": {
             "colorbar": {
              "outlinewidth": 0,
              "ticks": ""
             }
            },
            "type": "scatter3d"
           }
          ],
          "scattercarpet": [
           {
            "marker": {
             "colorbar": {
              "outlinewidth": 0,
              "ticks": ""
             }
            },
            "type": "scattercarpet"
           }
          ],
          "scattergeo": [
           {
            "marker": {
             "colorbar": {
              "outlinewidth": 0,
              "ticks": ""
             }
            },
            "type": "scattergeo"
           }
          ],
          "scattergl": [
           {
            "marker": {
             "colorbar": {
              "outlinewidth": 0,
              "ticks": ""
             }
            },
            "type": "scattergl"
           }
          ],
          "scattermapbox": [
           {
            "marker": {
             "colorbar": {
              "outlinewidth": 0,
              "ticks": ""
             }
            },
            "type": "scattermapbox"
           }
          ],
          "scatterpolar": [
           {
            "marker": {
             "colorbar": {
              "outlinewidth": 0,
              "ticks": ""
             }
            },
            "type": "scatterpolar"
           }
          ],
          "scatterpolargl": [
           {
            "marker": {
             "colorbar": {
              "outlinewidth": 0,
              "ticks": ""
             }
            },
            "type": "scatterpolargl"
           }
          ],
          "scatterternary": [
           {
            "marker": {
             "colorbar": {
              "outlinewidth": 0,
              "ticks": ""
             }
            },
            "type": "scatterternary"
           }
          ],
          "surface": [
           {
            "colorbar": {
             "outlinewidth": 0,
             "ticks": ""
            },
            "colorscale": [
             [
              0,
              "#0d0887"
             ],
             [
              0.1111111111111111,
              "#46039f"
             ],
             [
              0.2222222222222222,
              "#7201a8"
             ],
             [
              0.3333333333333333,
              "#9c179e"
             ],
             [
              0.4444444444444444,
              "#bd3786"
             ],
             [
              0.5555555555555556,
              "#d8576b"
             ],
             [
              0.6666666666666666,
              "#ed7953"
             ],
             [
              0.7777777777777778,
              "#fb9f3a"
             ],
             [
              0.8888888888888888,
              "#fdca26"
             ],
             [
              1,
              "#f0f921"
             ]
            ],
            "type": "surface"
           }
          ],
          "table": [
           {
            "cells": {
             "fill": {
              "color": "#EBF0F8"
             },
             "line": {
              "color": "white"
             }
            },
            "header": {
             "fill": {
              "color": "#C8D4E3"
             },
             "line": {
              "color": "white"
             }
            },
            "type": "table"
           }
          ]
         },
         "layout": {
          "annotationdefaults": {
           "arrowcolor": "#2a3f5f",
           "arrowhead": 0,
           "arrowwidth": 1
          },
          "autotypenumbers": "strict",
          "coloraxis": {
           "colorbar": {
            "outlinewidth": 0,
            "ticks": ""
           }
          },
          "colorscale": {
           "diverging": [
            [
             0,
             "#8e0152"
            ],
            [
             0.1,
             "#c51b7d"
            ],
            [
             0.2,
             "#de77ae"
            ],
            [
             0.3,
             "#f1b6da"
            ],
            [
             0.4,
             "#fde0ef"
            ],
            [
             0.5,
             "#f7f7f7"
            ],
            [
             0.6,
             "#e6f5d0"
            ],
            [
             0.7,
             "#b8e186"
            ],
            [
             0.8,
             "#7fbc41"
            ],
            [
             0.9,
             "#4d9221"
            ],
            [
             1,
             "#276419"
            ]
           ],
           "sequential": [
            [
             0,
             "#0d0887"
            ],
            [
             0.1111111111111111,
             "#46039f"
            ],
            [
             0.2222222222222222,
             "#7201a8"
            ],
            [
             0.3333333333333333,
             "#9c179e"
            ],
            [
             0.4444444444444444,
             "#bd3786"
            ],
            [
             0.5555555555555556,
             "#d8576b"
            ],
            [
             0.6666666666666666,
             "#ed7953"
            ],
            [
             0.7777777777777778,
             "#fb9f3a"
            ],
            [
             0.8888888888888888,
             "#fdca26"
            ],
            [
             1,
             "#f0f921"
            ]
           ],
           "sequentialminus": [
            [
             0,
             "#0d0887"
            ],
            [
             0.1111111111111111,
             "#46039f"
            ],
            [
             0.2222222222222222,
             "#7201a8"
            ],
            [
             0.3333333333333333,
             "#9c179e"
            ],
            [
             0.4444444444444444,
             "#bd3786"
            ],
            [
             0.5555555555555556,
             "#d8576b"
            ],
            [
             0.6666666666666666,
             "#ed7953"
            ],
            [
             0.7777777777777778,
             "#fb9f3a"
            ],
            [
             0.8888888888888888,
             "#fdca26"
            ],
            [
             1,
             "#f0f921"
            ]
           ]
          },
          "colorway": [
           "#636efa",
           "#EF553B",
           "#00cc96",
           "#ab63fa",
           "#FFA15A",
           "#19d3f3",
           "#FF6692",
           "#B6E880",
           "#FF97FF",
           "#FECB52"
          ],
          "font": {
           "color": "#2a3f5f"
          },
          "geo": {
           "bgcolor": "white",
           "lakecolor": "white",
           "landcolor": "#E5ECF6",
           "showlakes": true,
           "showland": true,
           "subunitcolor": "white"
          },
          "hoverlabel": {
           "align": "left"
          },
          "hovermode": "closest",
          "mapbox": {
           "style": "light"
          },
          "paper_bgcolor": "white",
          "plot_bgcolor": "#E5ECF6",
          "polar": {
           "angularaxis": {
            "gridcolor": "white",
            "linecolor": "white",
            "ticks": ""
           },
           "bgcolor": "#E5ECF6",
           "radialaxis": {
            "gridcolor": "white",
            "linecolor": "white",
            "ticks": ""
           }
          },
          "scene": {
           "xaxis": {
            "backgroundcolor": "#E5ECF6",
            "gridcolor": "white",
            "gridwidth": 2,
            "linecolor": "white",
            "showbackground": true,
            "ticks": "",
            "zerolinecolor": "white"
           },
           "yaxis": {
            "backgroundcolor": "#E5ECF6",
            "gridcolor": "white",
            "gridwidth": 2,
            "linecolor": "white",
            "showbackground": true,
            "ticks": "",
            "zerolinecolor": "white"
           },
           "zaxis": {
            "backgroundcolor": "#E5ECF6",
            "gridcolor": "white",
            "gridwidth": 2,
            "linecolor": "white",
            "showbackground": true,
            "ticks": "",
            "zerolinecolor": "white"
           }
          },
          "shapedefaults": {
           "line": {
            "color": "#2a3f5f"
           }
          },
          "ternary": {
           "aaxis": {
            "gridcolor": "white",
            "linecolor": "white",
            "ticks": ""
           },
           "baxis": {
            "gridcolor": "white",
            "linecolor": "white",
            "ticks": ""
           },
           "bgcolor": "#E5ECF6",
           "caxis": {
            "gridcolor": "white",
            "linecolor": "white",
            "ticks": ""
           }
          },
          "title": {
           "x": 0.05
          },
          "xaxis": {
           "automargin": true,
           "gridcolor": "white",
           "linecolor": "white",
           "ticks": "",
           "title": {
            "standoff": 15
           },
           "zerolinecolor": "white",
           "zerolinewidth": 2
          },
          "yaxis": {
           "automargin": true,
           "gridcolor": "white",
           "linecolor": "white",
           "ticks": "",
           "title": {
            "standoff": 15
           },
           "zerolinecolor": "white",
           "zerolinewidth": 2
          }
         }
        },
        "title": {
         "text": "NVDA Stock Volume"
        },
        "xaxis": {
         "title": {
          "text": "Date"
         }
        },
        "yaxis": {
         "title": {
          "text": "Volume"
         }
        }
       }
      }
     },
     "metadata": {},
     "output_type": "display_data"
    }
   ],
   "source": [
    "def plot_volume_data(ticker, start_date, end_date):\n",
    "    df = query_stock_data(table=\"Price_Data\", ticker=ticker, start_date=start_date, end_date=end_date)\n",
    "    print(df.head())\n",
    "    fig = go.Figure(data=[go.Bar(x=df['Date'], y=df['Volume'])])\n",
    "    fig.update_layout(title='NVDA Stock Volume', xaxis_title='Date', yaxis_title='Volume', height=700)\n",
    "    fig.show()\n",
    "\n",
    "\n",
    "plot_volume_data(ticker=\"NVDA\", start_date=\"2020-01-01\", end_date=\"2024-01-01\")"
   ]
  },
  {
   "cell_type": "markdown",
   "metadata": {},
   "source": [
    "## Create some features below here, and explore options"
   ]
  },
  {
   "cell_type": "code",
   "execution_count": null,
   "metadata": {},
   "outputs": [
    {
     "name": "stdout",
     "output_type": "stream",
     "text": [
      "Ticker:  NVDA\n"
     ]
    },
    {
     "name": "stderr",
     "output_type": "stream",
     "text": [
      "C:\\Users\\emilh\\AppData\\Local\\Temp\\ipykernel_25292\\95960914.py:35: FutureWarning:\n",
      "\n",
      "DataFrame.fillna with 'method' is deprecated and will raise in a future version. Use obj.ffill() or obj.bfill() instead.\n",
      "\n"
     ]
    },
    {
     "data": {
      "text/html": [
       "<div>\n",
       "<style scoped>\n",
       "    .dataframe tbody tr th:only-of-type {\n",
       "        vertical-align: middle;\n",
       "    }\n",
       "\n",
       "    .dataframe tbody tr th {\n",
       "        vertical-align: top;\n",
       "    }\n",
       "\n",
       "    .dataframe thead th {\n",
       "        text-align: right;\n",
       "    }\n",
       "</style>\n",
       "<table border=\"1\" class=\"dataframe\">\n",
       "  <thead>\n",
       "    <tr style=\"text-align: right;\">\n",
       "      <th></th>\n",
       "      <th>Date</th>\n",
       "      <th>Ticker</th>\n",
       "      <th>P/E Ratio</th>\n",
       "      <th>P/S Ratio</th>\n",
       "      <th>P/B Ratio</th>\n",
       "    </tr>\n",
       "  </thead>\n",
       "  <tbody>\n",
       "    <tr>\n",
       "      <th>0</th>\n",
       "      <td>2016-01-04</td>\n",
       "      <td>NVDA</td>\n",
       "      <td>0.00000000</td>\n",
       "      <td>0.00000000</td>\n",
       "      <td>0.00000000</td>\n",
       "    </tr>\n",
       "    <tr>\n",
       "      <th>1</th>\n",
       "      <td>2016-01-05</td>\n",
       "      <td>NVDA</td>\n",
       "      <td>0.00000000</td>\n",
       "      <td>0.00000000</td>\n",
       "      <td>0.00000000</td>\n",
       "    </tr>\n",
       "    <tr>\n",
       "      <th>2</th>\n",
       "      <td>2016-01-06</td>\n",
       "      <td>NVDA</td>\n",
       "      <td>0.00000000</td>\n",
       "      <td>0.00000000</td>\n",
       "      <td>0.00000000</td>\n",
       "    </tr>\n",
       "    <tr>\n",
       "      <th>3</th>\n",
       "      <td>2016-01-07</td>\n",
       "      <td>NVDA</td>\n",
       "      <td>0.00000000</td>\n",
       "      <td>0.00000000</td>\n",
       "      <td>0.00000000</td>\n",
       "    </tr>\n",
       "    <tr>\n",
       "      <th>4</th>\n",
       "      <td>2016-01-08</td>\n",
       "      <td>NVDA</td>\n",
       "      <td>0.00000000</td>\n",
       "      <td>0.00000000</td>\n",
       "      <td>0.00000000</td>\n",
       "    </tr>\n",
       "    <tr>\n",
       "      <th>...</th>\n",
       "      <td>...</td>\n",
       "      <td>...</td>\n",
       "      <td>...</td>\n",
       "      <td>...</td>\n",
       "      <td>...</td>\n",
       "    </tr>\n",
       "    <tr>\n",
       "      <th>2007</th>\n",
       "      <td>2023-12-22</td>\n",
       "      <td>NVDA</td>\n",
       "      <td>121.44154229</td>\n",
       "      <td>67.19416832</td>\n",
       "      <td>36.60178356</td>\n",
       "    </tr>\n",
       "    <tr>\n",
       "      <th>2008</th>\n",
       "      <td>2023-12-26</td>\n",
       "      <td>NVDA</td>\n",
       "      <td>122.55820896</td>\n",
       "      <td>67.81202517</td>\n",
       "      <td>36.93834048</td>\n",
       "    </tr>\n",
       "    <tr>\n",
       "      <th>2009</th>\n",
       "      <td>2023-12-27</td>\n",
       "      <td>NVDA</td>\n",
       "      <td>122.90149254</td>\n",
       "      <td>68.00196556</td>\n",
       "      <td>37.04180418</td>\n",
       "    </tr>\n",
       "    <tr>\n",
       "      <th>2010</th>\n",
       "      <td>2023-12-28</td>\n",
       "      <td>NVDA</td>\n",
       "      <td>123.16268657</td>\n",
       "      <td>68.14648543</td>\n",
       "      <td>37.12052656</td>\n",
       "    </tr>\n",
       "    <tr>\n",
       "      <th>2011</th>\n",
       "      <td>2023-12-29</td>\n",
       "      <td>NVDA</td>\n",
       "      <td>123.16268657</td>\n",
       "      <td>68.14648543</td>\n",
       "      <td>37.12052656</td>\n",
       "    </tr>\n",
       "  </tbody>\n",
       "</table>\n",
       "<p>2012 rows × 5 columns</p>\n",
       "</div>"
      ],
      "text/plain": [
       "           Date Ticker    P/E Ratio   P/S Ratio   P/B Ratio\n",
       "0    2016-01-04   NVDA   0.00000000  0.00000000  0.00000000\n",
       "1    2016-01-05   NVDA   0.00000000  0.00000000  0.00000000\n",
       "2    2016-01-06   NVDA   0.00000000  0.00000000  0.00000000\n",
       "3    2016-01-07   NVDA   0.00000000  0.00000000  0.00000000\n",
       "4    2016-01-08   NVDA   0.00000000  0.00000000  0.00000000\n",
       "...         ...    ...          ...         ...         ...\n",
       "2007 2023-12-22   NVDA 121.44154229 67.19416832 36.60178356\n",
       "2008 2023-12-26   NVDA 122.55820896 67.81202517 36.93834048\n",
       "2009 2023-12-27   NVDA 122.90149254 68.00196556 37.04180418\n",
       "2010 2023-12-28   NVDA 123.16268657 68.14648543 37.12052656\n",
       "2011 2023-12-29   NVDA 123.16268657 68.14648543 37.12052656\n",
       "\n",
       "[2012 rows x 5 columns]"
      ]
     },
     "execution_count": 13,
     "metadata": {},
     "output_type": "execute_result"
    }
   ],
   "source": [
    "start_date = \"2016-01-01\"\n",
    "end_date   = \"2024-01-01\"\n",
    " \n",
    "conn = sqlite3.connect(\"../Data/EOD_financial_data.db\")\n",
    "cursor = conn.cursor()\n",
    "\n",
    "spy_df, stock_tickers = load_SPY_components()\n",
    "# stock_tickers = [\"NVDA\", \"AMZN\", \"MSFT\",\"NSI\", \"AAPL\", \"VAT\" ,\"BAC\"]\n",
    "stock_tickers = [\"NVDA\", \"AMZN\"]\n",
    "# stock_tickers = stock_tickers[:10]\n",
    "\n",
    "ticker = stock_tickers[0]\n",
    "\n",
    "print(\"Ticker: \", ticker)\n",
    "price_df = query_stock_data(table=\"Price_Data\", ticker=ticker, start_date = start_date, end_date = end_date)\n",
    "income_statement_df = query_stock_data(table=\"Income_Statements\", ticker=ticker, start_date = start_date, end_date = end_date)\n",
    "balance_sheet_df = query_stock_data(table=\"Balance_Sheets\", ticker=ticker, start_date = start_date, end_date = end_date)\n",
    "earnings_df = query_stock_data(table=\"Earnings\", ticker=ticker, start_date = start_date, end_date = end_date)\n",
    "\n",
    "financial_ratios_df = price_df[[\"Ticker\", \"Date\", \"Close\", \"Adjusted_Scalar\"]].copy()\n",
    "financial_ratios_df[\"Date\"] = pd.to_datetime(financial_ratios_df[\"Date\"])\n",
    "\n",
    "earnings_df[\"Date\"] = pd.to_datetime(earnings_df[\"EffectiveDate\"])\n",
    "income_statement_df[\"Date\"] = pd.to_datetime(income_statement_df[\"EffectiveDate\"])\n",
    "balance_sheet_df[\"Date\"] = pd.to_datetime(balance_sheet_df[\"EffectiveDate\"])\n",
    "\n",
    "financial_ratios_df = pd.merge(financial_ratios_df, earnings_df[[\"Date\", \"EPSActual\"]], on =\"Date\", how=\"left\")\n",
    "financial_ratios_df = pd.merge(financial_ratios_df, income_statement_df[[\"Date\", \"NetIncome\", \"TotalRevenue\"]], on =\"Date\", how=\"left\")\n",
    "financial_ratios_df = pd.merge(financial_ratios_df, balance_sheet_df[[\"Date\", \"TotalAssets\", \"TotalLiabilities\", \"OutstandingShares\"]], on =\"Date\", how=\"left\")\n",
    "\n",
    "financial_ratios_df = financial_ratios_df.fillna(method='ffill')\n",
    "\n",
    "financial_ratios_df[\"P/E Ratio\"] = financial_ratios_df[\"Close\"] / financial_ratios_df[\"EPSActual\"]\n",
    "financial_ratios_df[\"P/S Ratio\"] = financial_ratios_df[\"Close\"] / (financial_ratios_df[\"TotalRevenue\"] / financial_ratios_df[\"OutstandingShares\"])\n",
    "financial_ratios_df[\"P/B Ratio\"] = financial_ratios_df[\"Close\"] / ((financial_ratios_df[\"TotalAssets\"] - financial_ratios_df[\"TotalLiabilities\"]) / financial_ratios_df[\"OutstandingShares\"])\n",
    "        \n",
    "financial_ratios_df[[\"P/E Ratio\", \"P/S Ratio\", \"P/B Ratio\"]] = financial_ratios_df[[\"P/E Ratio\", \"P/S Ratio\", \"P/B Ratio\"]].fillna(0)\n",
    "\n",
    "financial_ratios_df = financial_ratios_df[[\"Date\", \"Ticker\", \"P/E Ratio\", \"P/S Ratio\", \"P/B Ratio\"]]\n",
    "financial_ratios_df"
   ]
  },
  {
   "cell_type": "markdown",
   "metadata": {},
   "source": [
    "# Testing edge based features"
   ]
  },
  {
   "cell_type": "code",
   "execution_count": null,
   "metadata": {},
   "outputs": [],
   "source": []
  }
 ],
 "metadata": {
  "kernelspec": {
   "display_name": "Python 3",
   "language": "python",
   "name": "python3"
  },
  "language_info": {
   "codemirror_mode": {
    "name": "ipython",
    "version": 3
   },
   "file_extension": ".py",
   "mimetype": "text/x-python",
   "name": "python",
   "nbconvert_exporter": "python",
   "pygments_lexer": "ipython3",
   "version": "3.9.13"
  }
 },
 "nbformat": 4,
 "nbformat_minor": 2
}
