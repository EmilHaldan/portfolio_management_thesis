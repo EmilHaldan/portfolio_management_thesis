{
 "cells": [
  {
   "cell_type": "code",
   "execution_count": 2,
   "metadata": {},
   "outputs": [],
   "source": [
    "import pandas as pd\n",
    "import numpy as np\n",
    "import os\n",
    "import sys\n",
    "from datetime import datetime\n",
    "import scipy.stats as stats\n",
    "import matplotlib.pyplot as plt\n",
    "from ticker_loader import load_SPY_components\n",
    "import sqlite3\n",
    "from tqdm.notebook import tqdm\n",
    "import time \n",
    "import pickle\n",
    "from datetime import datetime\n",
    "from datetime import timedelta\n",
    "from statsmodels.tsa.stattools import coint\n",
    "import holidays\n",
    "import random as rn\n",
    "\n"
   ]
  },
  {
   "cell_type": "code",
   "execution_count": null,
   "metadata": {},
   "outputs": [],
   "source": [
    "rn.seed(42)\n",
    "num_stocks = 20\n",
    "num_days = 200\n",
    "data_matrix = np.random.randint(0, num_days, size=(num_stocks, num_days))\n",
    "\n",
    "window_size = 20\n",
    "start = window_size\n",
    "end = num_days\n",
    "\n",
    "stocks_dict = {}\n",
    "for i in range(num_stocks):\n",
    "    stocks_dict[str(i)] = [rn.randint(0,num_days) for x in range(num_days)]\n"
   ]
  },
  {
   "cell_type": "code",
   "execution_count": 40,
   "metadata": {},
   "outputs": [
    {
     "data": {
      "application/json": {
       "ascii": false,
       "bar_format": null,
       "colour": null,
       "elapsed": 0.00700831413269043,
       "initial": 0,
       "n": 0,
       "ncols": null,
       "nrows": null,
       "postfix": null,
       "prefix": "",
       "rate": null,
       "total": 20,
       "unit": "it",
       "unit_divisor": 1000,
       "unit_scale": false
      },
      "application/vnd.jupyter.widget-view+json": {
       "model_id": "2675911b56ce46ce94753b2f6d4a5294",
       "version_major": 2,
       "version_minor": 0
      },
      "text/plain": [
       "  0%|          | 0/20 [00:00<?, ?it/s]"
      ]
     },
     "metadata": {},
     "output_type": "display_data"
    }
   ],
   "source": [
    "og_correlations = {}\n",
    "\n",
    "for stock_1 in tqdm(stocks_dict.keys()):\n",
    "    for stock_2 in stocks_dict.keys():\n",
    "        if stock_1 != stock_2:\n",
    "            for i in range(start,num_days,1):\n",
    "                price_data_1 = stocks_dict[stock_1][i-window_size:i]\n",
    "                price_data_2 = stocks_dict[stock_2][i-window_size:i]\n",
    "\n",
    "                # Calculate the correlation between the two series\n",
    "                correlation, p_value = stats.pearsonr(price_data_1, price_data_2)\n",
    "\n",
    "                og_correlations[(int(stock_1), int(stock_2), i)] = correlation\n"
   ]
  },
  {
   "cell_type": "code",
   "execution_count": null,
   "metadata": {},
   "outputs": [
    {
     "data": {
      "application/json": {
       "ascii": false,
       "bar_format": null,
       "colour": null,
       "elapsed": 0.006273031234741211,
       "initial": 0,
       "n": 0,
       "ncols": null,
       "nrows": null,
       "postfix": null,
       "prefix": "",
       "rate": null,
       "total": 20,
       "unit": "it",
       "unit_divisor": 1000,
       "unit_scale": false
      },
      "application/vnd.jupyter.widget-view+json": {
       "model_id": "a2c62befc8b24a7b97f7aad7134578c0",
       "version_major": 2,
       "version_minor": 0
      },
      "text/plain": [
       "  0%|          | 0/20 [00:00<?, ?it/s]"
      ]
     },
     "metadata": {},
     "output_type": "display_data"
    },
    {
     "data": {
      "application/json": {
       "ascii": false,
       "bar_format": null,
       "colour": null,
       "elapsed": 0.004042863845825195,
       "initial": 0,
       "n": 0,
       "ncols": null,
       "nrows": null,
       "postfix": null,
       "prefix": "",
       "rate": null,
       "total": 180,
       "unit": "it",
       "unit_divisor": 1000,
       "unit_scale": false
      },
      "application/vnd.jupyter.widget-view+json": {
       "model_id": "8a29c0b9979c441487800c6de7e8644d",
       "version_major": 2,
       "version_minor": 0
      },
      "text/plain": [
       "  0%|          | 0/180 [00:00<?, ?it/s]"
      ]
     },
     "metadata": {},
     "output_type": "display_data"
    },
    {
     "name": "stdout",
     "output_type": "stream",
     "text": [
      "Correlation between stock 0 and stock 1 in the first window: -0.0574144817479174\n"
     ]
    }
   ],
   "source": [
    "correlations_new = {}\n",
    "data_matrix = np.zeros((num_stocks, num_days))\n",
    "for i in tqdm(range(num_stocks)):\n",
    "    data_matrix[i] = stocks_dict[str(i)]\n",
    "\n",
    "for i in tqdm(range(start, end)):\n",
    "    window_data = data_matrix[:, i - window_size:i]\n",
    "    correlation_matrix = np.corrcoef(window_data)\n",
    "    for j in range(num_stocks):\n",
    "        for k in range(num_stocks):\n",
    "            correlations_new[(j, k, i)] = correlation_matrix[j, k]\n",
    "\n",
    "example_correlation = correlations[0][0, 1]\n",
    "print(\"Correlation between stock 0 and stock 1 in the first window:\", example_correlation)"
   ]
  },
  {
   "cell_type": "code",
   "execution_count": 28,
   "metadata": {},
   "outputs": [
    {
     "name": "stdout",
     "output_type": "stream",
     "text": [
      "(20, 20)\n",
      "180\n"
     ]
    }
   ],
   "source": [
    "print(correlations[0].shape)\n",
    "print(len(correlations))"
   ]
  },
  {
   "cell_type": "code",
   "execution_count": null,
   "metadata": {},
   "outputs": [],
   "source": [
    "for stock_1 in stocks_dict.keys():\n",
    "    for stock_2 in stocks_dict.keys():\n",
    "        if stock_1 != stock_2:\n",
    "            for i in range(start, num_days):\n",
    "                correlation_original = og_correlations[(int(stock_1), int(stock_2), i)]\n",
    "                correlation_new = correlations_new[(int(stock_1), int(stock_2), i)]\n",
    "\n",
    "                if round(correlation_original,11) != round(correlation_new,11):\n",
    "                    print(\"Correlation mismatch found!\")\n",
    "                    print(\"Stock 1:\", stock_1)\n",
    "                    print(\"Stock 2:\", stock_2)\n",
    "                    print(\"Window index:\", i)\n",
    "                    print(\"Original correlation:\", correlation_original)\n",
    "                    print(\"New correlation:\", correlation_new)\n",
    "                    break"
   ]
  },
  {
   "cell_type": "code",
   "execution_count": null,
   "metadata": {},
   "outputs": [
    {
     "data": {
      "text/html": [
       "<div>\n",
       "<style scoped>\n",
       "    .dataframe tbody tr th:only-of-type {\n",
       "        vertical-align: middle;\n",
       "    }\n",
       "\n",
       "    .dataframe tbody tr th {\n",
       "        vertical-align: top;\n",
       "    }\n",
       "\n",
       "    .dataframe thead th {\n",
       "        text-align: right;\n",
       "    }\n",
       "</style>\n",
       "<table border=\"1\" class=\"dataframe\">\n",
       "  <thead>\n",
       "    <tr style=\"text-align: right;\">\n",
       "      <th></th>\n",
       "      <th>Date</th>\n",
       "      <th>Close</th>\n",
       "      <th>pct_change</th>\n",
       "    </tr>\n",
       "  </thead>\n",
       "  <tbody>\n",
       "    <tr>\n",
       "      <th>0</th>\n",
       "      <td>1</td>\n",
       "      <td>100</td>\n",
       "      <td>0.500000</td>\n",
       "    </tr>\n",
       "    <tr>\n",
       "      <th>1</th>\n",
       "      <td>2</td>\n",
       "      <td>110</td>\n",
       "      <td>0.454545</td>\n",
       "    </tr>\n",
       "    <tr>\n",
       "      <th>2</th>\n",
       "      <td>3</td>\n",
       "      <td>120</td>\n",
       "      <td>0.416667</td>\n",
       "    </tr>\n",
       "    <tr>\n",
       "      <th>3</th>\n",
       "      <td>4</td>\n",
       "      <td>130</td>\n",
       "      <td>0.384615</td>\n",
       "    </tr>\n",
       "    <tr>\n",
       "      <th>4</th>\n",
       "      <td>5</td>\n",
       "      <td>140</td>\n",
       "      <td>NaN</td>\n",
       "    </tr>\n",
       "    <tr>\n",
       "      <th>5</th>\n",
       "      <td>6</td>\n",
       "      <td>150</td>\n",
       "      <td>NaN</td>\n",
       "    </tr>\n",
       "    <tr>\n",
       "      <th>6</th>\n",
       "      <td>7</td>\n",
       "      <td>160</td>\n",
       "      <td>NaN</td>\n",
       "    </tr>\n",
       "    <tr>\n",
       "      <th>7</th>\n",
       "      <td>8</td>\n",
       "      <td>170</td>\n",
       "      <td>NaN</td>\n",
       "    </tr>\n",
       "    <tr>\n",
       "      <th>8</th>\n",
       "      <td>9</td>\n",
       "      <td>180</td>\n",
       "      <td>NaN</td>\n",
       "    </tr>\n",
       "  </tbody>\n",
       "</table>\n",
       "</div>"
      ],
      "text/plain": [
       "   Date  Close  pct_change\n",
       "0     1    100    0.500000\n",
       "1     2    110    0.454545\n",
       "2     3    120    0.416667\n",
       "3     4    130    0.384615\n",
       "4     5    140         NaN\n",
       "5     6    150         NaN\n",
       "6     7    160         NaN\n",
       "7     8    170         NaN\n",
       "8     9    180         NaN"
      ]
     },
     "execution_count": 20,
     "metadata": {},
     "output_type": "execute_result"
    }
   ],
   "source": [
    "\n",
    "df = pd.DataFrame([[1,100],[2,110],[3,120],[4,130],[5,140],[6,150],[7,160],[8,170],[9,180]], columns= ([\"Date\", \"Close\"]))\n",
    "df['pct_change'] = df['Close'].pct_change(\n",
    "                                periods=5)\n",
    "df[\"pct_change\"] = df[\"pct_change\"].shift(-5)\n",
    "                            \n",
    "\n",
    "df"
   ]
  },
  {
   "cell_type": "code",
   "execution_count": null,
   "metadata": {},
   "outputs": [
    {
     "data": {
      "text/html": [
       "<div>\n",
       "<style scoped>\n",
       "    .dataframe tbody tr th:only-of-type {\n",
       "        vertical-align: middle;\n",
       "    }\n",
       "\n",
       "    .dataframe tbody tr th {\n",
       "        vertical-align: top;\n",
       "    }\n",
       "\n",
       "    .dataframe thead th {\n",
       "        text-align: right;\n",
       "    }\n",
       "</style>\n",
       "<table border=\"1\" class=\"dataframe\">\n",
       "  <thead>\n",
       "    <tr style=\"text-align: right;\">\n",
       "      <th></th>\n",
       "      <th>Date</th>\n",
       "      <th>Close</th>\n",
       "      <th>pct_change</th>\n",
       "    </tr>\n",
       "  </thead>\n",
       "  <tbody>\n",
       "    <tr>\n",
       "      <th>0</th>\n",
       "      <td>1</td>\n",
       "      <td>100</td>\n",
       "      <td>-0.333333</td>\n",
       "    </tr>\n",
       "    <tr>\n",
       "      <th>1</th>\n",
       "      <td>2</td>\n",
       "      <td>110</td>\n",
       "      <td>-0.312500</td>\n",
       "    </tr>\n",
       "    <tr>\n",
       "      <th>2</th>\n",
       "      <td>3</td>\n",
       "      <td>120</td>\n",
       "      <td>-0.294118</td>\n",
       "    </tr>\n",
       "    <tr>\n",
       "      <th>3</th>\n",
       "      <td>4</td>\n",
       "      <td>130</td>\n",
       "      <td>-0.277778</td>\n",
       "    </tr>\n",
       "    <tr>\n",
       "      <th>4</th>\n",
       "      <td>5</td>\n",
       "      <td>140</td>\n",
       "      <td>NaN</td>\n",
       "    </tr>\n",
       "    <tr>\n",
       "      <th>5</th>\n",
       "      <td>6</td>\n",
       "      <td>150</td>\n",
       "      <td>NaN</td>\n",
       "    </tr>\n",
       "    <tr>\n",
       "      <th>6</th>\n",
       "      <td>7</td>\n",
       "      <td>160</td>\n",
       "      <td>NaN</td>\n",
       "    </tr>\n",
       "    <tr>\n",
       "      <th>7</th>\n",
       "      <td>8</td>\n",
       "      <td>170</td>\n",
       "      <td>NaN</td>\n",
       "    </tr>\n",
       "    <tr>\n",
       "      <th>8</th>\n",
       "      <td>9</td>\n",
       "      <td>180</td>\n",
       "      <td>NaN</td>\n",
       "    </tr>\n",
       "  </tbody>\n",
       "</table>\n",
       "</div>"
      ],
      "text/plain": [
       "   Date  Close  pct_change\n",
       "0     1    100   -0.333333\n",
       "1     2    110   -0.312500\n",
       "2     3    120   -0.294118\n",
       "3     4    130   -0.277778\n",
       "4     5    140         NaN\n",
       "5     6    150         NaN\n",
       "6     7    160         NaN\n",
       "7     8    170         NaN\n",
       "8     9    180         NaN"
      ]
     },
     "execution_count": 12,
     "metadata": {},
     "output_type": "execute_result"
    }
   ],
   "source": [
    "\n",
    "df = pd.DataFrame([[1,100],[2,110],[3,120],[4,130],[5,140],[6,150],[7,160],[8,170],[9,180]], columns= ([\"Date\", \"Close\"]))\n",
    "df['pct_change'] = df['Close'].pct_change(\n",
    "                                periods=-5)\n",
    "df"
   ]
  }
 ],
 "metadata": {
  "kernelspec": {
   "display_name": "Python 3",
   "language": "python",
   "name": "python3"
  },
  "language_info": {
   "codemirror_mode": {
    "name": "ipython",
    "version": 3
   },
   "file_extension": ".py",
   "mimetype": "text/x-python",
   "name": "python",
   "nbconvert_exporter": "python",
   "pygments_lexer": "ipython3",
   "version": "3.9.13"
  }
 },
 "nbformat": 4,
 "nbformat_minor": 2
}
