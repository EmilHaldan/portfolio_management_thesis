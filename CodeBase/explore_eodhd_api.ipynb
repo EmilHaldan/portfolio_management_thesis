{
 "cells": [
  {
   "cell_type": "code",
   "execution_count": 1,
   "metadata": {},
   "outputs": [],
   "source": [
    "import pandas as pd\n",
    "import os\n",
    "import sys\n",
    "import win32cred\n",
    "import requests\n",
    "from datetime import datetime\n",
    "import scipy.stats as stats\n",
    "import matplotlib.pyplot as plt\n",
    "from eodhd import APIClient\n",
    "\n",
    "from ticker_loader import *"
   ]
  },
  {
   "cell_type": "markdown",
   "metadata": {},
   "source": [
    "# Loading the composition of the S&P 500 index from a csv file"
   ]
  },
  {
   "cell_type": "code",
   "execution_count": 2,
   "metadata": {},
   "outputs": [
    {
     "data": {
      "text/html": [
       "<div>\n",
       "<style scoped>\n",
       "    .dataframe tbody tr th:only-of-type {\n",
       "        vertical-align: middle;\n",
       "    }\n",
       "\n",
       "    .dataframe tbody tr th {\n",
       "        vertical-align: top;\n",
       "    }\n",
       "\n",
       "    .dataframe thead th {\n",
       "        text-align: right;\n",
       "    }\n",
       "</style>\n",
       "<table border=\"1\" class=\"dataframe\">\n",
       "  <thead>\n",
       "    <tr style=\"text-align: right;\">\n",
       "      <th></th>\n",
       "      <th>Date</th>\n",
       "      <th>Tickers</th>\n",
       "      <th>Number of Stocks</th>\n",
       "    </tr>\n",
       "  </thead>\n",
       "  <tbody>\n",
       "    <tr>\n",
       "      <th>0</th>\n",
       "      <td>1996-01-01</td>\n",
       "      <td>AAL,AAMRQ,AAPL,ABI,ABS,ABT,ABX,ACKH,ACV,ADM,AD...</td>\n",
       "      <td>487</td>\n",
       "    </tr>\n",
       "    <tr>\n",
       "      <th>1</th>\n",
       "      <td>1996-02-01</td>\n",
       "      <td>AAL,AAMRQ,AAPL,ABI,ABS,ABT,ABX,ACKH,ACV,ADM,AD...</td>\n",
       "      <td>487</td>\n",
       "    </tr>\n",
       "    <tr>\n",
       "      <th>2</th>\n",
       "      <td>1996-03-01</td>\n",
       "      <td>AAL,AAMRQ,AAPL,ABI,ABS,ABT,ABX,ACKH,ACV,ADM,AD...</td>\n",
       "      <td>487</td>\n",
       "    </tr>\n",
       "    <tr>\n",
       "      <th>3</th>\n",
       "      <td>1996-04-01</td>\n",
       "      <td>AAL,AAMRQ,AAPL,ABI,ABS,ABT,ABX,ACKH,ACV,ADM,AD...</td>\n",
       "      <td>487</td>\n",
       "    </tr>\n",
       "    <tr>\n",
       "      <th>4</th>\n",
       "      <td>1996-05-01</td>\n",
       "      <td>AAL,AAMRQ,AAPL,ABI,ABS,ABT,ABX,ACKH,ACV,ADM,AD...</td>\n",
       "      <td>487</td>\n",
       "    </tr>\n",
       "    <tr>\n",
       "      <th>...</th>\n",
       "      <td>...</td>\n",
       "      <td>...</td>\n",
       "      <td>...</td>\n",
       "    </tr>\n",
       "    <tr>\n",
       "      <th>311</th>\n",
       "      <td>2022-06-01</td>\n",
       "      <td>A,AAL,AAP,AAPL,ABBV,ABC,ABMD,ABT,ACN,ADBE,ADI,...</td>\n",
       "      <td>504</td>\n",
       "    </tr>\n",
       "    <tr>\n",
       "      <th>312</th>\n",
       "      <td>2022-09-01</td>\n",
       "      <td>A,AAL,AAP,AAPL,ABBV,ABC,ABMD,ABT,ACN,ADBE,ADI,...</td>\n",
       "      <td>503</td>\n",
       "    </tr>\n",
       "    <tr>\n",
       "      <th>313</th>\n",
       "      <td>2022-10-01</td>\n",
       "      <td>A,AAL,AAP,AAPL,ABBV,ABC,ABMD,ABT,ACN,ADBE,ADI,...</td>\n",
       "      <td>503</td>\n",
       "    </tr>\n",
       "    <tr>\n",
       "      <th>314</th>\n",
       "      <td>2022-11-01</td>\n",
       "      <td>A,AAL,AAP,AAPL,ABBV,ABC,ABMD,ABT,ACGL,ACN,ADBE...</td>\n",
       "      <td>503</td>\n",
       "    </tr>\n",
       "    <tr>\n",
       "      <th>315</th>\n",
       "      <td>2022-12-01</td>\n",
       "      <td>A,AAL,AAP,AAPL,ABBV,ABC,ABMD,ABT,ACGL,ACN,ADBE...</td>\n",
       "      <td>503</td>\n",
       "    </tr>\n",
       "  </tbody>\n",
       "</table>\n",
       "<p>316 rows × 3 columns</p>\n",
       "</div>"
      ],
      "text/plain": [
       "          Date                                            Tickers  \\\n",
       "0   1996-01-01  AAL,AAMRQ,AAPL,ABI,ABS,ABT,ABX,ACKH,ACV,ADM,AD...   \n",
       "1   1996-02-01  AAL,AAMRQ,AAPL,ABI,ABS,ABT,ABX,ACKH,ACV,ADM,AD...   \n",
       "2   1996-03-01  AAL,AAMRQ,AAPL,ABI,ABS,ABT,ABX,ACKH,ACV,ADM,AD...   \n",
       "3   1996-04-01  AAL,AAMRQ,AAPL,ABI,ABS,ABT,ABX,ACKH,ACV,ADM,AD...   \n",
       "4   1996-05-01  AAL,AAMRQ,AAPL,ABI,ABS,ABT,ABX,ACKH,ACV,ADM,AD...   \n",
       "..         ...                                                ...   \n",
       "311 2022-06-01  A,AAL,AAP,AAPL,ABBV,ABC,ABMD,ABT,ACN,ADBE,ADI,...   \n",
       "312 2022-09-01  A,AAL,AAP,AAPL,ABBV,ABC,ABMD,ABT,ACN,ADBE,ADI,...   \n",
       "313 2022-10-01  A,AAL,AAP,AAPL,ABBV,ABC,ABMD,ABT,ACN,ADBE,ADI,...   \n",
       "314 2022-11-01  A,AAL,AAP,AAPL,ABBV,ABC,ABMD,ABT,ACGL,ACN,ADBE...   \n",
       "315 2022-12-01  A,AAL,AAP,AAPL,ABBV,ABC,ABMD,ABT,ACGL,ACN,ADBE...   \n",
       "\n",
       "     Number of Stocks  \n",
       "0                 487  \n",
       "1                 487  \n",
       "2                 487  \n",
       "3                 487  \n",
       "4                 487  \n",
       "..                ...  \n",
       "311               504  \n",
       "312               503  \n",
       "313               503  \n",
       "314               503  \n",
       "315               503  \n",
       "\n",
       "[316 rows x 3 columns]"
      ]
     },
     "execution_count": 2,
     "metadata": {},
     "output_type": "execute_result"
    }
   ],
   "source": [
    "spy_df, all_stocks = load_SPY_components()\n",
    "spy_df"
   ]
  },
  {
   "cell_type": "code",
   "execution_count": 3,
   "metadata": {},
   "outputs": [
    {
     "name": "stdout",
     "output_type": "stream",
     "text": [
      "All 1136 stocks :  ['KSS', 'DELL', 'RSHCQ', 'ISRG', 'WDC', 'MMC', 'CHTR', 'URBN', 'KATE', 'AZO', 'DXCM', 'CHRW', 'BBT', 'EA', 'SRE', 'SJM', 'T', 'MO', 'MDT', 'BOL', 'ADP', 'DHR', 'NYN', 'RAL', 'TSN', 'SGID', 'STE', 'GNW', 'CMB', 'AFL', 'NAE', 'MTG', 'SB', 'VTSS', 'CR', 'HSP', 'ADI', 'PVH', 'NEE', 'BDK', 'JPM', 'APD', 'GLK', 'FWLT', 'HAL', 'AABA', 'D', 'GS', 'PAC', 'GL', 'RTX', 'WST', 'TEK', 'IRM', 'HES', 'BRCM', 'TT', 'MOH', 'CMX', 'PRU', 'WY', 'URI', 'MAS', 'MWI', 'MRK', 'HFS', 'FIS', 'UAWGQ', 'ABT', 'WCOEQ', 'GDW', 'ESRX', 'TER', 'CCB', 'VIAB', 'H', 'LMT', 'HCBK', 'JAVA', 'ODFL', 'BIO', 'UAL', 'ENPH', 'APA', 'HLT', 'AAL', 'FRC', 'ECH', 'KM', 'ACS', 'PSA', 'UPC', 'BBY', 'UNM', 'SLG', 'HOT', 'PNR', 'HOLX', 'ADM', 'ARNC', 'EFX', 'SO', 'TEL', 'DGN', 'MEL', 'MIL', 'JOS', 'VZ', 'TRIP', 'FJ', 'SE', 'CMVT', 'BKR', 'TXU', 'ASND', 'NLSN', 'PHB', 'ADT', 'UCL', 'BSX', 'AVP', 'IPG', 'DJ', 'KMG', 'TCOMA', 'LVS', 'HRB', 'I', 'CVH', 'GME', 'PBY', 'XOM', 'ETFC', 'MLM', 'FMY', 'MYL', 'SBAC', 'PEG', 'LYV', 'FDO', 'DIGI', 'AON', 'RHT', 'CPQ', 'ARG', 'LO', 'PYPL', 'MU', 'LNC', 'UTX', 'ACN', 'SNT', 'OKE', 'MAC', 'MAA', 'LUMN', 'AOS', 'FAST', 'RMD', 'IPGP', 'CTRA', 'PMI', 'BTUUQ', 'TXT', 'THC', 'HDLM', 'INCLF', 'FTV', 'DNR', 'BLY', 'DTV', 'IAC', 'ATVI', 'PGL', 'PLL', 'WLA', 'OMC', 'GWF', 'ADSK', 'GRN', 'TXN', 'STT', 'RF', 'CBOE', 'IR', 'CCK', 'XEL', 'VSTNQ', 'FOSL', 'JH', 'TSCO', 'PH', 'TROW', 'Q', 'CLX', 'MCO', 'WAT', 'HET', 'UST', 'DGX', 'WEC', 'INVH', 'FITB', 'WFC', 'FCN', 'APTV', 'EKDKQ', 'KEY', 'IMNX', 'EDS', 'JHF', 'KMI', 'SOV', 'ODP', 'ZTS', 'NWS', 'STX', 'CBE', 'LVLT', 'BIG', 'PALM', 'CIEN', 'JWN', 'ALK', 'FBHS', 'NLC', 'JNJ', 'DD', 'CMG', 'MCIC', 'CXO', 'MD', 'VRTS', 'FRX', 'RAD', 'AHM', 'BR', 'SIAL', 'LLX', 'VMC', 'DLX', 'RBK', 'DFS', 'TDC', 'PM', 'PKG', 'GAS', 'K', 'ROH', 'LLY', 'PEL', 'AR', 'WM', 'TIE', 'CCL', 'CTB', 'SIVB', 'VICI', 'FCX', 'NSM', 'IP', 'INTU', 'BLL', 'DAL', 'XYL', 'LIN', 'CZR', 'WBA', 'IT', 'KBH', 'AIG', 'NMK', 'KSU', 'ETS', 'BEV', 'DWD', 'CGP', 'GFS.A', 'ABKFQ', 'IGT', 'ASN', 'TDM', 'EXR', 'TRW', 'AET', 'HD', 'USS', 'NC', 'MSFT', 'M', 'LLTC', 'DPHIQ', 'TOY', 'TPR', 'MA', 'PBCT', 'PENN', 'INTC', 'PAYX', 'NTAP', 'ABC', 'NFB', 'MHK', 'SLR', 'FISV', 'EQT', 'MTD', 'NOW', 'LUV', 'CSR', 'LEG', 'COC.B', 'SEDG', 'QRVO', 'AWE', 'OI', 'BFI', 'DXC', 'APC', 'SHW', 'PHM', 'HWM', 'UCC', 'JNPR', 'MPWR', 'ACGL', 'CIN', 'GT', 'ALTR', 'MTLQQ', 'UPR', 'MFE', 'EVHC', 'G', 'CPWR', 'TWTR', 'SNI', 'CVC', 'CB', 'LDOS', 'NOV', 'KO', 'VRTX', 'DE', 'NUE', 'FHN', 'IFF', 'HBOC', 'FMC', 'PRD', 'FOX', 'ONE', 'RRD', 'STI', 'COG', 'MRNA', 'UHS', 'BDX', 'ANV', 'SNPS', 'SRR', 'IBM', 'WMT', 'CEN', 'COMS', 'AS', 'PETM', 'FFIV', 'TRMB', 'FE', 'HST', 'ANDW', 'VAR', 'SSP', 'BRK.B', 'HIG', 'ORX', 'AT', 'SWN', 'LSI', 'CAR', 'VIAV', 'DOW', 'AMAT', 'DF', 'HSIC', 'ALB', 'WBD', 'COST', 'THY', 'TX', 'NOVL', 'SRCL', 'DISCK', 'ANSS', 'LPX', 'APCC', 'OM', 'AVB', 'DO', 'STJ', 'FBF', 'EXPD', 'SXCL', 'NI', 'HCA', 'FNMA', 'BT', 'SANM', 'CBH', 'NAV', 'GGP', 'ZBRA', 'AMCR', 'OK', 'PFG', 'NWSA', 'MRO', 'CME', 'WMB', 'ROST', 'MOS', 'BMS', 'O', 'LOR', 'FPC', 'SGP', 'JCP', 'AKS', 'SHN', 'BSC', 'GTW', 'TDY', 'CCU', 'GNRC', 'PEAK', 'CRR', 'SIG', 'DI', 'AKAM', 'WPX', 'PCL', 'PAYC', 'TYL', 'ILMN', 'CTLT', 'NDAQ', 'CMCSA', 'ACKH', 'EMC', 'TIF', 'MEA', 'KEYS', 'CELG', 'JBL', 'SBUX', 'ELV', 'CSRA', 'CHIR', 'BF.B', 'FMCC', 'AMGN', 'RX', 'SWKS', 'HP', 'WEN', 'LEN', 'SPLS', 'CDNS', 'BAC', 'SWY', 'AGN', 'WAI', 'PWJ', 'CVG', 'SII', 'ICE', 'ALGN', 'BRO', 'TEN', 'AM', 'HPC', 'NCC', 'MST', 'EHC', 'AJG', 'TUP', 'SHLD', 'BNI', 'PVT', 'TFC', 'RHI', 'CSX', 'SYF', 'TGT', 'SWK', 'CL', 'XL', 'FRT', 'PEP', 'BLK', 'AW', 'MNK', 'PKI', 'HOG', 'LB', 'MUR', 'LKQ', 'HSY', 'JCI', 'CAT', 'TEX', 'FANG', 'ASC', 'TKR', 'LEHMQ', 'SCHW', 'AMT', 'FDS', 'HSH', 'AV', 'POOL', 'ETN', 'NSC', 'MHS', 'TFX', 'NCR', 'CNX', 'STZ', 'WFM', 'ABX', 'WYNN', 'KDP', 'JOY', 'HII', 'JP', 'CMS', 'PSFT', 'PMCS', 'EXPE', 'BBWI', 'DRI', 'RCL', 'NGH', 'UK', 'KG', 'META', 'TMC', 'NBR', 'DDS', 'PZE', 'GIS', 'CBSS', 'BMY', 'LYB', 'RSG', 'AXP', 'CITGQ', 'WCG', 'AAP', 'BIIB', 'MNST', 'DEC', 'PCH', 'NLV', 'ALXN', 'HUM', 'UNP', 'NCE', 'RIG', 'EVRG', 'MET', 'DOV', 'UCM', 'GPC', 'NRTLQ', 'HNZ', 'DCNAQ', 'NYX', 'MEE', 'QCOM', 'VTR', 'IQV', 'BMGCA', 'FBO', 'VLO', 'HCR', 'R', 'CCE', 'FTL.A', 'PAS', 'MI', 'SAPE', 'CE', 'AVGO', 'ANET', 'MKTX', 'IDXX', 'JKHY', 'SFA', 'TIN', 'AMD', 'NTRS', 'AME', 'NVLS', 'MTB', 'IVZ', 'RLM', 'USB', 'YUM', 'NXTL', 'BXP', 'WB', 'HBI', 'KORS', 'NBL', 'PD', 'GDT', 'BVSN', 'ENRNQ', 'LOW', 'NVR', 'ALL', 'MON', 'SPGI', 'GD', 'AES', 'QLGC', 'SNDK', 'NXPI', 'GLD', 'RAI', 'SUN', 'ETSY', 'BEN', 'ADBE', 'CTX', 'EMR', 'PNC', 'APH', 'BEAM', 'DIS', 'LW', 'MAR', 'MWV', 'LIFE', 'ALLE', 'HPE', 'FL', 'IKN', 'SYMC', 'RBD', 'RL', 'CPT', 'ADS', 'DDR', 'PBG', 'ESS', 'BALL', 'NKE', 'BUD', 'CRM', 'UAA', 'KHC', 'USW', 'WU', 'J', 'CMI', 'PFE', 'ON', 'BA', 'SLM', 'DUK', 'WNDXQ', 'ITW', 'MYG', 'ACV', 'ENS', 'LDG', 'L', 'CNXT', 'WWY', 'FSLR', 'ETR', 'LDW.B', 'AYI', 'VFC', 'XEC', 'MCK', 'HPQ', 'MTL', 'CEG', 'CTAS', 'CDW', 'CSCO', 'COO', 'AIV', 'CCI', 'PCAR', 'CBB', 'NFX', 'SVU', 'XLNX', 'PPW', 'BGEN', 'CTSH', 'CEPH', 'PWER', 'ANRZQ', 'ASH', 'CG', 'SYY', 'UIS', 'SEBL', 'VNT', 'GNT', 'GLW', 'TSLA', 'PSX', 'TWX', 'WYE', 'BAX', 'HPH', 'KMB', 'ROP', 'AWK', 'VNO', 'SOTR', 'SBL', 'SBNY', 'GE', 'BRL', 'PLD', 'SNV', 'CAG', 'CPGX', 'NYT', 'WRK', 'UN', 'COL', 'CAH', 'BHMSQ', 'KRFT', 'CDAY', 'PX', 'NE', 'CPRT', 'AMG', 'PTV', 'OMX', 'STR', 'ENDP', 'INCY', 'AN', 'FRO', 'RYC', 'JEC', 'BCO', 'DVA', 'TLAB', 'WHR', 'BNL', 'GAPTQ', 'GENZ', 'SPG', 'V', 'BAY', 'EQ', 'DYN', 'LUB', 'ARC', 'ABS', 'NCLH', 'ATGE', 'CI', 'SEE', 'CLF', 'MS', 'AMP', 'MEDI', 'MTW', 'BCR', 'ABBV', 'MAT', 'INGR', 'SMI', 'ROL', 'CPB', 'MKG', 'EOG', 'ECO', 'SAF', 'FB', 'MDP', 'YRCW', 'WLTW', 'CMCSK', 'ABI', 'WYND', 'RJF', 'BBBY', 'RRC', 'DVN', 'COP', 'GOOGL', 'MJN', 'X', 'SK', 'TMO', 'WMX', 'GR', 'PPG', 'OXY', 'TECH', 'EC', 'PBI', 'DPZ', 'MII', 'PGR', 'ATO', 'TAP', 'EBAY', 'KRB', 'HMA', 'GPS', 'CHD', 'TMK', 'KSE', 'OGN', 'F', 'HFC', 'BBI', 'WIN', 'PCP', 'REGN', 'RYAN', 'ATI', 'AFS.A', 'MAY', 'CINF', 'LLL', 'CNW', 'FLTWQ', 'UA', 'C', 'PARA', 'ADCT', 'CHK', 'MTCH', 'ANF', 'UPS', 'COF', 'GRA', 'SUB', 'BWA', 'DHI', 'CMA', 'RDC', 'HCP', 'NOC', 'NAVI', 'WOR', 'FSL', 'TSG', 'DISCA', 'AGC', 'VRSN', 'ES', 'MER', 'CCTYQ', 'HM', 'TEG', 'PCG', 'CNG', 'SFS', 'MERQ', 'EQR', 'VTRS', 'HAR', 'FG', 'PRGO', 'ANTM', 'CERN', 'WLP', 'FDC', 'GPN', 'RDS.A', 'BMC', 'KWP', 'MOLX', 'UDR', 'DISH', 'ARE', 'BMET', 'TGNA', 'BJS', 'NLOK', 'USH', 'LU', 'WTW', 'FTI', 'CAL', 'ACAS', 'LRCX', 'MSI', 'BXLT', 'GMCR', 'BHF', 'FTNT', 'OTIS', 'CIT.A', 'PET', 'WLL', 'TA', 'LXK', 'AMCC', 'EOP', 'INFO', 'WRB', 'CCEP', 'RATL', 'UVN', 'LHX', 'AEE', 'BK', 'LM', 'KR', 'IEX', 'ITT', 'RML', 'WAB', 'ASO', 'KMX', 'CAM', 'AL', 'FLMIQ', 'PNU', 'SYK', 'FTR', 'PDCO', 'CFN', 'MSCI', 'FSH', 'COTY', 'TOS', 'SLB', 'UNH', 'TRGP', 'TJX', 'CNC', 'GOOG', 'NKTR', 'MWW', 'TE', 'AMZN', 'MCD', 'GILD', 'GX', 'EW', 'TMC.A', 'ULTA', 'ESV', 'COV', 'ORCL', 'WELL', 'WFT', 'BFO', 'CFG', 'AEP', 'STO', 'CHA', 'NEM', 'EIX', 'SUNEQ', 'USBC', 'QEP', 'CFC', 'BHGE', 'TDG', 'BLS', 'TRB', 'OWENQ', 'KLAC', 'GIDL', 'LH', 'MMM', 'DLTR', 'ECL', 'SCI', 'MPC', 'USHC', 'VIAC', 'DTE', 'JNY', 'ZBH', 'CYR', 'NSI', 'FII', 'CTVA', 'AMH', 'BOAT', 'S', 'NFLX', 'EQIX', 'AIT', 'AVY', 'FDX', 'MIR', 'PVN', 'CPNLQ', 'PTC', 'YNR', 'DNB', 'XRAY', 'DWDP', 'CTXS', 'FOXA', 'SDS', 'XTO', 'CA', 'WAMUQ', 'MDR', 'PHA', 'EFU', 'QTRN', 'NDSN', 'PGN', 'TMUS', 'SNA', 'EXC', 'CRL', 'TNB', 'FLR', 'MCHP', 'GRMN', 'MDLZ', 'PWR', 'ORLY', 'CPRI', 'CYM', 'GPU', 'SAI', 'MKC', 'MZIAQ', 'FLIR', 'CVX', 'CSGP', 'ABMD', 'PXD', 'CSE', 'CARR', 'FLT', 'SMS', 'CNP', 'GSX', 'HI', 'CHRS', 'CFL', 'MNR', 'TSS', 'REG', 'HBAN', 'CBRE', 'AIZ', 'APOL', 'PDG', 'VO', 'KRI', 'PNW', 'AZA.A', 'EMN', 'ZION', 'GM', 'JBHT', 'HON', 'RE', 'FLS', 'OAT', 'NRG', 'BGG', 'VAT', 'MGM', 'UMG', 'XRX', 'BC', 'SCG', 'NVDA', 'TTWO', 'NWL', 'RNB', 'AYE', 'GEN', 'CVS', 'GP', 'DG', 'PG', 'MXIM', 'ANDV', 'EPAM', 'AAPL', 'VRSK', 'BKNG', 'MBI', 'RTN', 'DALRQ', 'ED', 'ROK', 'SEG', 'TWC', 'DLR', 'DRE', 'POM', 'LNT', 'GWW', 'A', 'EL', 'CF', 'CTL', 'MOB', 'JEF', 'GHC', 'MMI', 'JNS', 'RYI', 'PPL', 'HRL', 'KIM', 'PCS', 'AAMRQ', 'HRS', 'CBS', 'EP', 'TRV', 'BKB', 'GTE', 'HAS']\n"
     ]
    }
   ],
   "source": [
    "print(f\"All {len(all_stocks)} stocks : \", all_stocks)"
   ]
  },
  {
   "cell_type": "markdown",
   "metadata": {},
   "source": [
    "# 0. Connecting to the API"
   ]
  },
  {
   "cell_type": "code",
   "execution_count": 2,
   "metadata": {},
   "outputs": [],
   "source": [
    "def get_credentials(target_name):\n",
    "    creds = win32cred.CredRead(target_name, win32cred.CRED_TYPE_GENERIC)\n",
    "    credential_blob = creds[\"CredentialBlob\"]\n",
    "    password = credential_blob.decode('utf-16-le').strip()\n",
    "    return password\n",
    "\n",
    "creds = get_credentials(\"eodhd.com\")\n",
    "api_client = APIClient(creds)"
   ]
  },
  {
   "cell_type": "markdown",
   "metadata": {},
   "source": [
    "# 1. Get a list of exchanges available in this API"
   ]
  },
  {
   "cell_type": "code",
   "execution_count": 3,
   "metadata": {},
   "outputs": [
    {
     "data": {
      "text/html": [
       "<div>\n",
       "<style scoped>\n",
       "    .dataframe tbody tr th:only-of-type {\n",
       "        vertical-align: middle;\n",
       "    }\n",
       "\n",
       "    .dataframe tbody tr th {\n",
       "        vertical-align: top;\n",
       "    }\n",
       "\n",
       "    .dataframe thead th {\n",
       "        text-align: right;\n",
       "    }\n",
       "</style>\n",
       "<table border=\"1\" class=\"dataframe\">\n",
       "  <thead>\n",
       "    <tr style=\"text-align: right;\">\n",
       "      <th></th>\n",
       "      <th>Name</th>\n",
       "      <th>Code</th>\n",
       "      <th>OperatingMIC</th>\n",
       "      <th>Country</th>\n",
       "      <th>Currency</th>\n",
       "      <th>CountryISO2</th>\n",
       "      <th>CountryISO3</th>\n",
       "    </tr>\n",
       "  </thead>\n",
       "  <tbody>\n",
       "    <tr>\n",
       "      <th>0</th>\n",
       "      <td>USA Stocks</td>\n",
       "      <td>US</td>\n",
       "      <td>XNAS, XNYS, OTCM</td>\n",
       "      <td>USA</td>\n",
       "      <td>USD</td>\n",
       "      <td>US</td>\n",
       "      <td>USA</td>\n",
       "    </tr>\n",
       "    <tr>\n",
       "      <th>1</th>\n",
       "      <td>London Exchange</td>\n",
       "      <td>LSE</td>\n",
       "      <td>XLON</td>\n",
       "      <td>UK</td>\n",
       "      <td>GBP</td>\n",
       "      <td>GB</td>\n",
       "      <td>GBR</td>\n",
       "    </tr>\n",
       "    <tr>\n",
       "      <th>2</th>\n",
       "      <td>Toronto Exchange</td>\n",
       "      <td>TO</td>\n",
       "      <td>XTSE</td>\n",
       "      <td>Canada</td>\n",
       "      <td>CAD</td>\n",
       "      <td>CA</td>\n",
       "      <td>CAN</td>\n",
       "    </tr>\n",
       "    <tr>\n",
       "      <th>3</th>\n",
       "      <td>TSX Venture Exchange</td>\n",
       "      <td>V</td>\n",
       "      <td>XTSX</td>\n",
       "      <td>Canada</td>\n",
       "      <td>CAD</td>\n",
       "      <td>CA</td>\n",
       "      <td>CAN</td>\n",
       "    </tr>\n",
       "    <tr>\n",
       "      <th>4</th>\n",
       "      <td>NEO Exchange</td>\n",
       "      <td>NEO</td>\n",
       "      <td>NEOE</td>\n",
       "      <td>Canada</td>\n",
       "      <td>CAD</td>\n",
       "      <td>CA</td>\n",
       "      <td>CAN</td>\n",
       "    </tr>\n",
       "    <tr>\n",
       "      <th>...</th>\n",
       "      <td>...</td>\n",
       "      <td>...</td>\n",
       "      <td>...</td>\n",
       "      <td>...</td>\n",
       "      <td>...</td>\n",
       "      <td>...</td>\n",
       "      <td>...</td>\n",
       "    </tr>\n",
       "    <tr>\n",
       "      <th>73</th>\n",
       "      <td>Money Market Virtual Exchange</td>\n",
       "      <td>MONEY</td>\n",
       "      <td>None</td>\n",
       "      <td>Unknown</td>\n",
       "      <td>Unknown</td>\n",
       "      <td></td>\n",
       "      <td></td>\n",
       "    </tr>\n",
       "    <tr>\n",
       "      <th>74</th>\n",
       "      <td>Europe Fund Virtual Exchange</td>\n",
       "      <td>EUFUND</td>\n",
       "      <td>None</td>\n",
       "      <td>Unknown</td>\n",
       "      <td>EUR</td>\n",
       "      <td></td>\n",
       "      <td></td>\n",
       "    </tr>\n",
       "    <tr>\n",
       "      <th>75</th>\n",
       "      <td>Istanbul Stock Exchange</td>\n",
       "      <td>IS</td>\n",
       "      <td>XIST</td>\n",
       "      <td>Turkey</td>\n",
       "      <td>TRY</td>\n",
       "      <td>TR</td>\n",
       "      <td>TUR</td>\n",
       "    </tr>\n",
       "    <tr>\n",
       "      <th>76</th>\n",
       "      <td>FOREX</td>\n",
       "      <td>FOREX</td>\n",
       "      <td>CDSL</td>\n",
       "      <td>Unknown</td>\n",
       "      <td>Unknown</td>\n",
       "      <td></td>\n",
       "      <td></td>\n",
       "    </tr>\n",
       "    <tr>\n",
       "      <th>77</th>\n",
       "      <td>Cryptocurrencies</td>\n",
       "      <td>CC</td>\n",
       "      <td>CRYP</td>\n",
       "      <td>Unknown</td>\n",
       "      <td>USD</td>\n",
       "      <td></td>\n",
       "      <td></td>\n",
       "    </tr>\n",
       "  </tbody>\n",
       "</table>\n",
       "<p>78 rows × 7 columns</p>\n",
       "</div>"
      ],
      "text/plain": [
       "                             Name    Code      OperatingMIC  Country Currency  \\\n",
       "0                      USA Stocks      US  XNAS, XNYS, OTCM      USA      USD   \n",
       "1                 London Exchange     LSE              XLON       UK      GBP   \n",
       "2                Toronto Exchange      TO              XTSE   Canada      CAD   \n",
       "3            TSX Venture Exchange       V              XTSX   Canada      CAD   \n",
       "4                    NEO Exchange     NEO              NEOE   Canada      CAD   \n",
       "..                            ...     ...               ...      ...      ...   \n",
       "73  Money Market Virtual Exchange   MONEY              None  Unknown  Unknown   \n",
       "74   Europe Fund Virtual Exchange  EUFUND              None  Unknown      EUR   \n",
       "75        Istanbul Stock Exchange      IS              XIST   Turkey      TRY   \n",
       "76                          FOREX   FOREX              CDSL  Unknown  Unknown   \n",
       "77               Cryptocurrencies      CC              CRYP  Unknown      USD   \n",
       "\n",
       "   CountryISO2 CountryISO3  \n",
       "0           US         USA  \n",
       "1           GB         GBR  \n",
       "2           CA         CAN  \n",
       "3           CA         CAN  \n",
       "4           CA         CAN  \n",
       "..         ...         ...  \n",
       "73                          \n",
       "74                          \n",
       "75          TR         TUR  \n",
       "76                          \n",
       "77                          \n",
       "\n",
       "[78 rows x 7 columns]"
      ]
     },
     "execution_count": 3,
     "metadata": {},
     "output_type": "execute_result"
    }
   ],
   "source": [
    "df = api_client.get_exchanges()\n",
    "pd.set_option('display.max_columns', None)\n",
    "df"
   ]
  },
  {
   "cell_type": "markdown",
   "metadata": {},
   "source": [
    "# 2. Get historical price data of stocks\n",
    "\n",
    "Testing the API with NVDA (NVIDIA Corporation) stock as the prices look very unusual in this time frame."
   ]
  },
  {
   "cell_type": "code",
   "execution_count": 9,
   "metadata": {},
   "outputs": [
    {
     "data": {
      "text/html": [
       "<div>\n",
       "<style scoped>\n",
       "    .dataframe tbody tr th:only-of-type {\n",
       "        vertical-align: middle;\n",
       "    }\n",
       "\n",
       "    .dataframe tbody tr th {\n",
       "        vertical-align: top;\n",
       "    }\n",
       "\n",
       "    .dataframe thead th {\n",
       "        text-align: right;\n",
       "    }\n",
       "</style>\n",
       "<table border=\"1\" class=\"dataframe\">\n",
       "  <thead>\n",
       "    <tr style=\"text-align: right;\">\n",
       "      <th></th>\n",
       "      <th>date</th>\n",
       "      <th>open</th>\n",
       "      <th>high</th>\n",
       "      <th>low</th>\n",
       "      <th>close</th>\n",
       "      <th>adjusted_close</th>\n",
       "      <th>volume</th>\n",
       "    </tr>\n",
       "  </thead>\n",
       "  <tbody>\n",
       "    <tr>\n",
       "      <th>0</th>\n",
       "      <td>2024-06-06</td>\n",
       "      <td>1240.48000000</td>\n",
       "      <td>1255.87000000</td>\n",
       "      <td>1183.20000000</td>\n",
       "      <td>1209.98000000</td>\n",
       "      <td>120.97770000</td>\n",
       "      <td>664696163</td>\n",
       "    </tr>\n",
       "    <tr>\n",
       "      <th>1</th>\n",
       "      <td>2024-06-07</td>\n",
       "      <td>1197.70000000</td>\n",
       "      <td>1216.91700000</td>\n",
       "      <td>1180.22000000</td>\n",
       "      <td>1208.88000000</td>\n",
       "      <td>120.86770000</td>\n",
       "      <td>412385776</td>\n",
       "    </tr>\n",
       "    <tr>\n",
       "      <th>2</th>\n",
       "      <td>2024-06-10</td>\n",
       "      <td>120.37000000</td>\n",
       "      <td>123.10000000</td>\n",
       "      <td>117.01000000</td>\n",
       "      <td>121.79000000</td>\n",
       "      <td>121.76960000</td>\n",
       "      <td>314162688</td>\n",
       "    </tr>\n",
       "    <tr>\n",
       "      <th>3</th>\n",
       "      <td>2024-06-11</td>\n",
       "      <td>121.77000000</td>\n",
       "      <td>122.87000000</td>\n",
       "      <td>118.74000000</td>\n",
       "      <td>120.91000000</td>\n",
       "      <td>120.89970000</td>\n",
       "      <td>222551203</td>\n",
       "    </tr>\n",
       "    <tr>\n",
       "      <th>4</th>\n",
       "      <td>2024-06-12</td>\n",
       "      <td>123.06000000</td>\n",
       "      <td>126.88000000</td>\n",
       "      <td>122.57000000</td>\n",
       "      <td>125.20000000</td>\n",
       "      <td>125.18930000</td>\n",
       "      <td>299595000</td>\n",
       "    </tr>\n",
       "  </tbody>\n",
       "</table>\n",
       "</div>"
      ],
      "text/plain": [
       "         date          open          high           low         close  \\\n",
       "0  2024-06-06 1240.48000000 1255.87000000 1183.20000000 1209.98000000   \n",
       "1  2024-06-07 1197.70000000 1216.91700000 1180.22000000 1208.88000000   \n",
       "2  2024-06-10  120.37000000  123.10000000  117.01000000  121.79000000   \n",
       "3  2024-06-11  121.77000000  122.87000000  118.74000000  120.91000000   \n",
       "4  2024-06-12  123.06000000  126.88000000  122.57000000  125.20000000   \n",
       "\n",
       "   adjusted_close     volume  \n",
       "0    120.97770000  664696163  \n",
       "1    120.86770000  412385776  \n",
       "2    121.76960000  314162688  \n",
       "3    120.89970000  222551203  \n",
       "4    125.18930000  299595000  "
      ]
     },
     "execution_count": 9,
     "metadata": {},
     "output_type": "execute_result"
    }
   ],
   "source": [
    "resp = api_client.get_eod_historical_stock_market_data(symbol = 'NVDA', period='d', from_date = '2024-06-06', to_date = '2024-06-12', order='a')\n",
    "df = pd.DataFrame(resp)\n",
    "df"
   ]
  },
  {
   "cell_type": "markdown",
   "metadata": {},
   "source": [
    "# 3. Get Financial Statements of a ticker"
   ]
  },
  {
   "cell_type": "code",
   "execution_count": 7,
   "metadata": {},
   "outputs": [
    {
     "data": {
      "text/plain": [
       "dict_keys(['General', 'Highlights', 'Valuation', 'SharesStats', 'Technicals', 'SplitsDividends', 'AnalystRatings', 'Holders', 'InsiderTransactions', 'ESGScores', 'outstandingShares', 'Earnings', 'Financials'])"
      ]
     },
     "execution_count": 7,
     "metadata": {},
     "output_type": "execute_result"
    }
   ],
   "source": [
    "resp = api_client.get_fundamentals_data(ticker = \"NVDA\")\n",
    "resp.keys()"
   ]
  },
  {
   "cell_type": "code",
   "execution_count": 8,
   "metadata": {},
   "outputs": [
    {
     "data": {
      "text/plain": [
       "{'Code': 'NVDA',\n",
       " 'Type': 'Common Stock',\n",
       " 'Name': 'NVIDIA Corporation',\n",
       " 'Exchange': 'NASDAQ',\n",
       " 'CurrencyCode': 'USD',\n",
       " 'CurrencyName': 'US Dollar',\n",
       " 'CurrencySymbol': '$',\n",
       " 'CountryName': 'USA',\n",
       " 'CountryISO': 'US',\n",
       " 'OpenFigi': 'BBG000BBJQV0',\n",
       " 'ISIN': 'US67066G1040',\n",
       " 'LEI': '549300S4KLFTLO7GSQ80',\n",
       " 'PrimaryTicker': 'NVDA.US',\n",
       " 'CUSIP': '67066G104',\n",
       " 'CIK': '1045810',\n",
       " 'EmployerIdNumber': '94-3177549',\n",
       " 'FiscalYearEnd': 'January',\n",
       " 'IPODate': '1999-01-22',\n",
       " 'InternationalDomestic': 'Domestic',\n",
       " 'Sector': 'Technology',\n",
       " 'Industry': 'Semiconductors',\n",
       " 'GicSector': 'Information Technology',\n",
       " 'GicGroup': 'Semiconductors & Semiconductor Equipment',\n",
       " 'GicIndustry': 'Semiconductors & Semiconductor Equipment',\n",
       " 'GicSubIndustry': 'Semiconductors',\n",
       " 'HomeCategory': 'Domestic',\n",
       " 'IsDelisted': False,\n",
       " 'Description': \"NVIDIA Corporation provides graphics and compute and networking solutions in the United States, Taiwan, China, Hong Kong, and internationally. The Graphics segment offers GeForce GPUs for gaming and PCs, the GeForce NOW game streaming service and related infrastructure, and solutions for gaming platforms; Quadro/NVIDIA RTX GPUs for enterprise workstation graphics; virtual GPU or vGPU software for cloud-based visual and virtual computing; automotive platforms for infotainment systems; and Omniverse software for building and operating metaverse and 3D internet applications. The Compute & Networking segment comprises Data Center computing platforms and end-to-end networking platforms, including Quantum for InfiniBand and Spectrum for Ethernet; NVIDIA DRIVE automated-driving platform and automotive development agreements; Jetson robotics and other embedded platforms; NVIDIA AI Enterprise and other software; and DGX Cloud software and services. The company's products are used in gaming, professional visualization, data center, and automotive markets. It sells its products to original equipment manufacturers, original device manufacturers, system integrators and distributors, independent software vendors, cloud service providers, consumer internet companies, add-in board manufacturers, distributors, automotive manufacturers and tier-1 automotive suppliers, and other ecosystem participants. NVIDIA Corporation was incorporated in 1993 and is headquartered in Santa Clara, California.\",\n",
       " 'Address': '2788 San Tomas Expressway, Santa Clara, CA, United States, 95051',\n",
       " 'AddressData': {'Street': '2788 San Tomas Expressway',\n",
       "  'City': 'Santa Clara',\n",
       "  'State': 'CA',\n",
       "  'Country': 'United States',\n",
       "  'ZIP': '95051'},\n",
       " 'Listings': {'0': {'Code': 'NVDC34',\n",
       "   'Exchange': 'SA',\n",
       "   'Name': 'NVIDIA Corporation'}},\n",
       " 'Officers': {'0': {'Name': 'Mr. Jen-Hsun  Huang',\n",
       "   'Title': 'Co-Founder, CEO, President & Director',\n",
       "   'YearBorn': '1963'},\n",
       "  '1': {'Name': 'Ms. Colette M. Kress',\n",
       "   'Title': 'Executive VP & CFO',\n",
       "   'YearBorn': '1967'},\n",
       "  '2': {'Name': 'Ms. Debora  Shoquist',\n",
       "   'Title': 'Executive Vice President of Operations',\n",
       "   'YearBorn': '1955'},\n",
       "  '3': {'Name': 'Mr. Timothy S. Teter',\n",
       "   'Title': 'Executive VP, General Counsel & Secretary',\n",
       "   'YearBorn': '1967'},\n",
       "  '4': {'Name': 'Mr. Ajay K. Puri',\n",
       "   'Title': 'Executive Vice President of Worldwide Field Operations',\n",
       "   'YearBorn': '1955'},\n",
       "  '5': {'Name': 'Mr. Chris A. Malachowsky',\n",
       "   'Title': 'Co-Founder',\n",
       "   'YearBorn': 'NA'},\n",
       "  '6': {'Name': 'Mr. Donald F. Robertson Jr.',\n",
       "   'Title': 'VP & Chief Accounting Officer',\n",
       "   'YearBorn': '1969'},\n",
       "  '7': {'Name': 'Prof. William J. Dally Ph.D.',\n",
       "   'Title': 'Chief Scientist & Senior VP of Research',\n",
       "   'YearBorn': '1961'},\n",
       "  '8': {'Name': 'Ms. Mylene  Mangalindan',\n",
       "   'Title': 'VP of Corporate Communications',\n",
       "   'YearBorn': 'NA'},\n",
       "  '9': {'Name': 'Mr. Tommy  Lee',\n",
       "   'Title': 'Senior Vice President of Systems Engineering & Application',\n",
       "   'YearBorn': 'NA'}},\n",
       " 'Phone': '408 486 2000',\n",
       " 'WebURL': 'https://www.nvidia.com',\n",
       " 'LogoURL': '/img/logos/US/NVDA.png',\n",
       " 'FullTimeEmployees': 29600,\n",
       " 'UpdatedAt': '2024-10-07'}"
      ]
     },
     "execution_count": 8,
     "metadata": {},
     "output_type": "execute_result"
    }
   ],
   "source": [
    "resp[\"General\"]"
   ]
  },
  {
   "cell_type": "code",
   "execution_count": 9,
   "metadata": {},
   "outputs": [
    {
     "data": {
      "text/plain": [
       "dict_keys(['Balance_Sheet', 'Cash_Flow', 'Income_Statement'])"
      ]
     },
     "execution_count": 9,
     "metadata": {},
     "output_type": "execute_result"
    }
   ],
   "source": [
    "resp[\"Financials\"].keys()"
   ]
  },
  {
   "cell_type": "code",
   "execution_count": 10,
   "metadata": {},
   "outputs": [
    {
     "data": {
      "text/plain": [
       "dict_keys(['2024-07-31', '2024-04-30', '2024-01-31', '2023-10-31', '2023-07-31', '2023-04-30', '2023-01-31', '2022-10-31', '2022-07-31', '2022-04-30', '2022-01-31', '2021-10-31', '2021-07-31', '2021-04-30', '2021-01-31', '2020-10-31', '2020-07-31', '2020-04-30', '2020-01-31', '2019-10-31', '2019-07-31', '2019-04-30', '2019-01-31', '2018-10-31', '2018-07-31', '2018-04-30', '2018-01-31', '2017-10-31', '2017-07-31', '2017-04-30', '2017-01-31', '2016-10-31', '2016-07-31', '2016-04-30', '2016-01-31', '2015-10-31', '2015-07-31', '2015-04-30', '2015-01-31', '2014-10-31', '2014-07-31', '2014-04-30', '2014-01-31', '2013-10-31', '2013-07-31', '2013-04-30', '2013-01-31', '2012-10-31', '2012-07-31', '2012-04-30', '2012-01-31', '2011-10-31', '2011-07-31', '2011-04-30', '2011-01-31', '2010-10-31', '2010-07-31', '2010-04-30', '2010-01-31', '2009-10-31', '2009-07-31', '2009-04-30', '2009-01-31', '2008-10-31', '2008-07-31', '2008-04-30', '2008-01-31', '2007-10-31', '2007-07-31', '2007-04-30', '2007-01-31', '2006-10-31', '2006-07-31', '2006-04-30', '2006-01-31', '2005-10-31', '2005-07-31', '2005-04-30', '2005-01-31', '2004-10-31', '2004-07-31', '2004-04-30', '2004-01-31', '2003-10-31', '2003-07-31', '2003-04-30', '2003-01-31', '2002-10-31', '2002-07-31', '2002-04-30', '2002-01-31', '2001-10-31', '2001-07-31', '2001-04-30', '2001-01-31', '2000-10-31', '2000-07-31', '2000-04-30', '2000-01-31', '1999-10-31', '1999-07-31', '1999-04-30'])"
      ]
     },
     "execution_count": 10,
     "metadata": {},
     "output_type": "execute_result"
    }
   ],
   "source": [
    "resp[\"Financials\"][\"Balance_Sheet\"][\"quarterly\"].keys()"
   ]
  },
  {
   "cell_type": "code",
   "execution_count": 11,
   "metadata": {},
   "outputs": [
    {
     "data": {
      "text/plain": [
       "{'date': '2024-07-31',\n",
       " 'filing_date': '2024-08-28',\n",
       " 'currency_symbol': 'USD',\n",
       " 'totalAssets': '85227000000.00',\n",
       " 'intangibleAssets': '952000000.00',\n",
       " 'earningAssets': None,\n",
       " 'otherCurrentAssets': '4026000000.00',\n",
       " 'totalLiab': '27070000000.00',\n",
       " 'totalStockholderEquity': '58157000000.00',\n",
       " 'deferredLongTermLiab': None,\n",
       " 'otherCurrentLiab': '9091000000.00',\n",
       " 'commonStock': '25000000.00',\n",
       " 'capitalStock': '25000000.00',\n",
       " 'retainedEarnings': '45961000000.00',\n",
       " 'otherLiab': None,\n",
       " 'goodWill': '4622000000.00',\n",
       " 'otherAssets': None,\n",
       " 'cash': '8563000000.00',\n",
       " 'cashAndEquivalents': None,\n",
       " 'totalCurrentLiabilities': '13969000000.00',\n",
       " 'currentDeferredRevenue': '948000000.00',\n",
       " 'netDebt': '1452000000.00',\n",
       " 'shortTermDebt': '250000000.00',\n",
       " 'shortLongTermDebt': None,\n",
       " 'shortLongTermDebtTotal': '10015000000.00',\n",
       " 'otherStockholderEquity': '12115000000.00',\n",
       " 'propertyPlantEquipment': None,\n",
       " 'totalCurrentAssets': '59633000000.00',\n",
       " 'longTermInvestments': '1819000000.00',\n",
       " 'netTangibleAssets': None,\n",
       " 'shortTermInvestments': '26237000000.00',\n",
       " 'netReceivables': '14132000000.00',\n",
       " 'longTermDebt': '8461000000.00',\n",
       " 'inventory': '6675000000.00',\n",
       " 'accountsPayable': '3680000000.00',\n",
       " 'totalPermanentEquity': None,\n",
       " 'noncontrollingInterestInConsolidatedEntity': None,\n",
       " 'temporaryEquityRedeemableNoncontrollingInterests': None,\n",
       " 'accumulatedOtherComprehensiveIncome': '56000000.00',\n",
       " 'additionalPaidInCapital': None,\n",
       " 'commonStockTotalEquity': None,\n",
       " 'preferredStockTotalEquity': None,\n",
       " 'retainedEarningsTotalEquity': None,\n",
       " 'treasuryStock': None,\n",
       " 'accumulatedAmortization': None,\n",
       " 'nonCurrrentAssetsOther': '2182000000.00',\n",
       " 'deferredLongTermAssetCharges': None,\n",
       " 'nonCurrentAssetsTotal': '25594000000.00',\n",
       " 'capitalLeaseObligations': '1554000000.00',\n",
       " 'longTermDebtTotal': None,\n",
       " 'nonCurrentLiabilitiesOther': '196000000.00',\n",
       " 'nonCurrentLiabilitiesTotal': '13101000000.00',\n",
       " 'negativeGoodwill': None,\n",
       " 'warrants': None,\n",
       " 'preferredStockRedeemable': None,\n",
       " 'capitalSurpluse': None,\n",
       " 'liabilitiesAndStockholdersEquity': '85227000000.00',\n",
       " 'cashAndShortTermInvestments': '34800000000.00',\n",
       " 'propertyPlantAndEquipmentGross': '6441000000.00',\n",
       " 'propertyPlantAndEquipmentNet': '6441000000.00',\n",
       " 'accumulatedDepreciation': None,\n",
       " 'netWorkingCapital': '45664000000.00',\n",
       " 'netInvestedCapital': '66618000000.00',\n",
       " 'commonStockSharesOutstanding': '24848000000.00'}"
      ]
     },
     "execution_count": 11,
     "metadata": {},
     "output_type": "execute_result"
    }
   ],
   "source": [
    "resp[\"Financials\"][\"Balance_Sheet\"][\"quarterly\"][\"2024-07-31\"]"
   ]
  },
  {
   "cell_type": "code",
   "execution_count": 12,
   "metadata": {},
   "outputs": [
    {
     "data": {
      "text/plain": [
       "{'date': '2024-07-31',\n",
       " 'filing_date': '2024-08-28',\n",
       " 'currency_symbol': 'USD',\n",
       " 'investments': '-3184000000.00',\n",
       " 'changeToLiabilities': None,\n",
       " 'totalCashflowsFromInvestingActivities': None,\n",
       " 'netBorrowings': None,\n",
       " 'totalCashFromFinancingActivities': '-10320000000.00',\n",
       " 'changeToOperatingActivities': None,\n",
       " 'netIncome': '16599000000.00',\n",
       " 'changeInCash': '984000000.00',\n",
       " 'beginPeriodCashFlow': '7587000000.00',\n",
       " 'endPeriodCashFlow': '8571000000.00',\n",
       " 'totalCashFromOperatingActivities': '14488000000.00',\n",
       " 'issuanceOfCapitalStock': None,\n",
       " 'depreciation': '433000000.00',\n",
       " 'otherCashflowsFromInvestingActivities': None,\n",
       " 'dividendsPaid': '246000000.00',\n",
       " 'changeToInventory': '-803000000.00',\n",
       " 'changeToAccountReceivables': '-1767000000.00',\n",
       " 'salePurchaseOfStock': '-7158000000.00',\n",
       " 'otherCashflowsFromFinancingActivities': '-1666000000.00',\n",
       " 'changeToNetincome': None,\n",
       " 'capitalExpenditures': '977000000',\n",
       " 'changeReceivables': None,\n",
       " 'cashFlowsOtherOperating': None,\n",
       " 'exchangeRateChanges': None,\n",
       " 'cashAndCashEquivalentsChanges': None,\n",
       " 'changeInWorkingCapital': '-1660000000.00',\n",
       " 'stockBasedCompensation': '1153000000.00',\n",
       " 'otherNonCashItems': '-338000000.00',\n",
       " 'freeCashFlow': '13511000000.00'}"
      ]
     },
     "execution_count": 12,
     "metadata": {},
     "output_type": "execute_result"
    }
   ],
   "source": [
    "resp[\"Financials\"][\"Cash_Flow\"][\"quarterly\"][\"2024-07-31\"]"
   ]
  },
  {
   "cell_type": "code",
   "execution_count": 13,
   "metadata": {},
   "outputs": [
    {
     "data": {
      "text/plain": [
       "{'date': '2024-07-31',\n",
       " 'filing_date': '2024-08-28',\n",
       " 'currency_symbol': 'USD',\n",
       " 'researchDevelopment': '3090000000.00',\n",
       " 'effectOfAccountingCharges': None,\n",
       " 'incomeBeforeTax': '19214000000.00',\n",
       " 'minorityInterest': None,\n",
       " 'netIncome': '16599000000.00',\n",
       " 'sellingGeneralAdministrative': '842000000.00',\n",
       " 'sellingAndMarketingExpenses': None,\n",
       " 'grossProfit': '22574000000.00',\n",
       " 'reconciledDepreciation': '433000000.00',\n",
       " 'ebit': '19275000000.00',\n",
       " 'ebitda': '19708000000.00',\n",
       " 'depreciationAndAmortization': '433000000.00',\n",
       " 'nonOperatingIncomeNetOther': None,\n",
       " 'operatingIncome': '18642000000.00',\n",
       " 'otherOperatingExpenses': '11398000000.00',\n",
       " 'interestExpense': '61000000.00',\n",
       " 'taxProvision': '2615000000.00',\n",
       " 'interestIncome': '444000000.00',\n",
       " 'netInterestIncome': '383000000.00',\n",
       " 'extraordinaryItems': None,\n",
       " 'nonRecurring': None,\n",
       " 'otherItems': None,\n",
       " 'incomeTaxExpense': '2615000000.00',\n",
       " 'totalRevenue': '30040000000.00',\n",
       " 'totalOperatingExpenses': '3932000000.00',\n",
       " 'costOfRevenue': '7466000000.00',\n",
       " 'totalOtherIncomeExpenseNet': '572000000.00',\n",
       " 'discontinuedOperations': None,\n",
       " 'netIncomeFromContinuingOps': '16599000000.00',\n",
       " 'netIncomeApplicableToCommonShares': None,\n",
       " 'preferredStockAndOtherAdjustments': None}"
      ]
     },
     "execution_count": 13,
     "metadata": {},
     "output_type": "execute_result"
    }
   ],
   "source": [
    "resp[\"Financials\"][\"Income_Statement\"][\"quarterly\"][\"2024-07-31\"]"
   ]
  },
  {
   "cell_type": "code",
   "execution_count": 14,
   "metadata": {},
   "outputs": [
    {
     "data": {
      "text/plain": [
       "dict_keys(['History', 'Trend', 'Annual'])"
      ]
     },
     "execution_count": 14,
     "metadata": {},
     "output_type": "execute_result"
    }
   ],
   "source": [
    "resp[\"Earnings\"].keys()"
   ]
  },
  {
   "cell_type": "code",
   "execution_count": 15,
   "metadata": {},
   "outputs": [
    {
     "data": {
      "text/plain": [
       "{'reportDate': '2023-08-23',\n",
       " 'date': '2023-07-31',\n",
       " 'beforeAfterMarket': 'AfterMarket',\n",
       " 'currency': 'USD',\n",
       " 'epsActual': 0.27,\n",
       " 'epsEstimate': 0.207,\n",
       " 'epsDifference': 0.063,\n",
       " 'surprisePercent': 30.4348}"
      ]
     },
     "execution_count": 15,
     "metadata": {},
     "output_type": "execute_result"
    }
   ],
   "source": [
    "resp[\"Earnings\"][\"History\"][\"2023-07-31\"]"
   ]
  },
  {
   "cell_type": "code",
   "execution_count": 16,
   "metadata": {},
   "outputs": [
    {
     "data": {
      "text/plain": [
       "{'date': '2024-07-31',\n",
       " 'period': '0q',\n",
       " 'growth': '1.5600',\n",
       " 'earningsEstimateAvg': '0.6400',\n",
       " 'earningsEstimateLow': '0.6000',\n",
       " 'earningsEstimateHigh': '0.7100',\n",
       " 'earningsEstimateYearAgoEps': '0.2500',\n",
       " 'earningsEstimateNumberOfAnalysts': '39.0000',\n",
       " 'earningsEstimateGrowth': '1.5600',\n",
       " 'revenueEstimateAvg': '25675700000.00',\n",
       " 'revenueEstimateLow': '23992800000.00',\n",
       " 'revenueEstimateHigh': '27245700000.00',\n",
       " 'revenueEstimateYearAgoEps': None,\n",
       " 'revenueEstimateNumberOfAnalysts': '40.00',\n",
       " 'revenueEstimateGrowth': None,\n",
       " 'epsTrendCurrent': '0.6400',\n",
       " 'epsTrend7daysAgo': '0.5700',\n",
       " 'epsTrend30daysAgo': '0.6300',\n",
       " 'epsTrend60daysAgo': '0.6300',\n",
       " 'epsTrend90daysAgo': '5.8600',\n",
       " 'epsRevisionsUpLast7days': '3.0000',\n",
       " 'epsRevisionsUpLast30days': '8.0000',\n",
       " 'epsRevisionsDownLast7days': None,\n",
       " 'epsRevisionsDownLast30days': '0.0000'}"
      ]
     },
     "execution_count": 16,
     "metadata": {},
     "output_type": "execute_result"
    }
   ],
   "source": [
    "resp[\"Earnings\"][\"Trend\"][\"2024-07-31\"]"
   ]
  },
  {
   "cell_type": "code",
   "execution_count": 17,
   "metadata": {},
   "outputs": [
    {
     "data": {
      "text/plain": [
       "{'date': '2024-07-31', 'epsActual': 1.292}"
      ]
     },
     "execution_count": 17,
     "metadata": {},
     "output_type": "execute_result"
    }
   ],
   "source": [
    "resp[\"Earnings\"][\"Annual\"][\"2024-07-31\"]"
   ]
  },
  {
   "cell_type": "code",
   "execution_count": 18,
   "metadata": {},
   "outputs": [
    {
     "data": {
      "text/plain": [
       "dict_keys(['General', 'Highlights', 'Valuation', 'SharesStats', 'Technicals', 'SplitsDividends', 'AnalystRatings', 'Holders', 'InsiderTransactions', 'ESGScores', 'outstandingShares', 'Earnings', 'Financials'])"
      ]
     },
     "execution_count": 18,
     "metadata": {},
     "output_type": "execute_result"
    }
   ],
   "source": [
    "resp.keys()"
   ]
  },
  {
   "cell_type": "code",
   "execution_count": 19,
   "metadata": {},
   "outputs": [
    {
     "data": {
      "text/plain": [
       "{'MarketCapitalization': 3064287461376,\n",
       " 'MarketCapitalizationMln': 3064287.4614,\n",
       " 'EBITDA': 61184000000,\n",
       " 'PERatio': 58.3738,\n",
       " 'PEGRatio': 0.9932,\n",
       " 'WallStreetTargetPrice': 148.13,\n",
       " 'BookValue': 2.368,\n",
       " 'DividendShare': 0.022,\n",
       " 'DividendYield': 0.0003,\n",
       " 'EarningsShare': 2.14,\n",
       " 'EPSEstimateCurrentYear': 12.41,\n",
       " 'EPSEstimateNextYear': 22.1,\n",
       " 'EPSEstimateNextQuarter': 0,\n",
       " 'EPSEstimateCurrentQuarter': 0.64,\n",
       " 'MostRecentQuarter': '2024-07-31',\n",
       " 'ProfitMargin': 0.5504,\n",
       " 'OperatingMarginTTM': 0.6206,\n",
       " 'ReturnOnAssetsTTM': 0.5526,\n",
       " 'ReturnOnEquityTTM': 1.2377,\n",
       " 'RevenueTTM': 96307003392,\n",
       " 'RevenuePerShareTTM': 3.91,\n",
       " 'QuarterlyRevenueGrowthYOY': 1.224,\n",
       " 'GrossProfitTTM': 44301000000,\n",
       " 'DilutedEpsTTM': 2.14,\n",
       " 'QuarterlyEarningsGrowthYOY': 1.68}"
      ]
     },
     "execution_count": 19,
     "metadata": {},
     "output_type": "execute_result"
    }
   ],
   "source": [
    "resp[\"Highlights\"]"
   ]
  },
  {
   "cell_type": "code",
   "execution_count": 20,
   "metadata": {},
   "outputs": [
    {
     "data": {
      "text/plain": [
       "{'Beta': 1.669,\n",
       " '52WeekHigh': 140.7479,\n",
       " '52WeekLow': 39.2182,\n",
       " '50DayMA': 116.136,\n",
       " '200DayMA': 96.1379,\n",
       " 'SharesShort': 275330404,\n",
       " 'SharesShortPriorMonth': 260873913,\n",
       " 'ShortRatio': 0.8,\n",
       " 'ShortPercent': 0.0117}"
      ]
     },
     "execution_count": 20,
     "metadata": {},
     "output_type": "execute_result"
    }
   ],
   "source": [
    "resp[\"Technicals\"]"
   ]
  },
  {
   "cell_type": "code",
   "execution_count": 21,
   "metadata": {},
   "outputs": [
    {
     "data": {
      "text/plain": [
       "{'TrailingPE': 58.3738,\n",
       " 'ForwardPE': 32.8947,\n",
       " 'PriceSalesTTM': 31.8179,\n",
       " 'PriceBookMRQ': 52.6899,\n",
       " 'EnterpriseValue': 3039502600000,\n",
       " 'EnterpriseValueRevenue': 31.5606,\n",
       " 'EnterpriseValueEbitda': 48.266}"
      ]
     },
     "execution_count": 21,
     "metadata": {},
     "output_type": "execute_result"
    }
   ],
   "source": [
    "resp[\"Valuation\"]"
   ]
  },
  {
   "cell_type": "markdown",
   "metadata": {},
   "source": [
    "# Get Macro Economic Data"
   ]
  },
  {
   "cell_type": "code",
   "execution_count": 22,
   "metadata": {},
   "outputs": [
    {
     "ename": "NameError",
     "evalue": "name 'api' is not defined",
     "output_type": "error",
     "traceback": [
      "\u001b[1;31m---------------------------------------------------------------------------\u001b[0m",
      "\u001b[1;31mNameError\u001b[0m                                 Traceback (most recent call last)",
      "Cell \u001b[1;32mIn[22], line 1\u001b[0m\n\u001b[1;32m----> 1\u001b[0m indicator_extended \u001b[38;5;241m=\u001b[39m \u001b[43mapi\u001b[49m\u001b[38;5;241m.\u001b[39mget_macro_indicators_data (country \u001b[38;5;241m=\u001b[39m \u001b[38;5;124m\"\u001b[39m\u001b[38;5;124mUSA\u001b[39m\u001b[38;5;124m\"\u001b[39m)\n\u001b[0;32m      2\u001b[0m indicator_m \u001b[38;5;241m=\u001b[39m pd\u001b[38;5;241m.\u001b[39mDataFrame(indicator_extended) \n\u001b[0;32m      3\u001b[0m \u001b[38;5;28mprint\u001b[39m(indicator_m)\n",
      "\u001b[1;31mNameError\u001b[0m: name 'api' is not defined"
     ]
    },
    {
     "ename": "",
     "evalue": "",
     "output_type": "error",
     "traceback": [
      "\u001b[1;31mThe Kernel crashed while executing code in the current cell or a previous cell. \n",
      "\u001b[1;31mPlease review the code in the cell(s) to identify a possible cause of the failure. \n",
      "\u001b[1;31mClick <a href='https://aka.ms/vscodeJupyterKernelCrash'>here</a> for more info. \n",
      "\u001b[1;31mView Jupyter <a href='command:jupyter.viewOutput'>log</a> for further details."
     ]
    }
   ],
   "source": [
    "indicator_extended = api.get_macro_indicators_data (country = \"USA\")\n",
    "indicator_m = pd.DataFrame(indicator_extended) \n",
    "print(indicator_m)"
   ]
  },
  {
   "cell_type": "code",
   "execution_count": null,
   "metadata": {},
   "outputs": [
    {
     "name": "stdout",
     "output_type": "stream",
     "text": [
      "                         date  \\\n",
      "0   2021-03-31T21:00:00+00:00   \n",
      "1   2021-03-31T20:10:00+00:00   \n",
      "2   2021-03-31T20:10:00+00:00   \n",
      "3   2021-03-31T19:05:00+00:00   \n",
      "4   2021-03-31T19:05:00+00:00   \n",
      "..                        ...   \n",
      "95  2021-03-24T12:00:00+00:00   \n",
      "96  2021-03-24T04:00:30+00:00   \n",
      "97  2021-03-23T21:00:00+00:00   \n",
      "98  2021-03-23T20:05:00+00:00   \n",
      "99  2021-03-23T20:05:00+00:00   \n",
      "\n",
      "                                                title  \\\n",
      "0   Brown &amp; Brown, Inc. Announces 2021 First-Q...   \n",
      "1   Verint, Cognyte's Former Parent, Announces Fou...   \n",
      "2   Verint, Cognyte's Former Parent, Announces Fou...   \n",
      "3   Net Element Reports Full Year 2020 Financial R...   \n",
      "4   Net Element Reports Full Year 2020 Financial R...   \n",
      "..                                                ...   \n",
      "95  AYRO to Report Year-End 2020 Financial Results...   \n",
      "96    GameStop (GME) Q4 2020 Earnings Call Transcript   \n",
      "97                            Labcorp Business Update   \n",
      "98  Golden Nugget Online Gaming, Inc. Reports Fina...   \n",
      "99  Golden Nugget Online Gaming, Inc. Reports Fina...   \n",
      "\n",
      "                                              content  \\\n",
      "0   DAYTONA BEACH, Fla., March 31, 2021 (GLOBE NEW...   \n",
      "1   Verint's Results Include Certain Results relat...   \n",
      "2   Verint's Results Include Certain Results relat...   \n",
      "3   MIAMI, March  31, 2021  (GLOBE NEWSWIRE) -- vi...   \n",
      "4   MIAMI, March  31, 2021  (GLOBE NEWSWIRE) -- vi...   \n",
      "..                                                ...   \n",
      "95  Conference Call to be held Wednesday, March 31...   \n",
      "96  It is now my pleasure to introduce your host, ...   \n",
      "97  Labcorp (NYSE: LH), a leading life sciences co...   \n",
      "98  HOUSTON, March 23, 2021 /PRNewswire/ -- Golden...   \n",
      "99  HOUSTON, March 23, 2021 /PRNewswire/ -- Golden...   \n",
      "\n",
      "                                                 link             symbols  \\\n",
      "0   https://finance.yahoo.com/news/brown-brown-inc...            [BRO.US]   \n",
      "1   https://finance.yahoo.com/news/verint-cognytes...  [CGNT.US, VRNT.US]   \n",
      "2   https://finance.yahoo.com/news/verint-cognytes...  [CGNT.US, VRNT.US]   \n",
      "3   http://www.globenewswire.com/news-release/2021...           [NETE.US]   \n",
      "4   https://www.globenewswire.com/news-release/202...           [NETE.US]   \n",
      "..                                                ...                 ...   \n",
      "95  https://www.globenewswire.com/news-release/202...           [AYRO.US]   \n",
      "96  https://finance.yahoo.com/m/14a3a4e5-0572-3bc0...    [GME.US, GS2C.F]   \n",
      "97  https://finance.yahoo.com/news/labcorp-busines...             [LH.US]   \n",
      "98  https://finance.yahoo.com/news/golden-nugget-o...           [GNOG.US]   \n",
      "99  https://finance.yahoo.com/news/golden-nugget-o...           [GNOG.US]   \n",
      "\n",
      "                                                 tags  \\\n",
      "0   [BROWN & BROWN, FINANCIAL RESULTS, J. POWELL B...   \n",
      "1   [ACTIONABLE INTELLIGENCE, CYBER INTELLIGENCE, ...   \n",
      "2   [ACTIONABLE INTELLIGENCE, CYBER INTELLIGENCE, ...   \n",
      "3   [EARNINGS RELEASES AND OPERATING RESULTS, ELEC...   \n",
      "4   [ELECTRIC VEHICLES, EV MARKET, FINANCIAL RESUL...   \n",
      "..                                                ...   \n",
      "95  [AYRO, CONFERENCE CALL, CORPORATE UPDATE, ELEC...   \n",
      "96  [CHIEF EXECUTIVE OFFICER, ERIC CERNY, FINANCIA...   \n",
      "97  [FINANCIAL RESULTS, FORWARD-LOOKING STATEMENTS...   \n",
      "98  [ACQUISITION TRANSACTION, EXTINGUISHMENT, FINA...   \n",
      "99  [ACQUISITION TRANSACTION, EXTINGUISHMENT, FINA...   \n",
      "\n",
      "                                            sentiment  \n",
      "0   {'polarity': 0.784, 'neg': 0.01, 'neu': 0.959,...  \n",
      "1   {'polarity': 0.994, 'neg': 0.023, 'neu': 0.846...  \n",
      "2   {'polarity': 0.994, 'neg': 0.023, 'neu': 0.846...  \n",
      "3   {'polarity': 0.996, 'neg': 0.034, 'neu': 0.897...  \n",
      "4   {'polarity': 0.996, 'neg': 0.034, 'neu': 0.897...  \n",
      "..                                                ...  \n",
      "95  {'polarity': 0.965, 'neg': 0, 'neu': 0.932, 'p...  \n",
      "96  {'polarity': 0.691, 'neg': 0.075, 'neu': 0.771...  \n",
      "97  {'polarity': 0.973, 'neg': 0.053, 'neu': 0.844...  \n",
      "98  {'polarity': 0.997, 'neg': 0.039, 'neu': 0.883...  \n",
      "99  {'polarity': 0.997, 'neg': 0.039, 'neu': 0.883...  \n",
      "\n",
      "[100 rows x 7 columns]\n"
     ]
    }
   ],
   "source": [
    "news_extended = api.financial_news (from_date = \"2020-12-10\", to_date = \"2021-04-10\", t = \"financial results\", offset = \"200\", limit = \"100\")\n",
    "fn_m = pd.DataFrame(news_extended) \n",
    "print(fn_m)"
   ]
  },
  {
   "cell_type": "code",
   "execution_count": null,
   "metadata": {},
   "outputs": [],
   "source": []
  },
  {
   "cell_type": "code",
   "execution_count": null,
   "metadata": {},
   "outputs": [],
   "source": []
  }
 ],
 "metadata": {
  "kernelspec": {
   "display_name": "Python 3",
   "language": "python",
   "name": "python3"
  },
  "language_info": {
   "codemirror_mode": {
    "name": "ipython",
    "version": 3
   },
   "file_extension": ".py",
   "mimetype": "text/x-python",
   "name": "python",
   "nbconvert_exporter": "python",
   "pygments_lexer": "ipython3",
   "version": "3.9.13"
  }
 },
 "nbformat": 4,
 "nbformat_minor": 2
}
